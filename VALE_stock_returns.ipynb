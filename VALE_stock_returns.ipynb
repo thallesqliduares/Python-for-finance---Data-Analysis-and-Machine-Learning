{
  "nbformat": 4,
  "nbformat_minor": 0,
  "metadata": {
    "colab": {
      "provenance": []
    },
    "kernelspec": {
      "name": "python3",
      "display_name": "Python 3"
    },
    "language_info": {
      "name": "python"
    }
  },
  "cells": [
    {
      "cell_type": "markdown",
      "source": [
        "Taxa de retorno simples de um ativo"
      ],
      "metadata": {
        "id": "KswuBgRpY_WR"
      }
    },
    {
      "cell_type": "code",
      "source": [
        "import numpy as np\n",
        "from pandas_datareader import data as wb\n",
        "import matplotlib.pyplot as plt\n"
      ],
      "metadata": {
        "id": "R8oux54vZDHF"
      },
      "execution_count": null,
      "outputs": []
    },
    {
      "cell_type": "code",
      "source": [
        "!pip install --upgrade pandas-datareader"
      ],
      "metadata": {
        "colab": {
          "base_uri": "https://localhost:8080/"
        },
        "id": "gNp3QEaOb470",
        "outputId": "d49c9b32-21c7-4cd0-bbf7-90a353019049"
      },
      "execution_count": null,
      "outputs": [
        {
          "output_type": "stream",
          "name": "stdout",
          "text": [
            "Looking in indexes: https://pypi.org/simple, https://us-python.pkg.dev/colab-wheels/public/simple/\n",
            "Requirement already satisfied: pandas-datareader in /usr/local/lib/python3.7/dist-packages (0.10.0)\n",
            "Requirement already satisfied: pandas>=0.23 in /usr/local/lib/python3.7/dist-packages (from pandas-datareader) (1.3.5)\n",
            "Requirement already satisfied: lxml in /usr/local/lib/python3.7/dist-packages (from pandas-datareader) (4.9.1)\n",
            "Requirement already satisfied: requests>=2.19.0 in /usr/local/lib/python3.7/dist-packages (from pandas-datareader) (2.23.0)\n",
            "Requirement already satisfied: python-dateutil>=2.7.3 in /usr/local/lib/python3.7/dist-packages (from pandas>=0.23->pandas-datareader) (2.8.2)\n",
            "Requirement already satisfied: pytz>=2017.3 in /usr/local/lib/python3.7/dist-packages (from pandas>=0.23->pandas-datareader) (2022.5)\n",
            "Requirement already satisfied: numpy>=1.17.3 in /usr/local/lib/python3.7/dist-packages (from pandas>=0.23->pandas-datareader) (1.21.6)\n",
            "Requirement already satisfied: six>=1.5 in /usr/local/lib/python3.7/dist-packages (from python-dateutil>=2.7.3->pandas>=0.23->pandas-datareader) (1.15.0)\n",
            "Requirement already satisfied: idna<3,>=2.5 in /usr/local/lib/python3.7/dist-packages (from requests>=2.19.0->pandas-datareader) (2.10)\n",
            "Requirement already satisfied: urllib3!=1.25.0,!=1.25.1,<1.26,>=1.21.1 in /usr/local/lib/python3.7/dist-packages (from requests>=2.19.0->pandas-datareader) (1.24.3)\n",
            "Requirement already satisfied: chardet<4,>=3.0.2 in /usr/local/lib/python3.7/dist-packages (from requests>=2.19.0->pandas-datareader) (3.0.4)\n",
            "Requirement already satisfied: certifi>=2017.4.17 in /usr/local/lib/python3.7/dist-packages (from requests>=2.19.0->pandas-datareader) (2022.9.24)\n"
          ]
        }
      ]
    },
    {
      "cell_type": "code",
      "source": [
        "import pandas_datareader"
      ],
      "metadata": {
        "id": "aiFA0ruzcW8s"
      },
      "execution_count": null,
      "outputs": []
    },
    {
      "cell_type": "markdown",
      "source": [
        "Upload database"
      ],
      "metadata": {
        "id": "cHZeO78CZeyT"
      }
    },
    {
      "cell_type": "code",
      "source": [
        "db=wb.DataReader('VALE', data_source='yahoo', start='2000-1-1')"
      ],
      "metadata": {
        "id": "Gf_tdRsdaXTn"
      },
      "execution_count": null,
      "outputs": []
    },
    {
      "cell_type": "markdown",
      "source": [
        "Overview of descriptive statistics"
      ],
      "metadata": {
        "id": "H4a7UwEicu1_"
      }
    },
    {
      "cell_type": "code",
      "source": [
        "db.describe()"
      ],
      "metadata": {
        "colab": {
          "base_uri": "https://localhost:8080/",
          "height": 300
        },
        "id": "xc2I5RAmcm_b",
        "outputId": "2b1d1511-9814-4b31-dfd9-1a93f5be14a3"
      },
      "execution_count": null,
      "outputs": [
        {
          "output_type": "execute_result",
          "data": {
            "text/plain": [
              "              High          Low         Open        Close        Volume  \\\n",
              "count  5191.000000  5191.000000  5191.000000  5191.000000  5.191000e+03   \n",
              "mean     14.707103    14.244250    14.489953    14.481582  2.200324e+07   \n",
              "std       9.047663     8.776604     8.930400     8.918667  1.327180e+07   \n",
              "min       1.845000     1.804167     1.804167     1.812500  0.000000e+00   \n",
              "25%       8.050000     7.760000     7.900000     7.901250  1.334665e+07   \n",
              "50%      13.200000    12.830000    13.030000    13.020000  2.033260e+07   \n",
              "75%      19.345000    18.709999    19.020000    19.059999  2.838665e+07   \n",
              "max      44.150002    43.040001    44.139999    43.910000  1.574684e+08   \n",
              "\n",
              "         Adj Close  \n",
              "count  5191.000000  \n",
              "mean      8.801540  \n",
              "std       5.075125  \n",
              "min       0.746099  \n",
              "25%       4.663036  \n",
              "50%       8.854082  \n",
              "75%      12.665243  \n",
              "max      21.827650  "
            ],
            "text/html": [
              "\n",
              "  <div id=\"df-39c55cc2-2f57-48c5-b724-ca3accf1c9c6\">\n",
              "    <div class=\"colab-df-container\">\n",
              "      <div>\n",
              "<style scoped>\n",
              "    .dataframe tbody tr th:only-of-type {\n",
              "        vertical-align: middle;\n",
              "    }\n",
              "\n",
              "    .dataframe tbody tr th {\n",
              "        vertical-align: top;\n",
              "    }\n",
              "\n",
              "    .dataframe thead th {\n",
              "        text-align: right;\n",
              "    }\n",
              "</style>\n",
              "<table border=\"1\" class=\"dataframe\">\n",
              "  <thead>\n",
              "    <tr style=\"text-align: right;\">\n",
              "      <th></th>\n",
              "      <th>High</th>\n",
              "      <th>Low</th>\n",
              "      <th>Open</th>\n",
              "      <th>Close</th>\n",
              "      <th>Volume</th>\n",
              "      <th>Adj Close</th>\n",
              "    </tr>\n",
              "  </thead>\n",
              "  <tbody>\n",
              "    <tr>\n",
              "      <th>count</th>\n",
              "      <td>5191.000000</td>\n",
              "      <td>5191.000000</td>\n",
              "      <td>5191.000000</td>\n",
              "      <td>5191.000000</td>\n",
              "      <td>5.191000e+03</td>\n",
              "      <td>5191.000000</td>\n",
              "    </tr>\n",
              "    <tr>\n",
              "      <th>mean</th>\n",
              "      <td>14.707103</td>\n",
              "      <td>14.244250</td>\n",
              "      <td>14.489953</td>\n",
              "      <td>14.481582</td>\n",
              "      <td>2.200324e+07</td>\n",
              "      <td>8.801540</td>\n",
              "    </tr>\n",
              "    <tr>\n",
              "      <th>std</th>\n",
              "      <td>9.047663</td>\n",
              "      <td>8.776604</td>\n",
              "      <td>8.930400</td>\n",
              "      <td>8.918667</td>\n",
              "      <td>1.327180e+07</td>\n",
              "      <td>5.075125</td>\n",
              "    </tr>\n",
              "    <tr>\n",
              "      <th>min</th>\n",
              "      <td>1.845000</td>\n",
              "      <td>1.804167</td>\n",
              "      <td>1.804167</td>\n",
              "      <td>1.812500</td>\n",
              "      <td>0.000000e+00</td>\n",
              "      <td>0.746099</td>\n",
              "    </tr>\n",
              "    <tr>\n",
              "      <th>25%</th>\n",
              "      <td>8.050000</td>\n",
              "      <td>7.760000</td>\n",
              "      <td>7.900000</td>\n",
              "      <td>7.901250</td>\n",
              "      <td>1.334665e+07</td>\n",
              "      <td>4.663036</td>\n",
              "    </tr>\n",
              "    <tr>\n",
              "      <th>50%</th>\n",
              "      <td>13.200000</td>\n",
              "      <td>12.830000</td>\n",
              "      <td>13.030000</td>\n",
              "      <td>13.020000</td>\n",
              "      <td>2.033260e+07</td>\n",
              "      <td>8.854082</td>\n",
              "    </tr>\n",
              "    <tr>\n",
              "      <th>75%</th>\n",
              "      <td>19.345000</td>\n",
              "      <td>18.709999</td>\n",
              "      <td>19.020000</td>\n",
              "      <td>19.059999</td>\n",
              "      <td>2.838665e+07</td>\n",
              "      <td>12.665243</td>\n",
              "    </tr>\n",
              "    <tr>\n",
              "      <th>max</th>\n",
              "      <td>44.150002</td>\n",
              "      <td>43.040001</td>\n",
              "      <td>44.139999</td>\n",
              "      <td>43.910000</td>\n",
              "      <td>1.574684e+08</td>\n",
              "      <td>21.827650</td>\n",
              "    </tr>\n",
              "  </tbody>\n",
              "</table>\n",
              "</div>\n",
              "      <button class=\"colab-df-convert\" onclick=\"convertToInteractive('df-39c55cc2-2f57-48c5-b724-ca3accf1c9c6')\"\n",
              "              title=\"Convert this dataframe to an interactive table.\"\n",
              "              style=\"display:none;\">\n",
              "        \n",
              "  <svg xmlns=\"http://www.w3.org/2000/svg\" height=\"24px\"viewBox=\"0 0 24 24\"\n",
              "       width=\"24px\">\n",
              "    <path d=\"M0 0h24v24H0V0z\" fill=\"none\"/>\n",
              "    <path d=\"M18.56 5.44l.94 2.06.94-2.06 2.06-.94-2.06-.94-.94-2.06-.94 2.06-2.06.94zm-11 1L8.5 8.5l.94-2.06 2.06-.94-2.06-.94L8.5 2.5l-.94 2.06-2.06.94zm10 10l.94 2.06.94-2.06 2.06-.94-2.06-.94-.94-2.06-.94 2.06-2.06.94z\"/><path d=\"M17.41 7.96l-1.37-1.37c-.4-.4-.92-.59-1.43-.59-.52 0-1.04.2-1.43.59L10.3 9.45l-7.72 7.72c-.78.78-.78 2.05 0 2.83L4 21.41c.39.39.9.59 1.41.59.51 0 1.02-.2 1.41-.59l7.78-7.78 2.81-2.81c.8-.78.8-2.07 0-2.86zM5.41 20L4 18.59l7.72-7.72 1.47 1.35L5.41 20z\"/>\n",
              "  </svg>\n",
              "      </button>\n",
              "      \n",
              "  <style>\n",
              "    .colab-df-container {\n",
              "      display:flex;\n",
              "      flex-wrap:wrap;\n",
              "      gap: 12px;\n",
              "    }\n",
              "\n",
              "    .colab-df-convert {\n",
              "      background-color: #E8F0FE;\n",
              "      border: none;\n",
              "      border-radius: 50%;\n",
              "      cursor: pointer;\n",
              "      display: none;\n",
              "      fill: #1967D2;\n",
              "      height: 32px;\n",
              "      padding: 0 0 0 0;\n",
              "      width: 32px;\n",
              "    }\n",
              "\n",
              "    .colab-df-convert:hover {\n",
              "      background-color: #E2EBFA;\n",
              "      box-shadow: 0px 1px 2px rgba(60, 64, 67, 0.3), 0px 1px 3px 1px rgba(60, 64, 67, 0.15);\n",
              "      fill: #174EA6;\n",
              "    }\n",
              "\n",
              "    [theme=dark] .colab-df-convert {\n",
              "      background-color: #3B4455;\n",
              "      fill: #D2E3FC;\n",
              "    }\n",
              "\n",
              "    [theme=dark] .colab-df-convert:hover {\n",
              "      background-color: #434B5C;\n",
              "      box-shadow: 0px 1px 3px 1px rgba(0, 0, 0, 0.15);\n",
              "      filter: drop-shadow(0px 1px 2px rgba(0, 0, 0, 0.3));\n",
              "      fill: #FFFFFF;\n",
              "    }\n",
              "  </style>\n",
              "\n",
              "      <script>\n",
              "        const buttonEl =\n",
              "          document.querySelector('#df-39c55cc2-2f57-48c5-b724-ca3accf1c9c6 button.colab-df-convert');\n",
              "        buttonEl.style.display =\n",
              "          google.colab.kernel.accessAllowed ? 'block' : 'none';\n",
              "\n",
              "        async function convertToInteractive(key) {\n",
              "          const element = document.querySelector('#df-39c55cc2-2f57-48c5-b724-ca3accf1c9c6');\n",
              "          const dataTable =\n",
              "            await google.colab.kernel.invokeFunction('convertToInteractive',\n",
              "                                                     [key], {});\n",
              "          if (!dataTable) return;\n",
              "\n",
              "          const docLinkHtml = 'Like what you see? Visit the ' +\n",
              "            '<a target=\"_blank\" href=https://colab.research.google.com/notebooks/data_table.ipynb>data table notebook</a>'\n",
              "            + ' to learn more about interactive tables.';\n",
              "          element.innerHTML = '';\n",
              "          dataTable['output_type'] = 'display_data';\n",
              "          await google.colab.output.renderOutput(dataTable, element);\n",
              "          const docLink = document.createElement('div');\n",
              "          docLink.innerHTML = docLinkHtml;\n",
              "          element.appendChild(docLink);\n",
              "        }\n",
              "      </script>\n",
              "    </div>\n",
              "  </div>\n",
              "  "
            ]
          },
          "metadata": {},
          "execution_count": 5
        }
      ]
    },
    {
      "cell_type": "markdown",
      "source": [
        "Simple return"
      ],
      "metadata": {
        "id": "lsg78bCQdVZv"
      }
    },
    {
      "cell_type": "code",
      "source": [
        "db['simple_return']=(db['Adj Close']/db['Adj Close'].shift(1))-1\n",
        "\n",
        "db['simple_return']\n"
      ],
      "metadata": {
        "colab": {
          "base_uri": "https://localhost:8080/"
        },
        "id": "ZBkzP_c4dWxW",
        "outputId": "c6947035-737f-40fb-89d7-6e1919e8d4c9"
      },
      "execution_count": null,
      "outputs": [
        {
          "output_type": "execute_result",
          "data": {
            "text/plain": [
              "Date\n",
              "2002-03-21         NaN\n",
              "2002-03-22   -0.031481\n",
              "2002-03-25    0.000000\n",
              "2002-03-26    0.026386\n",
              "2002-03-27    0.015276\n",
              "                ...   \n",
              "2022-10-25    0.003704\n",
              "2022-10-26    0.014022\n",
              "2022-10-27   -0.026929\n",
              "2022-10-28   -0.054600\n",
              "2022-10-31    0.021361\n",
              "Name: simple_return, Length: 5191, dtype: float64"
            ]
          },
          "metadata": {},
          "execution_count": 6
        }
      ]
    },
    {
      "cell_type": "markdown",
      "source": [
        "Graphical analysis"
      ],
      "metadata": {
        "id": "0_xtFkjHelEb"
      }
    },
    {
      "cell_type": "code",
      "source": [
        "db['simple_return'].plot(figsize=(8,5))"
      ],
      "metadata": {
        "colab": {
          "base_uri": "https://localhost:8080/",
          "height": 335
        },
        "id": "3e6cSRhJemhC",
        "outputId": "63b93a3b-e227-4e79-f584-d41462f435f0"
      },
      "execution_count": null,
      "outputs": [
        {
          "output_type": "execute_result",
          "data": {
            "text/plain": [
              "<matplotlib.axes._subplots.AxesSubplot at 0x7f1b1ef07390>"
            ]
          },
          "metadata": {},
          "execution_count": 7
        },
        {
          "output_type": "display_data",
          "data": {
            "text/plain": [
              "<Figure size 576x360 with 1 Axes>"
            ],
            "image/png": "[encoded data removed]"
          },
          "metadata": {
            "needs_background": "light"
          }
        }
      ]
    },
    {
      "cell_type": "markdown",
      "source": [
        "Average return"
      ],
      "metadata": {
        "id": "BpqCWY2Kezkx"
      }
    },
    {
      "cell_type": "code",
      "source": [
        "avg_rtn=db['simple_return'].mean()*250\n",
        "\n",
        "str(round(avg_rtn,4)*100)+'%'"
      ],
      "metadata": {
        "colab": {
          "base_uri": "https://localhost:8080/",
          "height": 36
        },
        "id": "r337MuYJe1xg",
        "outputId": "eb07e9e7-7b52-45be-ac76-72e382efa41e"
      },
      "execution_count": null,
      "outputs": [
        {
          "output_type": "execute_result",
          "data": {
            "text/plain": [
              "'24.02%'"
            ],
            "application/vnd.google.colaboratory.intrinsic+json": {
              "type": "string"
            }
          },
          "metadata": {},
          "execution_count": 8
        }
      ]
    },
    {
      "cell_type": "markdown",
      "source": [
        "logarithmic return"
      ],
      "metadata": {
        "id": "pp-OWUSHjxCq"
      }
    },
    {
      "cell_type": "code",
      "source": [
        "db['log_return']=np.log(db['Adj Close']/db['Adj Close'].shift(1))\n",
        "\n",
        "db['log_return']"
      ],
      "metadata": {
        "colab": {
          "base_uri": "https://localhost:8080/"
        },
        "id": "j5mS8atPj91K",
        "outputId": "a1f4c537-f187-487a-9668-6c70a6ed365a"
      },
      "execution_count": null,
      "outputs": [
        {
          "output_type": "execute_result",
          "data": {
            "text/plain": [
              "Date\n",
              "2002-03-21         NaN\n",
              "2002-03-22   -0.031988\n",
              "2002-03-25    0.000000\n",
              "2002-03-26    0.026044\n",
              "2002-03-27    0.015160\n",
              "                ...   \n",
              "2022-10-25    0.003697\n",
              "2022-10-26    0.013925\n",
              "2022-10-27   -0.027298\n",
              "2022-10-28   -0.056147\n",
              "2022-10-31    0.021136\n",
              "Name: log_return, Length: 5191, dtype: float64"
            ]
          },
          "metadata": {},
          "execution_count": 11
        }
      ]
    },
    {
      "cell_type": "markdown",
      "source": [
        "Graphical Analysis"
      ],
      "metadata": {
        "id": "BRePJv6Pk05C"
      }
    },
    {
      "cell_type": "code",
      "source": [
        "db['log_return'].plot(figsize(8,5))"
      ],
      "metadata": {
        "colab": {
          "base_uri": "https://localhost:8080/",
          "height": 335
        },
        "id": "HlHBiU5-k25v",
        "outputId": "b5eb5fb7-de79-4877-de44-4efa0c4fe656"
      },
      "execution_count": null,
      "outputs": [
        {
          "output_type": "execute_result",
          "data": {
            "text/plain": [
              "<matplotlib.axes._subplots.AxesSubplot at 0x7f1b1db98dd0>"
            ]
          },
          "metadata": {},
          "execution_count": 14
        },
        {
          "output_type": "display_data",
          "data": {
            "text/plain": [
              "<Figure size 576x360 with 1 Axes>"
            ],
            "image/png": "[encoded data removed]"
          },
          "metadata": {
            "needs_background": "light"
          }
        }
      ]
    },
    {
      "cell_type": "markdown",
      "source": [
        "Logarithmic mean return"
      ],
      "metadata": {
        "id": "nPGyqIx6lhsi"
      }
    },
    {
      "cell_type": "code",
      "source": [
        "log_return_mean=(db['log_return'].mean()*250)*100\n",
        "\n",
        "round(log_return_mean,2)"
      ],
      "metadata": {
        "colab": {
          "base_uri": "https://localhost:8080/"
        },
        "id": "4vVVBTavlnCz",
        "outputId": "08ee44a2-8dca-4495-febc-59ef9e8b974d"
      },
      "execution_count": null,
      "outputs": [
        {
          "output_type": "execute_result",
          "data": {
            "text/plain": [
              "12.69"
            ]
          },
          "metadata": {},
          "execution_count": 26
        }
      ]
    },
    {
      "cell_type": "markdown",
      "source": [],
      "metadata": {
        "id": "QgCeWaq6lbfW"
      }
    }
  ]
}
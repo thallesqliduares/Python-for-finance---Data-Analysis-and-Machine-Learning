{
  "nbformat": 4,
  "nbformat_minor": 0,
  "metadata": {
    "colab": {
      "provenance": []
    },
    "kernelspec": {
      "name": "python3",
      "display_name": "Python 3"
    },
    "language_info": {
      "name": "python"
    }
  },
  "cells": [
    {
      "cell_type": "code",
      "source": [
        "from google.colab import drive\n",
        "\n",
        "drive.mount('/content/drive')"
      ],
      "metadata": {
        "colab": {
          "base_uri": "https://localhost:8080/"
        },
        "id": "3UbaF5gAwmpE",
        "outputId": "d1fccf46-b7c1-446c-c060-ed7d58f5e45e"
      },
      "execution_count": 1,
      "outputs": [
        {
          "output_type": "stream",
          "name": "stdout",
          "text": [
            "Mounted at /content/drive\n"
          ]
        }
      ]
    },
    {
      "cell_type": "markdown",
      "source": [
        "Upload bibliotecas"
      ],
      "metadata": {
        "id": "ogJT74ZQOljO"
      }
    },
    {
      "cell_type": "code",
      "source": [
        "import pandas as pd\n",
        "import numpy as np\n",
        "import plotly.express as px"
      ],
      "metadata": {
        "id": "2wAxDoBOO3It"
      },
      "execution_count": 2,
      "outputs": []
    },
    {
      "cell_type": "markdown",
      "source": [
        "Upload base de dados"
      ],
      "metadata": {
        "id": "sf2TRLJSO7pl"
      }
    },
    {
      "cell_type": "code",
      "source": [
        "dataset= pd.read_csv('/content/drive/My Drive/Colab Notebooks/acoes.csv')\n",
        "dataset\n",
        "\n",
        "dataset.drop(labels = ['Date'], axis = 1, inplace = True)"
      ],
      "metadata": {
        "id": "DOSVTOvix0Z6"
      },
      "execution_count": 3,
      "outputs": []
    },
    {
      "cell_type": "markdown",
      "source": [
        "Normalização da base de dados"
      ],
      "metadata": {
        "id": "BaJseZCjPVx2"
      }
    },
    {
      "cell_type": "code",
      "source": [
        "dataset_normalizado = dataset.copy()\n",
        "for i in dataset.columns:\n",
        "  dataset_normalizado[i] = dataset[i] / dataset[i][0]\n",
        "dataset_normalizado"
      ],
      "metadata": {
        "colab": {
          "base_uri": "https://localhost:8080/",
          "height": 424
        },
        "id": "bmwzBHWjPYaS",
        "outputId": "dbf2ad77-3e4f-4a57-df6b-e615d94e7605"
      },
      "execution_count": 4,
      "outputs": [
        {
          "output_type": "execute_result",
          "data": {
            "text/plain": [
              "          ABEV      ODPV       CCR     PETBR        BB      BOVA\n",
              "0     1.000000  1.000000  1.000000  1.000000  1.000000  1.000000\n",
              "1     0.981898  1.026681  0.971467  0.914530  0.979249  0.980110\n",
              "2     1.019351  1.019210  0.985734  0.884615  0.992936  0.985612\n",
              "3     1.033708  1.034152  1.059783  0.926282  1.036645  1.018832\n",
              "4     1.032459  1.030950  1.072011  0.986111  1.040177  1.026449\n",
              "...        ...       ...       ...       ...       ...       ...\n",
              "1915  0.955056  0.995731  0.920516  3.318376  1.759382  2.245239\n",
              "1916  0.953184  0.971185  0.920516  3.288462  1.739514  2.234448\n",
              "1917  0.965668  0.985059  0.938179  3.340812  1.773951  2.289886\n",
              "1918  0.983770  1.002135  0.930706  3.321581  1.800883  2.303216\n",
              "1919  0.972534       NaN  0.926630  3.314103  1.797793  2.286289\n",
              "\n",
              "[1920 rows x 6 columns]"
            ],
            "text/html": [
              "\n",
              "  <div id=\"df-44c3e8b3-8536-47a1-a7ac-bed28cc220c8\">\n",
              "    <div class=\"colab-df-container\">\n",
              "      <div>\n",
              "<style scoped>\n",
              "    .dataframe tbody tr th:only-of-type {\n",
              "        vertical-align: middle;\n",
              "    }\n",
              "\n",
              "    .dataframe tbody tr th {\n",
              "        vertical-align: top;\n",
              "    }\n",
              "\n",
              "    .dataframe thead th {\n",
              "        text-align: right;\n",
              "    }\n",
              "</style>\n",
              "<table border=\"1\" class=\"dataframe\">\n",
              "  <thead>\n",
              "    <tr style=\"text-align: right;\">\n",
              "      <th></th>\n",
              "      <th>ABEV</th>\n",
              "      <th>ODPV</th>\n",
              "      <th>CCR</th>\n",
              "      <th>PETBR</th>\n",
              "      <th>BB</th>\n",
              "      <th>BOVA</th>\n",
              "    </tr>\n",
              "  </thead>\n",
              "  <tbody>\n",
              "    <tr>\n",
              "      <th>0</th>\n",
              "      <td>1.000000</td>\n",
              "      <td>1.000000</td>\n",
              "      <td>1.000000</td>\n",
              "      <td>1.000000</td>\n",
              "      <td>1.000000</td>\n",
              "      <td>1.000000</td>\n",
              "    </tr>\n",
              "    <tr>\n",
              "      <th>1</th>\n",
              "      <td>0.981898</td>\n",
              "      <td>1.026681</td>\n",
              "      <td>0.971467</td>\n",
              "      <td>0.914530</td>\n",
              "      <td>0.979249</td>\n",
              "      <td>0.980110</td>\n",
              "    </tr>\n",
              "    <tr>\n",
              "      <th>2</th>\n",
              "      <td>1.019351</td>\n",
              "      <td>1.019210</td>\n",
              "      <td>0.985734</td>\n",
              "      <td>0.884615</td>\n",
              "      <td>0.992936</td>\n",
              "      <td>0.985612</td>\n",
              "    </tr>\n",
              "    <tr>\n",
              "      <th>3</th>\n",
              "      <td>1.033708</td>\n",
              "      <td>1.034152</td>\n",
              "      <td>1.059783</td>\n",
              "      <td>0.926282</td>\n",
              "      <td>1.036645</td>\n",
              "      <td>1.018832</td>\n",
              "    </tr>\n",
              "    <tr>\n",
              "      <th>4</th>\n",
              "      <td>1.032459</td>\n",
              "      <td>1.030950</td>\n",
              "      <td>1.072011</td>\n",
              "      <td>0.986111</td>\n",
              "      <td>1.040177</td>\n",
              "      <td>1.026449</td>\n",
              "    </tr>\n",
              "    <tr>\n",
              "      <th>...</th>\n",
              "      <td>...</td>\n",
              "      <td>...</td>\n",
              "      <td>...</td>\n",
              "      <td>...</td>\n",
              "      <td>...</td>\n",
              "      <td>...</td>\n",
              "    </tr>\n",
              "    <tr>\n",
              "      <th>1915</th>\n",
              "      <td>0.955056</td>\n",
              "      <td>0.995731</td>\n",
              "      <td>0.920516</td>\n",
              "      <td>3.318376</td>\n",
              "      <td>1.759382</td>\n",
              "      <td>2.245239</td>\n",
              "    </tr>\n",
              "    <tr>\n",
              "      <th>1916</th>\n",
              "      <td>0.953184</td>\n",
              "      <td>0.971185</td>\n",
              "      <td>0.920516</td>\n",
              "      <td>3.288462</td>\n",
              "      <td>1.739514</td>\n",
              "      <td>2.234448</td>\n",
              "    </tr>\n",
              "    <tr>\n",
              "      <th>1917</th>\n",
              "      <td>0.965668</td>\n",
              "      <td>0.985059</td>\n",
              "      <td>0.938179</td>\n",
              "      <td>3.340812</td>\n",
              "      <td>1.773951</td>\n",
              "      <td>2.289886</td>\n",
              "    </tr>\n",
              "    <tr>\n",
              "      <th>1918</th>\n",
              "      <td>0.983770</td>\n",
              "      <td>1.002135</td>\n",
              "      <td>0.930706</td>\n",
              "      <td>3.321581</td>\n",
              "      <td>1.800883</td>\n",
              "      <td>2.303216</td>\n",
              "    </tr>\n",
              "    <tr>\n",
              "      <th>1919</th>\n",
              "      <td>0.972534</td>\n",
              "      <td>NaN</td>\n",
              "      <td>0.926630</td>\n",
              "      <td>3.314103</td>\n",
              "      <td>1.797793</td>\n",
              "      <td>2.286289</td>\n",
              "    </tr>\n",
              "  </tbody>\n",
              "</table>\n",
              "<p>1920 rows × 6 columns</p>\n",
              "</div>\n",
              "      <button class=\"colab-df-convert\" onclick=\"convertToInteractive('df-44c3e8b3-8536-47a1-a7ac-bed28cc220c8')\"\n",
              "              title=\"Convert this dataframe to an interactive table.\"\n",
              "              style=\"display:none;\">\n",
              "        \n",
              "  <svg xmlns=\"http://www.w3.org/2000/svg\" height=\"24px\"viewBox=\"0 0 24 24\"\n",
              "       width=\"24px\">\n",
              "    <path d=\"M0 0h24v24H0V0z\" fill=\"none\"/>\n",
              "    <path d=\"M18.56 5.44l.94 2.06.94-2.06 2.06-.94-2.06-.94-.94-2.06-.94 2.06-2.06.94zm-11 1L8.5 8.5l.94-2.06 2.06-.94-2.06-.94L8.5 2.5l-.94 2.06-2.06.94zm10 10l.94 2.06.94-2.06 2.06-.94-2.06-.94-.94-2.06-.94 2.06-2.06.94z\"/><path d=\"M17.41 7.96l-1.37-1.37c-.4-.4-.92-.59-1.43-.59-.52 0-1.04.2-1.43.59L10.3 9.45l-7.72 7.72c-.78.78-.78 2.05 0 2.83L4 21.41c.39.39.9.59 1.41.59.51 0 1.02-.2 1.41-.59l7.78-7.78 2.81-2.81c.8-.78.8-2.07 0-2.86zM5.41 20L4 18.59l7.72-7.72 1.47 1.35L5.41 20z\"/>\n",
              "  </svg>\n",
              "      </button>\n",
              "      \n",
              "  <style>\n",
              "    .colab-df-container {\n",
              "      display:flex;\n",
              "      flex-wrap:wrap;\n",
              "      gap: 12px;\n",
              "    }\n",
              "\n",
              "    .colab-df-convert {\n",
              "      background-color: #E8F0FE;\n",
              "      border: none;\n",
              "      border-radius: 50%;\n",
              "      cursor: pointer;\n",
              "      display: none;\n",
              "      fill: #1967D2;\n",
              "      height: 32px;\n",
              "      padding: 0 0 0 0;\n",
              "      width: 32px;\n",
              "    }\n",
              "\n",
              "    .colab-df-convert:hover {\n",
              "      background-color: #E2EBFA;\n",
              "      box-shadow: 0px 1px 2px rgba(60, 64, 67, 0.3), 0px 1px 3px 1px rgba(60, 64, 67, 0.15);\n",
              "      fill: #174EA6;\n",
              "    }\n",
              "\n",
              "    [theme=dark] .colab-df-convert {\n",
              "      background-color: #3B4455;\n",
              "      fill: #D2E3FC;\n",
              "    }\n",
              "\n",
              "    [theme=dark] .colab-df-convert:hover {\n",
              "      background-color: #434B5C;\n",
              "      box-shadow: 0px 1px 3px 1px rgba(0, 0, 0, 0.15);\n",
              "      filter: drop-shadow(0px 1px 2px rgba(0, 0, 0, 0.3));\n",
              "      fill: #FFFFFF;\n",
              "    }\n",
              "  </style>\n",
              "\n",
              "      <script>\n",
              "        const buttonEl =\n",
              "          document.querySelector('#df-44c3e8b3-8536-47a1-a7ac-bed28cc220c8 button.colab-df-convert');\n",
              "        buttonEl.style.display =\n",
              "          google.colab.kernel.accessAllowed ? 'block' : 'none';\n",
              "\n",
              "        async function convertToInteractive(key) {\n",
              "          const element = document.querySelector('#df-44c3e8b3-8536-47a1-a7ac-bed28cc220c8');\n",
              "          const dataTable =\n",
              "            await google.colab.kernel.invokeFunction('convertToInteractive',\n",
              "                                                     [key], {});\n",
              "          if (!dataTable) return;\n",
              "\n",
              "          const docLinkHtml = 'Like what you see? Visit the ' +\n",
              "            '<a target=\"_blank\" href=https://colab.research.google.com/notebooks/data_table.ipynb>data table notebook</a>'\n",
              "            + ' to learn more about interactive tables.';\n",
              "          element.innerHTML = '';\n",
              "          dataTable['output_type'] = 'display_data';\n",
              "          await google.colab.output.renderOutput(dataTable, element);\n",
              "          const docLink = document.createElement('div');\n",
              "          docLink.innerHTML = docLinkHtml;\n",
              "          element.appendChild(docLink);\n",
              "        }\n",
              "      </script>\n",
              "    </div>\n",
              "  </div>\n",
              "  "
            ]
          },
          "metadata": {},
          "execution_count": 4
        }
      ]
    },
    {
      "cell_type": "code",
      "source": [
        "dataset_taxa_retorno = (dataset_normalizado / dataset_normalizado.shift(1)) - 1\n",
        "dataset_taxa_retorno"
      ],
      "metadata": {
        "colab": {
          "base_uri": "https://localhost:8080/",
          "height": 424
        },
        "id": "CyGpUsBmPfPg",
        "outputId": "65ba53eb-f759-4b7f-f601-30f507c8e83b"
      },
      "execution_count": 5,
      "outputs": [
        {
          "output_type": "execute_result",
          "data": {
            "text/plain": [
              "          ABEV      ODPV       CCR     PETBR        BB      BOVA\n",
              "0          NaN       NaN       NaN       NaN       NaN       NaN\n",
              "1    -0.018102  0.026681 -0.028533 -0.085470 -0.020751 -0.019890\n",
              "2     0.038144 -0.007276  0.014685 -0.032710  0.013977  0.005613\n",
              "3     0.014084  0.014660  0.075121  0.047101  0.044020  0.033705\n",
              "4    -0.001208 -0.003096  0.011538  0.064590  0.003407  0.007477\n",
              "...        ...       ...       ...       ...       ...       ...\n",
              "1915 -0.005202  0.005388 -0.015977 -0.001928 -0.010184 -0.005995\n",
              "1916 -0.001961 -0.024652  0.000000 -0.009015 -0.011292 -0.004806\n",
              "1917  0.013098  0.014286  0.019188  0.015919  0.019797  0.024811\n",
              "1918  0.018746  0.017335 -0.007965 -0.005756  0.015182  0.005821\n",
              "1919 -0.011421       NaN -0.004380 -0.002252 -0.001716 -0.007350\n",
              "\n",
              "[1920 rows x 6 columns]"
            ],
            "text/html": [
              "\n",
              "  <div id=\"df-9dbb0361-18f4-42ce-a706-e22334536fa2\">\n",
              "    <div class=\"colab-df-container\">\n",
              "      <div>\n",
              "<style scoped>\n",
              "    .dataframe tbody tr th:only-of-type {\n",
              "        vertical-align: middle;\n",
              "    }\n",
              "\n",
              "    .dataframe tbody tr th {\n",
              "        vertical-align: top;\n",
              "    }\n",
              "\n",
              "    .dataframe thead th {\n",
              "        text-align: right;\n",
              "    }\n",
              "</style>\n",
              "<table border=\"1\" class=\"dataframe\">\n",
              "  <thead>\n",
              "    <tr style=\"text-align: right;\">\n",
              "      <th></th>\n",
              "      <th>ABEV</th>\n",
              "      <th>ODPV</th>\n",
              "      <th>CCR</th>\n",
              "      <th>PETBR</th>\n",
              "      <th>BB</th>\n",
              "      <th>BOVA</th>\n",
              "    </tr>\n",
              "  </thead>\n",
              "  <tbody>\n",
              "    <tr>\n",
              "      <th>0</th>\n",
              "      <td>NaN</td>\n",
              "      <td>NaN</td>\n",
              "      <td>NaN</td>\n",
              "      <td>NaN</td>\n",
              "      <td>NaN</td>\n",
              "      <td>NaN</td>\n",
              "    </tr>\n",
              "    <tr>\n",
              "      <th>1</th>\n",
              "      <td>-0.018102</td>\n",
              "      <td>0.026681</td>\n",
              "      <td>-0.028533</td>\n",
              "      <td>-0.085470</td>\n",
              "      <td>-0.020751</td>\n",
              "      <td>-0.019890</td>\n",
              "    </tr>\n",
              "    <tr>\n",
              "      <th>2</th>\n",
              "      <td>0.038144</td>\n",
              "      <td>-0.007276</td>\n",
              "      <td>0.014685</td>\n",
              "      <td>-0.032710</td>\n",
              "      <td>0.013977</td>\n",
              "      <td>0.005613</td>\n",
              "    </tr>\n",
              "    <tr>\n",
              "      <th>3</th>\n",
              "      <td>0.014084</td>\n",
              "      <td>0.014660</td>\n",
              "      <td>0.075121</td>\n",
              "      <td>0.047101</td>\n",
              "      <td>0.044020</td>\n",
              "      <td>0.033705</td>\n",
              "    </tr>\n",
              "    <tr>\n",
              "      <th>4</th>\n",
              "      <td>-0.001208</td>\n",
              "      <td>-0.003096</td>\n",
              "      <td>0.011538</td>\n",
              "      <td>0.064590</td>\n",
              "      <td>0.003407</td>\n",
              "      <td>0.007477</td>\n",
              "    </tr>\n",
              "    <tr>\n",
              "      <th>...</th>\n",
              "      <td>...</td>\n",
              "      <td>...</td>\n",
              "      <td>...</td>\n",
              "      <td>...</td>\n",
              "      <td>...</td>\n",
              "      <td>...</td>\n",
              "    </tr>\n",
              "    <tr>\n",
              "      <th>1915</th>\n",
              "      <td>-0.005202</td>\n",
              "      <td>0.005388</td>\n",
              "      <td>-0.015977</td>\n",
              "      <td>-0.001928</td>\n",
              "      <td>-0.010184</td>\n",
              "      <td>-0.005995</td>\n",
              "    </tr>\n",
              "    <tr>\n",
              "      <th>1916</th>\n",
              "      <td>-0.001961</td>\n",
              "      <td>-0.024652</td>\n",
              "      <td>0.000000</td>\n",
              "      <td>-0.009015</td>\n",
              "      <td>-0.011292</td>\n",
              "      <td>-0.004806</td>\n",
              "    </tr>\n",
              "    <tr>\n",
              "      <th>1917</th>\n",
              "      <td>0.013098</td>\n",
              "      <td>0.014286</td>\n",
              "      <td>0.019188</td>\n",
              "      <td>0.015919</td>\n",
              "      <td>0.019797</td>\n",
              "      <td>0.024811</td>\n",
              "    </tr>\n",
              "    <tr>\n",
              "      <th>1918</th>\n",
              "      <td>0.018746</td>\n",
              "      <td>0.017335</td>\n",
              "      <td>-0.007965</td>\n",
              "      <td>-0.005756</td>\n",
              "      <td>0.015182</td>\n",
              "      <td>0.005821</td>\n",
              "    </tr>\n",
              "    <tr>\n",
              "      <th>1919</th>\n",
              "      <td>-0.011421</td>\n",
              "      <td>NaN</td>\n",
              "      <td>-0.004380</td>\n",
              "      <td>-0.002252</td>\n",
              "      <td>-0.001716</td>\n",
              "      <td>-0.007350</td>\n",
              "    </tr>\n",
              "  </tbody>\n",
              "</table>\n",
              "<p>1920 rows × 6 columns</p>\n",
              "</div>\n",
              "      <button class=\"colab-df-convert\" onclick=\"convertToInteractive('df-9dbb0361-18f4-42ce-a706-e22334536fa2')\"\n",
              "              title=\"Convert this dataframe to an interactive table.\"\n",
              "              style=\"display:none;\">\n",
              "        \n",
              "  <svg xmlns=\"http://www.w3.org/2000/svg\" height=\"24px\"viewBox=\"0 0 24 24\"\n",
              "       width=\"24px\">\n",
              "    <path d=\"M0 0h24v24H0V0z\" fill=\"none\"/>\n",
              "    <path d=\"M18.56 5.44l.94 2.06.94-2.06 2.06-.94-2.06-.94-.94-2.06-.94 2.06-2.06.94zm-11 1L8.5 8.5l.94-2.06 2.06-.94-2.06-.94L8.5 2.5l-.94 2.06-2.06.94zm10 10l.94 2.06.94-2.06 2.06-.94-2.06-.94-.94-2.06-.94 2.06-2.06.94z\"/><path d=\"M17.41 7.96l-1.37-1.37c-.4-.4-.92-.59-1.43-.59-.52 0-1.04.2-1.43.59L10.3 9.45l-7.72 7.72c-.78.78-.78 2.05 0 2.83L4 21.41c.39.39.9.59 1.41.59.51 0 1.02-.2 1.41-.59l7.78-7.78 2.81-2.81c.8-.78.8-2.07 0-2.86zM5.41 20L4 18.59l7.72-7.72 1.47 1.35L5.41 20z\"/>\n",
              "  </svg>\n",
              "      </button>\n",
              "      \n",
              "  <style>\n",
              "    .colab-df-container {\n",
              "      display:flex;\n",
              "      flex-wrap:wrap;\n",
              "      gap: 12px;\n",
              "    }\n",
              "\n",
              "    .colab-df-convert {\n",
              "      background-color: #E8F0FE;\n",
              "      border: none;\n",
              "      border-radius: 50%;\n",
              "      cursor: pointer;\n",
              "      display: none;\n",
              "      fill: #1967D2;\n",
              "      height: 32px;\n",
              "      padding: 0 0 0 0;\n",
              "      width: 32px;\n",
              "    }\n",
              "\n",
              "    .colab-df-convert:hover {\n",
              "      background-color: #E2EBFA;\n",
              "      box-shadow: 0px 1px 2px rgba(60, 64, 67, 0.3), 0px 1px 3px 1px rgba(60, 64, 67, 0.15);\n",
              "      fill: #174EA6;\n",
              "    }\n",
              "\n",
              "    [theme=dark] .colab-df-convert {\n",
              "      background-color: #3B4455;\n",
              "      fill: #D2E3FC;\n",
              "    }\n",
              "\n",
              "    [theme=dark] .colab-df-convert:hover {\n",
              "      background-color: #434B5C;\n",
              "      box-shadow: 0px 1px 3px 1px rgba(0, 0, 0, 0.15);\n",
              "      filter: drop-shadow(0px 1px 2px rgba(0, 0, 0, 0.3));\n",
              "      fill: #FFFFFF;\n",
              "    }\n",
              "  </style>\n",
              "\n",
              "      <script>\n",
              "        const buttonEl =\n",
              "          document.querySelector('#df-9dbb0361-18f4-42ce-a706-e22334536fa2 button.colab-df-convert');\n",
              "        buttonEl.style.display =\n",
              "          google.colab.kernel.accessAllowed ? 'block' : 'none';\n",
              "\n",
              "        async function convertToInteractive(key) {\n",
              "          const element = document.querySelector('#df-9dbb0361-18f4-42ce-a706-e22334536fa2');\n",
              "          const dataTable =\n",
              "            await google.colab.kernel.invokeFunction('convertToInteractive',\n",
              "                                                     [key], {});\n",
              "          if (!dataTable) return;\n",
              "\n",
              "          const docLinkHtml = 'Like what you see? Visit the ' +\n",
              "            '<a target=\"_blank\" href=https://colab.research.google.com/notebooks/data_table.ipynb>data table notebook</a>'\n",
              "            + ' to learn more about interactive tables.';\n",
              "          element.innerHTML = '';\n",
              "          dataTable['output_type'] = 'display_data';\n",
              "          await google.colab.output.renderOutput(dataTable, element);\n",
              "          const docLink = document.createElement('div');\n",
              "          docLink.innerHTML = docLinkHtml;\n",
              "          element.appendChild(docLink);\n",
              "        }\n",
              "      </script>\n",
              "    </div>\n",
              "  </div>\n",
              "  "
            ]
          },
          "metadata": {},
          "execution_count": 5
        }
      ]
    },
    {
      "cell_type": "code",
      "source": [
        "dataset_taxa_retorno.fillna(0, inplace=True)\n",
        "dataset_taxa_retorno.head()"
      ],
      "metadata": {
        "colab": {
          "base_uri": "https://localhost:8080/",
          "height": 206
        },
        "id": "6xKSnbB3Pl5B",
        "outputId": "6ae76313-6f37-47e0-dccb-3b9c4efba664"
      },
      "execution_count": 6,
      "outputs": [
        {
          "output_type": "execute_result",
          "data": {
            "text/plain": [
              "       ABEV      ODPV       CCR     PETBR        BB      BOVA\n",
              "0  0.000000  0.000000  0.000000  0.000000  0.000000  0.000000\n",
              "1 -0.018102  0.026681 -0.028533 -0.085470 -0.020751 -0.019890\n",
              "2  0.038144 -0.007276  0.014685 -0.032710  0.013977  0.005613\n",
              "3  0.014084  0.014660  0.075121  0.047101  0.044020  0.033705\n",
              "4 -0.001208 -0.003096  0.011538  0.064590  0.003407  0.007477"
            ],
            "text/html": [
              "\n",
              "  <div id=\"df-56e65767-02e1-4974-86a3-ed7ca025c3db\">\n",
              "    <div class=\"colab-df-container\">\n",
              "      <div>\n",
              "<style scoped>\n",
              "    .dataframe tbody tr th:only-of-type {\n",
              "        vertical-align: middle;\n",
              "    }\n",
              "\n",
              "    .dataframe tbody tr th {\n",
              "        vertical-align: top;\n",
              "    }\n",
              "\n",
              "    .dataframe thead th {\n",
              "        text-align: right;\n",
              "    }\n",
              "</style>\n",
              "<table border=\"1\" class=\"dataframe\">\n",
              "  <thead>\n",
              "    <tr style=\"text-align: right;\">\n",
              "      <th></th>\n",
              "      <th>ABEV</th>\n",
              "      <th>ODPV</th>\n",
              "      <th>CCR</th>\n",
              "      <th>PETBR</th>\n",
              "      <th>BB</th>\n",
              "      <th>BOVA</th>\n",
              "    </tr>\n",
              "  </thead>\n",
              "  <tbody>\n",
              "    <tr>\n",
              "      <th>0</th>\n",
              "      <td>0.000000</td>\n",
              "      <td>0.000000</td>\n",
              "      <td>0.000000</td>\n",
              "      <td>0.000000</td>\n",
              "      <td>0.000000</td>\n",
              "      <td>0.000000</td>\n",
              "    </tr>\n",
              "    <tr>\n",
              "      <th>1</th>\n",
              "      <td>-0.018102</td>\n",
              "      <td>0.026681</td>\n",
              "      <td>-0.028533</td>\n",
              "      <td>-0.085470</td>\n",
              "      <td>-0.020751</td>\n",
              "      <td>-0.019890</td>\n",
              "    </tr>\n",
              "    <tr>\n",
              "      <th>2</th>\n",
              "      <td>0.038144</td>\n",
              "      <td>-0.007276</td>\n",
              "      <td>0.014685</td>\n",
              "      <td>-0.032710</td>\n",
              "      <td>0.013977</td>\n",
              "      <td>0.005613</td>\n",
              "    </tr>\n",
              "    <tr>\n",
              "      <th>3</th>\n",
              "      <td>0.014084</td>\n",
              "      <td>0.014660</td>\n",
              "      <td>0.075121</td>\n",
              "      <td>0.047101</td>\n",
              "      <td>0.044020</td>\n",
              "      <td>0.033705</td>\n",
              "    </tr>\n",
              "    <tr>\n",
              "      <th>4</th>\n",
              "      <td>-0.001208</td>\n",
              "      <td>-0.003096</td>\n",
              "      <td>0.011538</td>\n",
              "      <td>0.064590</td>\n",
              "      <td>0.003407</td>\n",
              "      <td>0.007477</td>\n",
              "    </tr>\n",
              "  </tbody>\n",
              "</table>\n",
              "</div>\n",
              "      <button class=\"colab-df-convert\" onclick=\"convertToInteractive('df-56e65767-02e1-4974-86a3-ed7ca025c3db')\"\n",
              "              title=\"Convert this dataframe to an interactive table.\"\n",
              "              style=\"display:none;\">\n",
              "        \n",
              "  <svg xmlns=\"http://www.w3.org/2000/svg\" height=\"24px\"viewBox=\"0 0 24 24\"\n",
              "       width=\"24px\">\n",
              "    <path d=\"M0 0h24v24H0V0z\" fill=\"none\"/>\n",
              "    <path d=\"M18.56 5.44l.94 2.06.94-2.06 2.06-.94-2.06-.94-.94-2.06-.94 2.06-2.06.94zm-11 1L8.5 8.5l.94-2.06 2.06-.94-2.06-.94L8.5 2.5l-.94 2.06-2.06.94zm10 10l.94 2.06.94-2.06 2.06-.94-2.06-.94-.94-2.06-.94 2.06-2.06.94z\"/><path d=\"M17.41 7.96l-1.37-1.37c-.4-.4-.92-.59-1.43-.59-.52 0-1.04.2-1.43.59L10.3 9.45l-7.72 7.72c-.78.78-.78 2.05 0 2.83L4 21.41c.39.39.9.59 1.41.59.51 0 1.02-.2 1.41-.59l7.78-7.78 2.81-2.81c.8-.78.8-2.07 0-2.86zM5.41 20L4 18.59l7.72-7.72 1.47 1.35L5.41 20z\"/>\n",
              "  </svg>\n",
              "      </button>\n",
              "      \n",
              "  <style>\n",
              "    .colab-df-container {\n",
              "      display:flex;\n",
              "      flex-wrap:wrap;\n",
              "      gap: 12px;\n",
              "    }\n",
              "\n",
              "    .colab-df-convert {\n",
              "      background-color: #E8F0FE;\n",
              "      border: none;\n",
              "      border-radius: 50%;\n",
              "      cursor: pointer;\n",
              "      display: none;\n",
              "      fill: #1967D2;\n",
              "      height: 32px;\n",
              "      padding: 0 0 0 0;\n",
              "      width: 32px;\n",
              "    }\n",
              "\n",
              "    .colab-df-convert:hover {\n",
              "      background-color: #E2EBFA;\n",
              "      box-shadow: 0px 1px 2px rgba(60, 64, 67, 0.3), 0px 1px 3px 1px rgba(60, 64, 67, 0.15);\n",
              "      fill: #174EA6;\n",
              "    }\n",
              "\n",
              "    [theme=dark] .colab-df-convert {\n",
              "      background-color: #3B4455;\n",
              "      fill: #D2E3FC;\n",
              "    }\n",
              "\n",
              "    [theme=dark] .colab-df-convert:hover {\n",
              "      background-color: #434B5C;\n",
              "      box-shadow: 0px 1px 3px 1px rgba(0, 0, 0, 0.15);\n",
              "      filter: drop-shadow(0px 1px 2px rgba(0, 0, 0, 0.3));\n",
              "      fill: #FFFFFF;\n",
              "    }\n",
              "  </style>\n",
              "\n",
              "      <script>\n",
              "        const buttonEl =\n",
              "          document.querySelector('#df-56e65767-02e1-4974-86a3-ed7ca025c3db button.colab-df-convert');\n",
              "        buttonEl.style.display =\n",
              "          google.colab.kernel.accessAllowed ? 'block' : 'none';\n",
              "\n",
              "        async function convertToInteractive(key) {\n",
              "          const element = document.querySelector('#df-56e65767-02e1-4974-86a3-ed7ca025c3db');\n",
              "          const dataTable =\n",
              "            await google.colab.kernel.invokeFunction('convertToInteractive',\n",
              "                                                     [key], {});\n",
              "          if (!dataTable) return;\n",
              "\n",
              "          const docLinkHtml = 'Like what you see? Visit the ' +\n",
              "            '<a target=\"_blank\" href=https://colab.research.google.com/notebooks/data_table.ipynb>data table notebook</a>'\n",
              "            + ' to learn more about interactive tables.';\n",
              "          element.innerHTML = '';\n",
              "          dataTable['output_type'] = 'display_data';\n",
              "          await google.colab.output.renderOutput(dataTable, element);\n",
              "          const docLink = document.createElement('div');\n",
              "          docLink.innerHTML = docLinkHtml;\n",
              "          element.appendChild(docLink);\n",
              "        }\n",
              "      </script>\n",
              "    </div>\n",
              "  </div>\n",
              "  "
            ]
          },
          "metadata": {},
          "execution_count": 6
        }
      ]
    },
    {
      "cell_type": "code",
      "source": [
        "#Anualizando o retorno\n",
        "\n",
        "dataset_taxa_retorno.mean() * 246"
      ],
      "metadata": {
        "colab": {
          "base_uri": "https://localhost:8080/"
        },
        "id": "NDiysnwJPpU4",
        "outputId": "1aaa0cdd-3e7f-464f-c59b-cb2d2abd02e4"
      },
      "execution_count": 7,
      "outputs": [
        {
          "output_type": "execute_result",
          "data": {
            "text/plain": [
              "ABEV     0.033976\n",
              "ODPV     0.049493\n",
              "CCR      0.072607\n",
              "PETBR    0.284057\n",
              "BB       0.170088\n",
              "BOVA     0.139135\n",
              "dtype: float64"
            ]
          },
          "metadata": {},
          "execution_count": 7
        }
      ]
    },
    {
      "cell_type": "markdown",
      "source": [
        "Cálculo do parâmetro BETA para um ativo"
      ],
      "metadata": {
        "id": "oZQ8X60kPyQg"
      }
    },
    {
      "cell_type": "code",
      "source": [
        "beta, alpha = np.polyfit(x = dataset_taxa_retorno['BOVA'], y = dataset_taxa_retorno['ABEV'], deg = 1)\n",
        "print('beta:', beta, 'alpha:', alpha, 'alpha (%):', alpha * 100)"
      ],
      "metadata": {
        "colab": {
          "base_uri": "https://localhost:8080/"
        },
        "id": "Iz7WMoHzvKgl",
        "outputId": "5f85e660-0415-4997-ca20-513d7d90fe33"
      },
      "execution_count": 10,
      "outputs": [
        {
          "output_type": "stream",
          "name": "stdout",
          "text": [
            "beta: 0.5992445683121849 alpha: -0.00020081194026752789 alpha (%): -0.020081194026752788\n"
          ]
        }
      ]
    },
    {
      "cell_type": "code",
      "source": [
        "figura = px.scatter(dataset_taxa_retorno, x = 'BOVA', y = 'ABEV', title = 'BOVA x ABEV')\n",
        "figura.add_scatter(x = dataset_taxa_retorno['BOVA'], y = beta * dataset_taxa_retorno['BOVA'] + alpha)\n",
        "figura.show()"
      ],
      "metadata": {
        "colab": {
          "base_uri": "https://localhost:8080/",
          "height": 542
        },
        "id": "f1zJuRFORLJH",
        "outputId": "2605f420-7a42-4c8a-cd06-c4d3aa03c5a2"
      },
      "execution_count": 11,
      "outputs": [
        {
          "output_type": "display_data",
          "data": {
            "text/html": [
              "<html>\n",
              "<head><meta charset=\"utf-8\" /></head>\n",
              "<body>\n",
              "    <div>            <script src=\"https://cdnjs.cloudflare.com/ajax/libs/mathjax/2.7.5/MathJax.js?config=TeX-AMS-MML_SVG\"></script><script type=\"text/javascript\">if (window.MathJax) {MathJax.Hub.Config({SVG: {font: \"STIX-Web\"}});}</script>                <script type=\"text/javascript\">window.PlotlyConfig = {MathJaxConfig: 'local'};</script>\n",
              "        <script src=\"https://cdn.plot.ly/plotly-2.8.3.min.js\"></script>                <div id=\"79f3bb8b-24ad-4d31-90e0-e1a8c22adf8a\" class=\"plotly-graph-div\" style=\"height:525px; width:100%;\"></div>            <script type=\"text/javascript\">                                    window.PLOTLYENV=window.PLOTLYENV || {};                                    if (document.getElementById(\"79f3bb8b-24ad-4d31-90e0-e1a8c22adf8a\")) {                    Plotly.newPlot(                        \"79f3bb8b-24ad-4d31-90e0-e1a8c22adf8a\",                        [{\"hovertemplate\":\"BOVA=%{x}<br>ABEV=%{y}<extra></extra>\",\"legendgroup\":\"\",\"marker\":{\"color\":\"#636efa\",\"symbol\":\"circle\"},\"mode\":\"markers\",\"name\":\"\",\"showlegend\":false,\"x\":[0.0,-0.01988994202483263,0.005613172235394481,0.033705445107507614,0.00747656872784952,-0.020202011464537706,-0.01472747667199803,-0.0040572802472165215,-0.003430528505702024,0.011187617531948302,0.012765924981299692,-0.027100780297953264,0.004534637837298128,0.027730028005880092,0.006483947912348853,-0.017040725540849455,-0.0023255943366989884,0.0031786719695732213,-0.02133498771182396,0.0010791978218103182,-0.01660199310113908,0.014470507313747216,0.029608794431185137,0.002728821783811286,0.002302713194420214,-0.012113655349120789,0.013107800039856787,-0.01585973185670375,-0.004452906809841339,0.025133126432390407,0.026179062820921528,0.010528456452515211,-0.002203979376635079,0.000803231247794356,-0.0008025865851701841,0.012249008427646757,-0.0009918515614339984,-0.0009928363076759927,-0.0059630897151412565,-0.00839828400403031,0.004839719252436092,-0.015251898621380877,-0.002445464288384991,-0.008171634722052068,-0.016477842422907174,-0.016753910723780963,0.012140568382570827,-0.0014730575368246956,-0.005057991034938869,0.0036009740931872702,0.032503103970304315,0.024121021041346724,-0.010978029018197222,0.015539868206249308,0.0021860216816111944,-0.007733479819321154,0.004996003106035651,-0.023463914967069566,-0.009163118659065828,0.02383887897759207,-0.006423117157454694,0.026262610849707935,0.013779542784496446,0.011650455808176252,0.0019194297840150476,0.0003831505262710255,0.0009574729201793364,0.007269964889751401,-0.0007597514599820832,-0.0015206582422836457,0.013706477011891316,-0.004131478323063376,-0.01093716820117785,-0.004003795641906671,0.015122455502441401,0.01904586384084106,0.017394496868686993,-0.01855220928076029,0.004447770247199001,-0.009594104251733349,0.017511151664772795,0.02215311100021955,0.010567729151720107,-0.017546931866340265,-0.001984495936242947,0.003253801629948816,0.0003603686083544222,-0.006123922006206484,-0.00743022553723427,0.00547743718373539,0.009442536056751383,-0.019787704103287118,-0.01027713995304047,-0.010940110314282103,0.003936990698761189,-0.011577944737965251,0.0013224956436921342,-0.014339590972324623,0.007848388863683997,-0.004938312035996262,-0.019851134331810072,0.0021421735855944313,0.022541777459186063,-0.011022387459722616,-0.012874749651333284,-0.002335973026666438,0.0019511897389479227,0.01947419726806765,-0.005157529148732909,-0.006720473819370243,-0.0019330847671754636,0.010652706288635017,-0.010348810125893837,0.01878391231928589,-0.007413027658694005,0.001531942062186431,-0.0007648358721005222,-0.0001913188261448706,-0.011291868949050543,0.013937305900692865,-0.016609444995059675,-0.0009706705239717062,-0.004275114844925265,0.005464456872072088,-0.012228281492965287,-0.004716012313773832,0.0015794277186063077,-0.010053189949442154,0.015531636008310645,0.009803921568627416,0.0038835099599892065,-0.006576405175444666,0.0031152617895386925,-0.014751594128061485,-0.012805313882484848,-0.003592103432116023,-0.011415976193477784,-0.02269041568143504,-0.009535714825135488,-0.008999588031846528,0.017529078306271595,0.011623108545951055,-0.006360306988417275,0.019409428469661538,-0.013773553167663266,-0.0020537785364864725,0.003910241327687469,-0.0049200055304510215,-0.030696366921372786,0.01764084685469891,0.005639107179207681,-0.02512986211474144,-0.009160637361653068,-0.008815305573173893,-0.0049891442483546156,0.0037061693394635498,-0.019331002865994207,0.0004428935191718164,-0.01926054830976054,-0.031602657681547464,0.003729600040121017,0.03715741809319906,0.03672188524970332,-0.010799136247064522,-0.010043648299898456,-0.025805072335796986,0.02082866248089199,0.016189832330138598,-0.015713688902194822,0.0053215451571362316,0.007940022257168167,-0.012472640816375113,-0.005539552273058246,0.0271835422676181,-0.004338328738870745,0.025925895144862876,0.0006370520110356992,-0.028225764993756064,-0.012666560809305616,-0.005972140305935292,-0.023364469718441527,0.002506279605406281,-0.0031818043101917715,-0.025307811101342947,0.004678380419636197,0.011175774940858973,0.013815299790582491,0.03247786383878282,0.014738275343948004,0.001300619059278807,0.02836114769948339,0.0018947400544819804,0.004202579581806809,-0.03892028823433713,-0.0137165483111098,0.010816814276365827,0.0013102764226717856,0.0032715710113617735,-0.009782625281292479,0.0002195858704281406,0.01624227044477977,-0.0073434159436387425,-0.003916455804207963,-0.005024018094564653,0.011196534462628804,-0.04081634850331106,0.0049796563871311594,0.05022521318916073,-0.009650455771641697,0.005846696751394598,-0.019806285651917666,-0.01691193671004032,0.0037980784186222305,0.018918283292848947,-0.009829553522087475,-0.00242666238491529,0.004865046441111742,0.009903186103420225,0.004140388841432641,0.013454837396879693,-0.005139222153016765,0.007102923752854373,-0.02949350376390525,0.005285216456138553,-0.023220182647531895,-0.01995961844814631,-0.003890205507427358,-0.0016080794116061226,0.034744642614821464,-0.019346291371268864,-0.0034013087612612125,-0.02047785006269731,0.03716613977175087,-0.007390858225691632,-0.009025305248944293,-0.011156600277729356,0.0016117820477168365,0.0055172799647540405,0.0,-0.02652034300179673,-0.014795703171054386,0.006674583413696533,0.012313532166714714,-0.005847953216374324,-0.001882396024816213,-0.006836329876184988,-0.0244481976710339,0.0019465166429402103,-0.016512877613804045,-0.025432068624614113,-0.003293667699382885,-0.015760013459074296,-0.00878099539950672,-0.016414826747845335,0.0137748465632761,-0.020642824825654826,-0.019477042453367344,0.002721046914859526,-0.00949792370729352,0.0027396842224953755,0.007103883799730815,-0.01112316442276362,0.028257853435880387,-0.002134418818956263,0.04786088309626102,0.0028068541517274337,-0.04529259068326663,0.023454185964252527,0.031770764518946004,-0.006814751767860172,-0.004828427803724944,-0.024514787748041722,0.013874313317058018,0.008262321162055386,0.017669717154601194,0.01409153334025115,-0.002481351762139372,0.001243762092329126,0.04248444930366846,-0.015490889546329267,-0.010409108953789548,-0.006849378343400714,-0.00862065239594001,0.02981368355129077,0.031363069074364924,0.01754385964912286,0.050574730182516126,0.0,0.045295397380012536,-0.001465348422722168,-0.00943397810779667,0.028571396277695005,-0.0028806459679825425,-0.027445275309210038,-0.029068591460501336,0.011800719740700627,0.07019438560591928,-0.007063541463373291,0.01036581938261616,-0.0028163225151249804,-0.027637662705650712,0.003734446106361533,0.02315003942037741,0.003030333856139489,0.0006042050025163448,-0.020933995755611945,0.009868411765204366,-0.03644130984840377,0.0006338216382062445,-0.01140204621131935,0.004912420840142762,0.0,0.03294366125812043,0.04012347374821035,0.01899108009815431,-0.011842298884317759,0.01591350755032761,-0.009862663518908188,0.02031251757871333,-0.005551319031578128,-0.012512059987159985,-0.018518533666042503,0.02323737873088394,0.026203386299032072,0.0,-0.013618260271453186,-0.004218623475858441,-0.021760082061902386,0.004330732756047562,-0.013524081154804968,-0.0003973863905429864,-0.015702661378712457,0.041599381143948344,-0.006785619937834775,0.004294382640424255,-0.023906696287599005,-0.0021903745057300084,-0.014567941196263479,0.0,-0.009720525148920522,-0.012678992377002207,-0.011598955525116805,0.0027241670178659305,0.0016719296469354106,-0.00688507884317846,-0.0018907595687593926,-0.010313573586203328,0.009783051467340043,0.019376621577769537,0.014462746408549165,-0.005091649852734026,0.0020471298248114778,0.026557695950942373,-0.011741296568913318,-0.03463554623415421,0.0033375021275652283,-0.020790021449543783,0.006369491751101686,0.012658195249076298,0.00041667620340990474,0.013744269910880291,0.013763314805773863,-0.015805446877691143,0.031706833955188474,-0.030732406640785692,-0.014823990636752327,0.016718977581378525,0.01767722032232255,0.00787726151418755,0.016232415507515974,0.005915977962468677,-0.014899006989623431,0.002985104992615062,0.0,0.022817414213591736,0.014548981786614679,0.0049713602298913084,0.006659027111421523,0.013230027687737511,0.006342103128464505,0.017238188916109065,0.003097634213496292,-0.0014531883281765356,-0.0007276862768611503,0.002184579122848751,0.000908251367002455,0.0,-0.0009074271950121338,-0.000908251367002455,0.012363641912287004,-0.011494241848790776,-0.011627895694091173,0.01636028243905563,0.009585797983736821,0.0,0.0008957226322805489,0.0010739462043694026,-0.01430358005892085,0.024668974859464177,0.0003539855279208748,0.012918127386590816,0.0,0.004192834673864443,-0.0024356191851665487,0.00017436905313217288,-0.02266781641933535,-0.0008920470605019437,-0.0017856870378766265,0.002862251217256917,-0.0017838438524550027,0.01590420665134329,0.0007036221037992618,-0.016874654504695386,0.005721432023568118,0.02666666666666684,-0.0012121159276922144,0.007628270186910813,0.002925016978094108,-0.03825698245343989,0.011594678830873395,-0.02715572104371622,0.0001812966569227914,0.015585367988316223,-0.011420402912076133,0.0019855016719254603,0.007025819062120409,0.013416815376164015,0.009002617966395343,0.0019244333562842275,-0.017635797593110403,0.006932158122664456,0.01676958380677518,-0.01979165659458504,0.0017712059943313374,0.017503497873623486,-0.0013900611193389256,0.012528230219464032,0.01168586219666401,0.005945342197531289,0.008949658364944435,-0.012217565560440735,0.0045747281543466745,0.010288423021288962,0.014691105692840045,0.017604470488878476,-0.008730753664545565,0.007502839245947968,-0.003723482929121724,0.009587262655353923,-0.004184808172551291,0.001939595097038005,0.0019357788132865483,0.0028980889294305534,0.009792913812584514,-0.024642337267990366,-0.02265687733040067,-0.007671766035629912,0.04537816408301598,0.0,-0.015916425503593623,-0.03234764861708039,-0.03038999241890894,0.011143990706034446,0.015154142805922532,-0.022052573710530488,0.006591452616829585,0.018438733712431876,0.016074463408919604,0.0013322536564714937,-0.012472974998792963,0.0037049074107204927,0.020973154899370794,-0.027280195382717864,0.013684767563510558,-0.03666667938232415,0.010034633887724853,-0.009934940398133252,0.022664383920113496,0.006767005702104534,0.004873146088165914,-0.02056855448041628,-0.022537129959057656,0.009432330402224132,-0.0254369475240509,0.004971569261613462,-0.0031802174916679693,-0.021623492477838457,0.009239099900078429,-0.00017947086156022696,0.005026907997516261,0.006788157756745461,0.010645820930152539,-0.002633386825712458,0.018130588882209198,0.0069156556850562545,-0.010473911276982273,0.03678637675850549,0.0,0.005020907733230828,-0.00333057061582831,-0.0018378746609635233,0.008536965303049815,0.0036514725427905237,0.02530178184903109,-0.005161285400390514,0.003566816141611806,0.006138889241531054,-0.006101433218786423,0.0032309683895332952,0.0075684578462429375,0.019657975838828,0.001724147518291197,0.00453758569116669,-0.0029594208885225237,-0.027339536889450344,0.002088035201091021,0.0051290222464293045,-0.0009567462840005536,0.007023122362211476,-0.017118431263950185,0.0,0.013868741068050028,-0.0006361873947765551,0.01846251493882267,0.010782913089705026,0.0057205124433561405,0.012298161181126366,-0.003796507301336516,-0.002743907154918457,0.014215841198498502,0.00813867261410639,-0.0061294070332774675,-0.01744891100382895,-0.01255357775038679,0.0051163074582123436,-0.020515221247727755,0.01732281061608032,-0.0061919742310698744,-0.005918960614971991,-0.018646170987141053,-0.004151399198408012,0.00288600782841697,0.014708265305581225,-0.011343961034433914,0.02167331649962656,-0.010762789499877745,-0.01907914095565455,0.009644788581392394,-0.02913551649487578,0.006395529560119462,0.0027701154733807964,0.005524864275751051,0.006464087011591069,0.0035324538377519143,0.01567999267578135,-0.005198456501844473,-0.005859109067960944,0.004778640611518226,0.010145836573729472,-0.018204642579875085,-0.0089514284047012,0.00435484609296255,0.004335963638651297,-0.0019188158750448325,-0.011855140747788151,-0.01426720271986437,0.023848697058134194,-0.004819264852378269,-0.012106537381169291,0.00506531952171918,0.012680907417958354,0.01139828341687621,-0.0031746152847532683,-0.005414015234370351,0.01168747282959548,0.021680629239730687,-0.009293657013796253,-0.02032519161458446,0.015959144628713062,-0.0037700546503621757,0.011825922763385677,0.01605109566288454,0.002300637007667028,0.00902837002389223,0.005004461471674659,0.002716165901520462,-0.016854705321655006,-0.0866371269473758,0.015753351269507165,-0.01781887180628461,0.02032593522563153,0.007079296651237188,0.0019617909134246325,0.010768475078369644,-0.0033898156882393726,0.0025915102536824275,-0.021647820994441513,-0.004953815141261253,0.0014935306188967878,0.001657038796136101,0.008271298489487267,0.0039376187164128496,-0.007844411717747746,-0.008071122898350547,-0.009465288662735216,0.0028499273193069996,0.0011701721026635692,0.0,-0.004675217601442738,0.008052332449615562,-0.022466275098901867,0.0006809175976707493,0.009697170919727549,-0.004212300024051596,0.01962774750188978,-0.008463297971101347,0.003347293103589166,0.0025020468602623414,0.013810346957198183,0.0026259617037704963,0.0009821799499287742,-0.0016353603650530735,-0.010319427944116888,0.0013240952247464133,0.007272704573702216,0.01247131856510042,0.016207455229087397,0.007974481561658031,0.0022151801892149603,-0.004420568023718929,0.0009514360495901375,-0.00047526583974200065,-0.005389129050016983,-0.00350599554905362,0.0063969540010822,0.008739857530484008,-0.010554476587535722,0.003821013509348381,0.005392548084093285,0.005205897369176871,0.008003799850285764,0.010742562290980029,-0.00723969861305318,0.004034168324930532,0.014217248987198117,0.0004572056978082717,-0.0033506123733294535,-0.010849618856728749,0.005715975560008468,0.014132076659126858,0.0009088941387362937,0.005145222888460088,-0.00933446453296305,0.010182342520839827,-0.0003009518894774299,0.020015077383534363,0.006196491243868341,0.009384155693352048,-0.0027599480261322196,0.0010196604991745684,0.0037835001689745518,-0.006523696082010755,-0.0017509867112933675,0.016079497372258666,0.004747434779435178,-0.0011453924091452405,0.01705841134706154,0.0,-0.003382633884320141,0.01725358841039837,0.002363383403643393,0.0023578109922752777,-0.004151036893566218,0.016256747938038663,0.0049220756543035815,-0.0006803136293579426,0.00013617612860516992,-0.005309003464592621,-0.0034213767762983904,-0.01263386669597455,-0.0006954527217890583,-0.007098150968147365,-0.003644442391116942,0.007034327337081647,0.0033528619395117865,0.03258150901181067,-0.001887904694299558,0.000270254976603157,-0.007158276239104144,-0.004081118800701944,0.014069099742897384,-0.0014816892984480523,0.0,0.00431673690382417,-0.0014775099376838075,-0.008474539742435616,0.005155301290703962,-0.0040490678524957024,-0.0025749076981821384,0.0,0.0035326377937614506,0.002030889854310214,-0.012971207360669812,0.004380556898779364,-0.01390219755046218,-0.008016611517443928,-0.006966699503786367,0.0,0.0004210244156694909,0.006872340011175648,-0.025351715721047996,0.028011991571792683,-0.01988044347433271,-0.007517713181515839,0.0072888684769605305,-0.028660672194224857,0.0,0.024978076356131806,0.010545895859686016,0.0,0.01537154536170271,-0.001388867696126228,0.00041722918859865565,-0.004170763943903699,-0.0005584380435731395,0.003771536335699377,-0.022404684061742675,-0.012099622407417687,0.003890441457205629,0.012343916075124861,-0.0075145156453972906,0.04257147652762283,-0.04083314908001401,0.0017143249511719638,0.004563600717197858,0.013628606632590579,-0.014285773818803471,-0.005399222339405929,-0.0007143293108259341,0.010293084376199024,-0.007075138148506577,0.01040335436771711,0.02313116155646089,0.0022056249061970234,0.0,0.00756537929636214,0.005460771684353549,0.002308189618781986,0.0,0.017339457932653124,0.0026631768535341216,0.009296107833635103,0.00578950580797688,0.004186285774513188,-0.007816551034694363,-0.007353008942499462,0.01402123292834645,0.00013037446332497815,0.005217184497611438,-0.00012977989191742534,0.0175188962663686,-0.003953643330054879,0.004097307312115328,0.0053557533633254994,-0.011795950266099808,0.03747911733657672,0.0,0.02251638814296042,-0.010526348826619514,-0.0020787255011349703,0.004778818609627367,0.00670735428972935,-0.01586923245983307,-0.02511079479529532,0.024621270868369738,-0.014664231904256475,-0.0157579058361339,-0.00673441931192742,0.031086099041782278,0.009925596363561606,0.001965553190609981,0.00367831119100126,0.013193279049623197,0.001205672427990745,0.008550085219711345,0.006447772125699469,0.005101439085363202,-0.0074363181507903775,-0.018908269795870902,0.00024238355232020226,0.005210861884007434,-0.0006027175913517757,-0.0025331614066026464,-0.0010884504127198769,-0.005568996282933059,0.01533969010948466,0.006594669212237614,-0.005360297374633949,-0.004311384555108599,-0.012869854494579669,-0.0007310534765059273,-0.011218214539387317,0.0038229769637248,0.008476594583261221,-0.003654469920165049,-0.0025675398229857427,0.007967657652484528,-0.015201264124654945,0.0004938661950475431,0.017403156264263364,-0.007036295388904379,-0.0012217284787452432,-0.004281326900563931,0.011916476689435296,-0.005220350744660207,-0.018550210241302656,0.014175570947583704,0.010912204711740703,-0.00024253054950329478,-0.01370856786648611,-0.016236157998467338,0.014128497199169088,0.019602962962962822,0.002418435127172991,-0.0019300803276756096,-0.000483453185401439,-0.0026601402590894496,-0.004849678826368331,0.01742203061982317,-0.00047899550358165843,-0.003474313062013179,-0.01767253204267727,-0.01493086812351907,-0.002857444821011468,-0.005482213178357731,0.005011294505239849,0.01408622832489237,0.018684748629030246,-0.006998935825166419,0.0012151959291353265,-0.0021847348769175046,0.014718393114557138,-0.03164708040752784,-0.007056198358971755,-0.012591972918074679,0.010101049022522401,-0.02187500000000009,-0.010223681172623733,0.0,-0.061458937306568484,0.009767492923734133,0.009128040259087644,0.0074254496290520056,0.016483458620556002,-0.02307185280428281,-0.00850198740068786,-0.028583073897232136,-0.013591161319516432,-0.007670467383851465,0.005868823778024668,-0.007399981043228254,-0.013620027931787737,-0.010029104808137346,-0.00866251595944767,0.019105464746195677,0.01017300686634437,-0.02661485278759368,0.007685436224083686,0.006160137387289266,0.0058309261629181375,-0.01449275362318847,0.02058825773351325,0.013688716532490819,-0.0007106669999670245,0.011379735243742362,0.014205374935388981,-0.003328218856443632,0.008070045630932388,-0.0013802412468357783,-0.008154752596182258,0.02090300941118106,0.010237509938988865,-0.0008107713316618526,0.019202242825428595,-0.009420181220636259,-0.00013396913661745113,0.015405244505992899,-0.007255976643988582,0.01661129568106312,0.011372584922640927,-0.009693679376703068,0.0066561535963751695,0.003759897910724952,-0.012529078321422804,0.00013083239541833436,0.006408551787035588,0.022222310353272157,-0.0053395090107548615,-0.009585889832280925,-0.015098699202472865,-0.004716989148205841,-0.02843596707146856,0.014769597463650141,0.013486475423447164,-0.019894625900838903,-0.003360666783857935,-0.010655529026584398,0.00449900256195801,-0.01587945391014245,0.02261756090652489,-0.015104554599248976,0.008900472911731239,0.01927250492757615,-0.004127797135715872,0.011899978322685856,-0.025634281627686217,0.005153307483335423,-0.008634637964553327,-0.01918894389892989,0.004856368469587036,0.02319801639951158,-0.0013495071009483883,-0.025270307386243696,0.006100131126587582,-0.0075789314326956125,0.010969188452515821,0.017305345124019267,0.017280934043075513,-0.0010617363327772855,0.0007971992914099779,0.015531636008310423,-0.016993503944546462,0.009042557616641966,-0.00039534502349403144,0.016084393477204584,-0.005968588118517304,-0.010573000289002765,0.03931392622114083,0.019167328758924684,-0.0051065345302553355,-0.0053830786174366985,0.05273760355379031,-0.0076518339827683635,-0.02734935714537834,-0.007184464349522135,0.0038677174384538215,0.026597059582386118,0.0014528177820682942,0.0,-0.018133462014802038,0.01723715223882616,-0.00399421229828445,-0.02600558228022376,0.010979379122455057,0.02073306590749957,-0.022971847985857274,0.03650544074695361,0.003820435609633188,0.013915296663483012,0.009970656587930726,-0.009523806148157843,-0.008091023115419649,-0.0235252151545271,-0.0009685451880456775,-0.0020600845353959674,-0.008621725532827806,0.012371412834166984,0.03206293378045677,-0.011723329006134042,-0.00023729859711463241,0.00023735492110454892,-0.015065293315365547,-0.008310278833561724,0.026111265745703438,0.017871963243095035,0.00441857271416235,-0.0001157039494528167,0.0013893147316386134,-0.014568095016264881,0.009386312224029636,-0.005695662800444423,-0.007131173764587162,-0.024373009388745537,0.007723864167682448,0.004790437435675532,0.004529168611525636,-0.0008305611751077135,-0.011518836613809924,0.003123524061785732,-0.011976047904191711,-0.0009697191642991099,0.00024271139171738731,-0.00363904709938645,0.006208937667641967,0.02359342906523265,0.03900712897491676,0.0011376390487507493,0.005681818181818121,-0.00022595076911191558,0.003955678806986107,0.016773588124014083,0.0011071576002987804,-0.0004423901386575446,0.00918346820400373,-0.006578209408437896,0.00595961717128235,0.008996156676875255,0.0069587841812963624,0.00032392591619867517,-0.013385123833540291,0.0185995286636933,0.01149301517036716,-0.022193866183804145,0.0011946199844066197,0.01442666413319027,0.005132628038531761,0.003829793727144315,0.0071004468483630845,-0.0024202434020149655,-0.0372363533233655,-0.0029582190533248287,0.00769227415650775,-0.0077426293140818725,0.016045709624684212,0.0016225152063862325,0.01879047400044831,-0.0031799388807352003,-0.011271773163272325,0.008603951317276648,-0.0065045917924048124,0.004400597511721394,0.00919000420521665,-0.007094512717272905,0.0037326022826675853,-0.002974993630688094,-0.021206286673372432,-0.008383197124204211,-0.0035133913964754404,0.0031952502060546006,0.008786330538709919,0.02939580427317523,-0.0015864782764395402,0.009639788326331722,-0.003777154753678791,0.006108497627133502,0.008897712603187946,-0.0033201878392130624,-0.01780136506280494,-0.014202399147448364,-0.029674250863772178,0.0011080163337517934,0.01726624476297145,-0.04145365070373708,0.03314413416026385,0.008679421497073125,0.005881722360167707,-0.0056307163146530614,-0.007296070517105457,0.018758216496029156,0.007429684414832494,0.002351445344633829,-0.011516334454176769,-0.00226536236662378,-0.012001304313862149,-0.020463943679069674,0.0033515296079056345,0.013250222400127187,-0.01098901098901095,0.012888929578993125,0.0004387152756273327,0.012829011375996568,-0.008336085845677355,0.01419217329053879,-0.0029063968571167997,0.0009716503287693357,0.0017255827287359082,-0.0077518692140367,0.004774249072568404,-0.010691121815150084,-0.006876948468732658,0.012420281509385678,-0.00803384929829598,-0.0062383679291896366,-0.027422967064711368,0.00509573762968496,-0.010027032089098498,-0.01490844596609775,0.0020794860241757362,0.02409504287246622,0.02656760735905439,-0.0025222431272701185,-0.00582672366569259,-0.001990493249677483,0.013850415512465464,0.014754081684383635,0.0022617026163032072,0.009671196534388748,-0.003937875161635462,-0.0011752642938452906,0.003423188739118288,-0.012366776379199806,0.011334229907984161,0.0056569406071727,-0.003927008509746588,0.016728819609487244,-0.007964729840911677,0.005070734301388713,-0.006621791648723674,-0.0027510541779027786,0.01612728533757468,0.008979854239284935,0.016454558754827264,0.0009162730276128794,-0.019835184586185828,0.005085075349375634,0.0022715665892543146,0.0004120831941185621,0.0035011464911307577,-0.0069779407539332095,0.033378148899264604,0.0,0.002699966430664169,0.0028922003115217088,0.01392205210688413,-0.007355825880094535,-0.01146127895670368,-9.997137356676511e-05,-0.001399434110028186,0.0011011071939082129,0.00689925804692848,-0.010923520431549538,0.004016079638623937,0.0009999847412112128,0.002897112087392406,-0.01583819451695878,0.0035424945679176645,0.004135108687899125,-0.004419393559675022,-0.011501204177355229,0.004592742731421184,0.0035558109624702627,-0.02338527624154918,0.020420868620040222,0.006196674067685537,0.013225618558631025,-0.0011957228562399225,-0.02075014211878723,0.013854858702312844,-0.028838376346423056,-0.013140240583658036,0.008073016299372515,-0.003952208806884072,-0.002401542608341689,0.020828949599121405,-0.01209884466261546,-0.024182686745765736,-0.014571316380583288,0.010793307971189492,0.009930595729021663,0.024106563069955955,0.007743134372021121,-0.008708108480750543,-0.008887976347300652,0.015328479638307968,0.010989007544849327,0.007009292918520815,0.002017598942582799,-0.0014094370992417948,0.005645705663981149,0.006115294339364308,-0.007772008514878803,0.0022092911895739142,0.009619229009189656,-0.001290242954111509,-0.0018880534353314937,0.0031859785647747607,0.00019845814452601473,-0.007739618860336028,0.004499969482421928,0.009756131276325908,-0.0018732371175648188,-0.0022717871630983932,-0.009405054524753487,-0.029082511530252653,0.005867212412471012,0.009926332466086762,-0.01915086982362324,-0.006714891584573057,0.014040545529869108,0.0059487367287658355,0.019269977104038327,0.003801112821625763,0.0022920115638356275,0.00815271107472837,-0.0034516614285433622,-0.002968857424023419,0.012406947890818865,0.012156841801661988,0.0015498224081766931,-0.0038684866535401152,0.003592259675553766,0.005610856014796273,-0.004328975098154886,0.007632859087220778,-0.010163942365407963,0.010074525354192732,0.0034525810102774557,0.0003823082918610332,-0.003057224614714471,0.009199799698231148,-0.018136891814589107,0.00812375556571343,-0.01717192010946378,-0.0007808121429283554,0.0017583305689787831,-0.005363267044275144,-0.00039216583850343323,0.015103971453074072,0.010628004580880202,-0.0033460657669864835,-0.007769760753897015,0.002320164908208522,0.006751513755611116,-0.0002873996942538426,0.004408232785808375,0.0018128274576096892,0.010476175944010402,0.003204561471959577,0.004603512331177395,-0.0014963402380316904,-0.0017794775497360638,0.0015950287673553998,0.01030443535476433,0.004265174696159502,-0.005447293428027855,0.0064055183214539735,0.01614242174047309,0.0059912491900349085,0.00018044254756777178,0.007488288149383182,0.01020864518976472,-0.0056732506293692975,-0.008380091177285776,0.02706099447985233,-0.003851495275204786,-0.010632747639882423,-0.0031086107603265356,-0.002583757315099966,-0.002590382260277413,-0.0034032318677188478,0.016175440973249522,0.0021223723017631535,-0.010060001700657573,0.001515405317194407,0.015576324199088276,0.0027169604919723422,-0.01538328887243412,0.012871699321806762,0.009728313980681857,-0.01050255267848299,-0.032543851618181296,0.018224699605995598,-0.01264475298086476,0.0027958621542869544,-0.020595385063815308,0.013957728390896484,0.007154509406154919,0.005035496476970547,-0.007336492077054002,-0.014420896963769247,-0.005121148298198319,0.023071992969090793,0.010332379739016018,-0.01378386362319528,-0.007394045838970298,0.006540708654857674,0.0030685589217158693,0.008457822985140417,-0.016773776339211066,-0.006805807810977171,-0.06898123008567647,-0.02649660978612456,0.014112919041815442,0.023757449561624622,-0.012039983391491371,0.013267798271460407,-0.041804050653556524,-0.04443768953299443,-0.12394072445464177,0.07170496401453419,-0.0741283978159083,-0.14574700755910686,0.13395149206907564,-0.13951436200686196,0.038011672750290604,-0.0843661670953455,-0.00015385534382095223,-0.003538513183593661,-0.05604442552964939,0.1023879980164073,0.06424334915470498,0.03959286497950654,-0.05833443062791133,0.024921674303304275,-0.03640409479148876,-0.016870918452606798,0.021267188937400316,-0.03920717844642818,0.06980565115740411,0.027106363695381663,0.03019998852113992,-0.011356141188825442,0.01455851873787184,0.011716685102361568,-0.010409830035750467,-0.014727188713191675,0.014279990530712938,-0.004473636024876715,0.026962637951264856,-0.013513455130026664,-0.0553163441534702,0.039773472003358235,0.03997877672504724,0.024010181100188044,-0.03704167135693326,-0.014376384192637426,0.005781898163320864,-0.004442173546096551,-0.01049862801053214,0.026923060188535075,-0.016660220979504592,-0.01497241133158489,0.0020000203450520893,0.014637371281253975,-0.022163966444672,0.046539717466811625,-0.0048698867020716685,0.010302580896880853,0.019375453557554323,-0.00037512540751483137,0.03327490557264556,-0.0018159991361974548,0.02704673668251889,-0.012163424369212361,0.0059772862029812135,0.014022582100760905,0.0287120226845059,0.0181135109295556,0.01051801256711582,0.008194059496944517,0.03185056341882708,-0.010643959898699262,-0.019150068184381253,-0.021059539404480687,-0.0020168101420254825,0.01044122946404169,0.02166663275824665,0.0073953271097824125,0.00010797945079410454,-0.009607074649310543,0.005558606389433063,-0.016150070005027106,0.017847337297503207,-0.02348737074662699,0.02305477502673048,-0.007367283669475477,0.011569499310381648,-0.0019421698811294963,0.0074594858530403485,0.02274916902723012,-0.0126954056811176,0.02125398546685453,-0.007179966940348503,0.009747328792427012,-0.013390007630978862,0.01630715804942451,0.014803316022400148,-0.012343151071508407,0.023858681738017085,0.013820264143453498,-0.0020895431290810507,0.0008973610237217322,-0.019725002806489034,0.001930841555543461,0.018967469480099197,-0.004081186904751233,0.014292856187480885,-0.0016752640196698865,-0.019938769042987303,-0.0009064756416077291,-0.016129017372409016,0.01424179724774266,0.011920399339736543,-0.013377222345862805,0.007184044028314185,-0.013461964586702235,0.0013238786848537298,-0.018509098555202108,0.009947146028631781,-0.016825683483218334,0.025253032690239374,-0.012722646310432628,0.006907197617993077,-0.0007166959776446769,0.00922132725358149,-0.0015228581307503708,-0.017488573943961194,0.0024837576320597687,0.014762054966765525,-0.026449705216658237,0.027690716931914716,-0.0020335226369607717,-0.012124324227264394,0.004744215024918841,-0.00636414626196502,0.007231373204274805,-0.025230759840745187,-0.0058922301472984495,0.021486015105522505,-0.0005181126375610745,-0.005701797922283203,0.00479615334072192,-0.017951679024881706,-0.013102259845377384,0.0028907563025211136,-0.016013665307162306,0.01226000765174362,0.0021435899431991867,-0.024598963120404327,-0.014035074804040981,0.012566780536287236,0.009445366079369633,-0.019584408443450774,0.028076781291312525,-0.006584635301926989,-0.0008693016637599804,0.025231101379264986,-0.0065768021562043755,0.012279781176096405,0.008333262243689354,-0.0026153364324473793,-0.008390973915376132,0.004865655595705842,0.017578928094161173,-0.00020685469582271132,0.014588680915202268,-0.006322609959448999,-0.002155162963988322,-0.015941612652914494,-0.04306022923746955,0.013543092248014643,-0.023060337492175176,0.017648338953132114,0.020593989615059316,0.0296303438575114,0.0024755595742016467,0.023767851636657733,0.015075376884422287,-0.0010891149539757894,-0.021706833726385488,0.02158059725097483,0.01666171054911536,0.005755500200912644,-0.011445201965468055,0.007947460778458426,0.005353795428705954,0.02362512074211387,0.001040490059415422,0.0017952830834779832,0.00396157151139942,-0.013528771217371394,0.01952383858816953,0.00653897177288032,0.0037123111450478863,0.011835402323046473,-0.001096616524237981,0.0011893228955823787,-0.006122128868724874,0.017743866550894438,0.0008130439906626208,-0.005325426143240053,0.014156127324767231,0.014226881777905431,0.005646223187153687,-0.0042986040262507075,-0.018237882773781577,0.0073588772554828985,0.007928725074819232,0.01378820547118087,0.002354004181732927,-0.0027833320990395816,-0.004884476062234411,0.005259059714040282,0.007498479309832717,0.02440501618646529,0.017149604901529614,-0.014784042830051414,0.006997084660614439,-0.01749683040005645,0.011247441103948042,-0.024435469484511252,0.006564191952352694,-0.004633610016176126,-0.0065517425537109375,-0.012408888681742503,-0.005535517677993429,-0.00971901812294651,-0.004371926170224971,0.02616727210473413,-0.034494843279606946,0.02261215679455031,0.00698744854578548,0.012296895429446675,-0.00546635360883263,0.010469350196189442,-0.00552581066598834,-0.0023441278203770732,-0.008615485698487468,0.00860255769562257,0.0013054962914436086,0.007040395802765831,-0.010788883077981981,-0.006892949230610013,-0.04893691539060441,0.023187086708826632,0.00631994343392317,-0.03023508679582876,-0.023128874870020244,0.003314765751061932,0.014725292832200587,-0.003162756631540642,0.013157857265111428,0.02173713380294018,-0.0503020086153767,0.01746562879862923,0.013434040294932004,0.016754117102465438,-0.005420013204482599,0.006084063152132169,-0.007287016643197863,0.02219355990809202,-0.014718599758143602,0.012050244992948489,-0.010676772047867322,-0.014922865896947135,-0.010579561553869965,0.01502627677504953,0.009085920740279363,0.0055535523089143,0.01240065189721773,-0.001874141937142082,-0.011807237777885615,0.0196786499055559,-0.0001818898190278917,0.0010487558794300966,0.005017456683199306,-0.006505475725446241,0.012299790844821246,0.0023601104848351984,0.008110232144641571,0.0051902982875506876,0.0022375399574776633,-0.0010304202947399865,-0.007392066426229915,-0.004589594676865372,0.008873460631061869,-0.00017249523368412234,-0.010090540748074361,0.014113981214593174,-0.009278366124544912,-0.007977785044917862,0.0024475417444249636,-0.012295113867781815,0.016597553973067836,0.002431600309045212,0.017586405387940207,-0.002724329110492252,0.008451407452004789,-0.02421062115337347,0.00668000602832719,0.010341235253140901,0.009126575523035863,-0.001014243256391767,-0.0015229740372073586,-0.000847372869341001,0.000848091519084937,0.010592322492774642,-0.0072111403232173465,0.007094563573185386,0.002935243881176275,0.009448991700106601,0.004390314562107367,0.017154654276739567,0.010865128662904455,0.0030480860543329324,0.005597736354732152,-0.008270385014133907,0.0013631478645921291,0.0009609445004912232,-0.004159973144531204,0.005382375890721658,0.00023970258834293823,-0.007668949369965428,-0.009096803024537081,0.0014623471486803208,0.007787837592361901,-0.003300359422283572,-0.002261337263664731,0.00801358148318676,-0.016301283218468687,-0.00040818817761467674,-0.001143318849633146,-0.0040879732644951705,-0.00886621971353918,0.016979999713099936,-0.006597145843353136,-0.013691876299349204,0.01645881693525153,-0.013248242830877222,0.017569990492659393,0.004398117941815771,0.0012163600896051285,-0.00542640448952203,-0.01343649417649817,-0.01163849479447343,0.007182233386457959,0.004311809942290745,0.0025594249633758004,-0.010129320216111015,0.00831946776529957,-0.011881145612789634,0.014111512874634968,-0.005928312963362492,-0.029984284319777954,0.004184082155373359,0.009608885182606164,-0.01490780950405457,-0.00025648751309603757,0.011203263107626649,-0.0008457245934347934,-0.004824781596148964,-0.0026367062975112265,-0.011853994237809862,0.005954904597014865,-0.016557998846950972,-0.01116635095495222,-0.011380687542063228,0.007049803076376593,0.007089083407841423,-0.005279352979018603,0.022821708376946637,0.004410638660768518,-0.017823314152769942,0.018497419268839632,-0.009468053634289042,-0.008689607091491691,0.006311371047919678,-0.023083636371369676,-0.0005350440229322517,0.012400812422661112,-0.03877336443178814,0.022277230146543703,-0.014617566600179654,0.02038592600250899,-0.003746038066812618,-0.009131572703077628,-0.011203450129657733,-0.021016109287728013,-0.02212061564386214,0.009544717304963202,0.02098895046952487,0.014908793797575592,-0.005200727214962453,-0.0012840446777573344,-0.02810173180040143,0.00944911634411949,-0.003182663684896836,0.018781106583911855,-0.021292262918968574,-0.0005650551744329491,0.002355823534956114,0.00047001429982462817,0.018511569766949787,-0.005904598147913331,0.013828286438696269,-0.0024715914348798496,0.011471046948676067,-0.002449684898118143,-0.028649331368032827,-0.0006554278354308218,-0.02885788189057148,-0.012735163293699059,0.02169452927762383,-0.02199907206716356,0.0014670075880578448,-0.0174804774302173,-0.009243616932053778,0.018459032225695893,0.004728165610773605,-0.023039200726677422,0.011640702608656017,0.00019843540269182114,0.005553878294399794,0.006213603483681274,0.014997122711583266,-0.013713237629071506,-0.0173308204314786,-0.011060189354333949,-0.00604532467628327,0.006284795819540445,-0.010375730977410402,0.017915331580840244,0.006600036621093874,0.013212737465464475,-0.03529756397220141,0.006301481354082483,-0.006666030177448823,-0.01281140981981832,0.034401113330577715,0.008861887752106057,0.01658113215787549,0.006116478188523677,0.00550033494095703,-0.019769650853415865,0.015566907937991203,-0.0022173271906891223,-0.007729498084616315,0.004868549317016857,0.011724871605122367,-0.012546740178534077,-0.02036855970127116,0.004158397712330064,9.862094666757137e-05,-0.005718247355906758,0.0074367874204028794,-0.0053149697208397795,-0.008015016605597558,0.005486314730751118,-0.008630979367483582,-0.0036025278620251955,-0.024806681011082854,0.007723996001914424,0.00868674999873309,-0.0027355283831265176,0.01696635338583352,0.01808197018560609,-0.0035325345639785066,0.014967962554286673,-0.00475402993325269,0.002632059253723673,0.011667521589109553,0.008169134542920675,-0.001906621303407463,-0.00592163452969352,0.021617985784168736,0.009968941412019872,0.007542579040854758,-0.005730084423977266,0.0037181773477479307,0.010835322583551132,-0.013376079377575789,0.0007428192018446023,0.0023197551061266974,-0.0027772211783581024,0.00473451662134261,0.0,0.008038391298190506,0.0019248312319863903,0.0019211333744664216,0.009861229585081954,0.0015370539899699498,-0.015076268119123881,-0.00540784918553916,-0.009768732532669855,0.014425342910939332,-0.01302750613711301,-0.0009295266073533481,0.013211742878622701,0.020201991895467453,-0.0007200884982309086,-0.005584535542554558,-0.02980073251861448,0.0016805181976480288,0.02320810739604684,-0.003461443410852194,-0.015539346928021391,-0.015413148372814045,-0.010750654279572891,0.021353649487001247,0.01577377684369785,0.01745843511818035,0.01092747266133709,0.010362658633333854,-0.0017683196369621124,0.01629757584608038,8.717218421394612e-05,-0.0020914846515861507,0.010828729723489916,0.0012959095108329155,-0.002588464605764562,0.013840817432876351,-0.0034129172943668795,-0.01960617170970902,-0.005589026091249671,0.006849905686159952,-0.005843856607311793,-0.012370623096876865,-0.007106716300316229,0.006710208665346107,-0.007731915598498396,-0.001701768372678547,-0.00484479562141471,-0.00784344691263339,-0.02998639673100023,9.369682651483302e-05,-0.023229705014140012,0.011891042177646138,0.003222175683299744,-0.023238230401371296,-0.006576405175444666,0.0,0.01616039732270047,-0.027591467035832373,-0.002660065448930049,-0.015311696141039777,-0.004414149679566326,0.014107230512043767,0.013910985039442547,0.01225009789087328,0.010746447870199294,0.004789271960652819,-0.025643492872043816,0.008511914239065721,0.01532791815083856,0.020064957009755746,-0.0011240421897792396,0.00018758695213283438,0.01275073067937793,-0.001110860219557419,-0.009082514764362948,0.0024317446753003846,0.0027057372149805747,0.00893271679136931,-0.008761384723493637,-0.009862347924088244,-0.0025370855827097083,-0.0146020068721332,-0.008795393712868083,-0.01793982064888855,-0.026517353725541426,-0.007667495108667155,0.01037003494039257,-0.03189774860691352,0.0008315334353599102,0.0011423887143593436,-0.0038382027046202083,-0.01426632442572573,0.008556914507261482,0.01969202083774846,-0.0030816171244526513,-0.01081919648367069,-0.010416666666666519,0.006631550035978373,-0.0044965002355510375,-0.004201616694398447,0.006540032671191298,0.020540757934226495,-0.0051345246878454764,-0.021469800378083548,0.0010548361909494819,-0.004109582543495138,-0.02073853602973652,0.007779509103916116,0.0010722215837355442,0.014244341464463073,0.002639915607775878,0.00421275975497859,0.0007341341997317841,0.013938397155487836,-0.006201534616238624,0.01747270180462346,0.012981668397181734,0.002018209694412132,-0.007452220245938168,0.009841733408388675,0.006731620387447235,0.022754555669987964,0.002537026720524027,0.02005066411155454,0.002385496113740837,0.014374054859303431,-0.006381384391472955,0.02606726679095539,0.0030375720996749234,0.007249710073209181,0.002095442083297039,-0.00045454517078191703,-0.021921080667555826,-0.007439741759927565,0.02220551899789225,0.0007332890208395781,0.0038468416172499076,-0.011313849279498966,0.0003691483508860838,-0.018450184242133183,-0.0053571399121231655,0.007181276515984658,0.0046908717251006316,0.012699604602286918,-0.023052098389575004,0.0021708670463287394,0.020907903694881602,0.009594104251733349,-0.022478061308429997,-0.002149965878821214,-0.005995310441671675,-0.004806353155187071,0.02481063242840964,0.0058214493283283986,-0.00734952166814673],\"xaxis\":\"x\",\"y\":[0.0,-0.018102428666710968,0.038143699868437686,0.01408447907598842,-0.0012076419722216736,-0.002418434904062905,0.012727217240767086,0.0,0.002992288877839533,0.0017900170785087877,0.007147047369949311,-0.01833231630630816,0.01807224278111641,0.011242635405108947,0.011117643789420706,-0.014467592017702091,-0.002348849906900541,-0.0017657849940944104,0.004127453181111296,0.03699349003905983,0.00169879314296284,-0.011305865285555217,0.0034305012422848336,-0.011965760319191276,0.023068028547311048,0.009582868009429868,0.014517042495642896,-0.007154604304939527,0.0,0.0027715761930762195,-0.004975132771074975,0.011111153496636383,0.0016482845076557506,-0.003291248900109567,0.017061060244398796,0.0,-0.012445862983419542,0.013150672390036311,-0.009735008512923082,-0.011469092878089171,0.018232039599507477,-0.006511168597197359,0.0027308108065313696,-0.007080667962610754,0.0005485589211708941,-0.029605209153224066,0.024858678403577583,-0.005512595230745321,0.005543152386152439,-0.00771771743985461,0.009444448682996986,0.014309313582285155,0.0037981385602343654,0.009189193313186239,0.009105520921223853,-0.010084953955348919,-0.012332415385564177,-0.018458205818656093,0.011061989147312934,0.020240641027714723,-0.00911528577861409,0.025432967118258265,-0.005277064772751694,0.02068962237432226,0.010395050172488984,-0.0005144150518059387,-0.005146699943339272,0.009829308577730789,-0.005635277037496889,-0.014940701208576934,0.0010459492435799245,-0.0020898124061774492,-0.001570716546928086,-0.009438925435569456,0.003705648337001932,-0.005274181379206544,0.0037115425534930413,-0.006867462547250569,0.00531916944297528,-0.002645462331731019,0.005305059917559918,0.02058044189692909,0.011892427115909543,0.013796651097295554,-0.01663306054274416,0.018964578551722955,-0.0075452527596832075,-0.014698378859964278,0.0030863921961969965,-0.005128224690755023,0.013917549642927352,-0.019827116834557623,-0.0020747362086480647,-0.03950105186709507,0.019480552990749578,-0.004777078124148959,0.007999979654948142,-0.019576663457813614,-0.0016190332182302036,-0.0010811058250632666,0.0027056896995532043,0.003777641242866725,-0.0026882335152528247,-0.007008041299908951,0.015200905835275336,-0.012834313832887356,0.003792069644885876,0.012412279207420163,-0.00479744943975724,0.0037493141155955367,-0.023479217685783427,0.02349728541545293,-0.003737303605713782,0.0005359179508901413,0.010712413611256633,0.00423952941961292,-0.002110866169756198,-0.0005288328377855978,0.0010582252998596609,0.0116278706378099,-0.009404404959027057,0.0015823147728988296,0.007372269159337197,-0.0047045608566378405,0.0057772425269806416,0.0036553366171598878,0.004682630374776453,-0.010875147088586834,0.01727748257147743,0.0056613797541866795,0.005629411353585079,0.005089078036186079,-0.001012681405755611,-0.0015204652809370778,0.0020304064279002,-0.006078973316926639,-0.004587163544250261,-0.01740912138422912,-0.011985484272226121,-0.014767868819476004,0.005888683541460438,-0.0095795793722947,0.015045608281234246,0.030704073184030012,0.006676993975345047,0.0066326101141052085,0.011150594313606765,-0.0035088521050531396,-0.025150906494340153,0.008256024854978117,0.009723573070971714,-0.04206791398698495,-0.012698400844562086,-0.005359077293004222,0.001616416352843153,0.0048413207019453175,-0.029978557644199766,0.01986747717050119,-0.02272727741870495,0.001107445091645065,0.012721213672946874,0.030038293853159814,0.010604392848272415,0.009443877765968445,-0.007796238062094174,-0.019905765588153934,0.02298237980848672,0.02560082480374426,0.011207398375381983,-0.012090668337830901,-0.020397833423205114,-0.002082197297502475,-0.016171072754753824,0.0,0.010604392848272415,0.020461768516518042,0.002056504195872666,-0.0010261907644203427,-0.007190518468709439,0.0036212982462755505,-0.011855646740149717,-0.0026082022358661083,0.009414141732556836,-0.0010361943629840775,0.004149373488428587,0.003099145870393505,0.014418160944669856,0.018274045129996974,0.014456676133999924,-0.02260447091883855,0.00553044815118553,-0.015999984741211004,0.005589461821432717,-0.05507832754735609,-0.016042841292484566,0.03858701122505748,0.009419167944886508,0.009331176220020554,0.005649749061681586,0.0061287456435643595,-0.0020305032476239937,0.005595148077584655,-0.004552359661304295,0.006605648310504142,-0.008581528565218322,-0.03258652798053352,0.00473685013620484,0.026715569659788496,0.0,-0.007142923177156257,-0.025179845538078283,-0.014232923573432199,-0.002673857880705177,0.021983906477120785,-0.00891920677110769,0.011117045982349971,-0.00261786091154681,0.003674624933142745,0.0026150227440340235,0.009389687243578804,-0.014987127121974475,-0.006295851796805474,-0.01795143310458236,0.01129027312719133,-0.012759158848074992,0.0037695043605052714,0.0048283345244029,-0.015483129485655445,0.016811250377668507,-0.011199951171875,0.0032362169891875237,-0.024731235612207914,0.0187431181933726,-0.009740276495374789,-0.0010928170081307975,-0.012582135719118814,-0.011080269476143823,0.01624644268802178,0.0005512805522773778,-0.019283767979388577,0.01123599839954137,-0.002777735392252678,0.013927576009699516,-0.0032967786140533084,0.003307683313663823,-0.019230789384494518,-0.03585441363135555,0.015688580600057955,-0.009725405076995597,-0.02657418247630272,0.013056338775898846,-0.015817250298225782,0.01071430436608023,-0.008833900033811126,0.0011883813341850846,-0.01543028029647775,-0.02109706921341603,0.031403955423007,-0.01253725877448697,-0.013301161337699319,0.03247553287722127,-0.0005934853801446982,0.058194746636372585,0.003928153536643997,0.04304083197505393,-0.013933560075451545,-0.022826091576163776,0.0066741291595424634,0.01436465322663838,-0.011982636894852794,-0.011025295607504537,-0.005016730764139776,0.003921551446961491,0.0,0.002790135984803488,0.016138059354951384,0.007666998241708578,-0.004347822030685733,0.01473801649898232,-0.0177514750402038,-0.004381156774550532,-0.025852651969940577,-0.00451721783408765,0.0005672279839972205,0.03458053466314315,-0.006027430704194869,0.016538101130277205,0.03633405948424406,0.0031396893786537206,-0.006259824661231539,-0.02099735614435616,-0.0010724106258855892,-0.02200750756208003,-0.009879166004974183,0.01441232307862128,-0.0005463563907124325,0.0240567853846001,-0.01655095961125519,0.016829504053115896,0.0005339150627998723,0.013874078551620261,0.0,0.015789433529502572,0.002072586378683905,-0.009824226088860133,-0.018276782686254323,0.0015957812693079276,-0.01699414212006156,0.01080490832618941,-0.004275784479991995,-0.0042941453199059065,0.0010781918375346589,-0.01992455239446722,0.010988947648731928,-0.0054348034534207335,0.02404374603287085,0.01334044840199522,-0.0015798150082727558,0.00843891152356524,0.0041840962444883445,-0.0020833809342629683,-0.001565797854093387,0.005750162842514062,0.006237049930402527,0.005165210277298549,-0.003597106789181126,0.006188800567856756,0.004100457343287012,0.0005104762023453446,-0.023469437901449286,-0.015673941830050442,0.0026538872959447346,0.010587653224015003,-0.012048168695543704,0.01696710946279545,-0.021897813848345105,0.0005330612345322283,-0.01118811863078184,-0.008620681681899,0.010869606906841245,-0.0032257776726799525,-0.0053937635669681905,0.013557483338369147,0.015516265376785965,0.01685983680411174,-0.007772001267349005,-0.00208872109532654,0.012035559125610273,-0.0031023508515513054,0.011410752360962118,-0.00410256019005395,-0.016992786941792404,0.00942903634033665,-0.005708386493952888,-0.022964537451029776,0.01014960155057687,-0.01797991302651547,-0.0048465349524466905,0.010281414435285408,-0.0032136832189181286,-0.0010747155888078952,-0.0005379359225258229,-0.013993553818592797,0.010371208363682438,-0.00162078261883003,0.012445862983419431,0.002137943211367732,0.014400024414062518,0.0015772228483112993,0.008923888876762653,-0.008324654169000634,0.012067232740270661,-0.005702467865774774,-0.004171007426129636,0.015706766024549568,0.0,-0.005154658940003887,-0.010362635414346344,0.0,-0.007853383012274673,0.005804680663552109,0.005771280872705065,-0.0026082022358661083,0.0041840962444883445,0.00989576141453763,0.0,-0.0020628679441873077,-0.0015504230518899043,0.006211223660916865,-0.032921876513111736,0.010638338885950116,-0.008421044600637306,-0.01061575166240003,0.0042918415410719835,0.020299203101153518,0.007853383012274673,0.0005194924094460429,-0.004672905063258126,0.017214393447715137,0.011794848319811813,0.010643740329123519,0.003009000217422342,0.002499961853027255,-0.0064837489133819926,-0.003514040891371417,-0.013098248054672634,-0.0005104762023453446,0.0,-0.013789604638188568,-0.006214341543427371,0.002605483880618431,0.0,-0.002598712975849571,0.02501300306815768,0.008642606793826335,0.0020160790257601757,0.006036259773603003,0.0,-0.012499999999999956,0.0,-0.01670885689650914,0.012358381574423039,0.003560513497838702,-0.015205232844447525,0.0010293596216952583,0.002056504195872666,-0.0015392861466302366,0.01079141838135289,0.003050303289764189,-0.005575200484290721,0.004077467904388898,0.007614193539142278,-0.006549172071381726,0.005071013435685501,-0.0035317707316866453,-0.010632865036590222,0.0025588144686734537,0.0030627598506915987,0.0,0.0015267525306825735,-0.011686968428340716,-0.011311116301975899,0.015600683907987856,0.0015360357522868906,0.004601234920512232,0.0015267525306825735,-0.0015244251107869866,0.005089078036186079,-0.002531606939774611,-0.008629445162954497,0.000512044471594697,-0.0020471296649510196,-0.020512800950270416,-0.01413614933880436,-0.026553372385866192,-0.02345882743947325,-0.0100558831850166,0.015237046739623228,0.0038910336695276992,-0.0071981818721397195,0.0066926341239450515,-0.03324091409872021,-0.008596075605766251,0.030635879191839743,-0.011777851114482929,-0.017026170835428456,0.007505835473777811,-0.01604588391996964,0.02737328545521689,-0.016439853640181412,-0.006916474731698763,0.01857224047161421,-0.02792021609228479,0.005275507350839037,-0.030320727074642062,0.004810578938259535,-0.014961101956750267,0.017618525617107084,-0.0065672006180038656,-0.010817326428975371,0.010935620606782326,-0.031850889347182276,0.011173202877479804,-0.007980421166908558,0.009900980750178201,0.022058861340894298,-0.022781838199206872,0.006134993015359358,-0.0036585041059751244,-0.031823773127769184,0.011378022038437186,0.011250019073486328,-0.0043263098580922366,0.007448722988108392,0.010474435064002696,-0.005487814309836914,0.020232981882993828,-0.007812449851859471,0.005451250838291788,-0.008433812878302693,0.004252831474266916,-0.01149428470448377,0.004283947011660905,0.03168802331498366,0.01063203201010876,-0.00350680135304704,0.00879774384698262,0.003488340888429642,0.0023174396088232463,0.002890239688685403,-0.0005763820554447463,-0.0023068578532493555,0.0005780479377370806,0.000577713991355866,-0.02020787457486617,0.013553415373680266,0.006976681776859284,-0.009237866641529147,0.011072292292955588,-0.01613836775153943,-0.002929070764758568,-0.003525344986911927,-0.004127340719511263,0.014801658320557465,0.006417772127693011,0.0075361832328466605,0.036824011962083514,-0.0027747582208100807,-0.0038953643572038343,-0.0033519255430749517,0.012892350911945627,0.01162152713712783,-0.00820577244225662,-0.015995533458504907,0.003923749676317367,-0.03908435337259919,0.01045905373337197,-0.008050568979995232,-0.024927553923233647,0.017835977993596153,0.010513924591326607,0.0,0.0034682876264224838,-0.014976971183215393,0.011695839247322315,-0.0011559856241032396,-0.004051018483289148,0.02498549262351446,-0.012471616834839105,-0.006314615951193869,0.007510171699948165,0.010894416335478052,0.009075539556281154,0.008431681327197182,0.013377913264971397,0.004950503359577363,-0.001642073666876076,-0.013157882353605488,0.006111145019531028,-0.01270024526964908,0.005592862760819051,0.0038931978090315233,-0.002770040951463826,-0.02111106448703326,0.0028376410147048503,0.005093387221239087,0.016891848715895774,0.00553711984644889,-0.0033039353770112356,-0.0066298804809005185,0.002780931350511162,0.01608424831583677,-0.006004400228382223,-0.000549056674128412,0.0032966738146826824,0.016976969444504775,-0.0005385152959709316,0.025323342361382117,-0.006831374851523742,-0.0005291126499300525,0.003176356550010917,0.012664895063621007,0.01771756868815455,0.008192516220520085,0.002539321264824812,0.004052681085797483,-0.009081751157785534,-0.04276986653220727,-0.009574383251692686,-0.00268534598042669,0.017232078625903702,-0.001588077303661617,0.0031813077412867763,0.005813985724523851,0.0,-0.012611653308377768,-0.00425768106208968,-0.008551568959984213,0.0010781918375346589,0.018309109217845343,0.008461123675471915,-0.012060804715101847,-0.0164543239613405,-0.022665950390203582,-0.0016565812056549278,0.017145988232883047,-0.011419200187188006,0.0,-0.022002178867752464,0.005061875653103343,0.011191877235490866,0.0033203910877523946,0.0038610924110982214,0.002197747609997913,0.0016447745077832199,0.001094715777917532,0.0005466550591974872,-0.0027321988603852265,0.0032876419694456427,-0.0016383823141379317,-0.0021882338087966247,-0.0010965163385224796,-0.024149212035725953,0.013498299316626383,0.016093174295884527,0.011469197047870194,0.007019392956446158,0.0016086159388279953,0.0037473069422180316,0.004800008138020839,-0.004777078124148959,0.0037333170572915186,-0.0021253458462971997,0.0015973790308860814,0.0005316442937672861,0.0031880694428960688,-0.0026482647925351044,0.014869925001592899,-0.0005232981979296225,0.0026177610503641535,0.0046997469650496,0.008316000484173358,-0.0072164635258402665,0.0,0.004672905063257682,0.0020671321648666474,0.0015472247338759182,-0.0010298896851232975,0.0061856103913926486,0.009733535976092389,0.0035515781544606106,0.0015166217520472536,-0.0010095179684088684,-0.0015159517563217983,-0.0010121689034418013,0.0005065972136670815,0.0045569697512855,-0.0020161751622832513,0.002525310421002125,0.0,0.0025188532040141265,-0.0010050481480938789,-0.0010059633430221648,-0.005035265780283793,-0.0015182533551625355,0.004561589187836779,0.01564074019755579,0.0,-0.0014902523868626227,0.007960191262464722,0.03701875575158353,0.008091388597904148,0.00047215433133840357,0.012741790637573747,-0.012115486142836085,0.00943390794308141,0.0037383142585094564,-0.005586542571791697,0.007490629346451172,-0.000929389281516424,-0.01488370673601025,-0.0037771445964759343,-0.0018957779528038232,-0.0009495988092202978,-0.016159702366598916,0.03478257424239084,-0.01027074288379537,0.001415036708362516,-0.007536497920963003,0.0,0.023255803427397748,0.0032467391724566586,0.0,0.023116043430409405,-0.009489339920308537,-0.00775547790612463,0.0013793419147360986,0.002295649012132639,-0.013742521214338721,-0.010682835218283393,0.0009389886610358111,-0.006097521699222175,-0.007078792579036874,-0.006178757721407413,0.002391163913218808,-0.002862570065035319,-0.007655495231217779,0.0,-0.0067502117258168015,-0.002912595380160976,-0.016553073876976576,0.003465331296058638,-0.0024667559585591636,-0.0004945711781121354,0.0004948158997946095,-0.0009890480264175272,0.0,0.0108910547052119,0.005876632653528002,0.0,0.013145011605667944,0.0009610984275325585,-0.005760962058229513,-0.004345642164066188,0.005819540591698091,0.0019286844729404784,-0.010587161377935361,0.0,-0.005350131607986808,0.006356926939689478,-0.0014577593176250403,0.00778588094171595,0.0004828695955534368,0.01447882019068536,0.006184546048313422,0.01654848169184242,-0.020930268043695577,-0.0038004715727119054,-0.003338087606881146,0.0004784798595387496,-0.015303667965536838,0.005342428826438761,0.01304340775186974,0.0028612959110974057,0.0,0.010461212846949675,0.0070588055778952885,-0.005607426823543538,0.0,0.01926690950106069,0.0023051745426210246,-0.00551973013560858,0.003700273848319169,-0.001843360097740554,-0.0027700584656076277,0.0,0.011574073869668577,-0.0114416473974992,0.0101851532161652,0.003666357691335387,0.0059361219351452554,-0.004993218652881937,0.0036496315432301696,-0.004545471884987329,-0.003652964616417842,0.0032080520533108725,0.0,-0.00045684007129609405,-0.0018281083049781488,0.001373657803841688,0.003657975337730157,0.012756208180622286,-0.009896505527878907,-0.014993181293702529,-0.0027675030026663716,0.0,0.001850092813415749,-0.007848572368030493,0.034899953838434694,0.002697817741001085,0.005829644509547149,-0.004012490029575266,0.01656217230785928,-0.013650351318346465,0.0008928775939407441,-0.02007139881392206,0.008193004588141983,0.0031602571570996663,-0.009900959502832651,0.015454552390358867,0.01074305145384491,-0.0026571951348586254,0.01110124311359928,0.01317519679531931,0.009969637853438185,0.006008639552845585,0.023037499824033913,-0.0008340474622796634,0.012938288194339398,-0.016069274398069266,-0.011306472357781039,0.0076239009115850465,-0.004203462699509886,0.00844233225336155,0.00502305744241216,-0.0037484444702183817,0.0033444784051377408,-0.006666660308837891,-0.0008389453706233452,0.010495382166370026,-0.009139979897955564,0.014675068170718397,-0.0004132325853952734,-0.006614296977250578,-0.03245945336485112,0.0017204694850472269,0.021897737290048402,0.002100888487900354,-0.023480061089536597,-0.0012881359152503435,-0.01203786259201478,0.00565713971735704,0.010385104490679531,0.006423966427397287,-0.0029787104180519774,0.0008536260137927965,-0.005970204368535903,-0.006005979959501251,0.006042269710291093,-0.00557696970163124,0.006471079230174759,-0.028289749231480643,-0.0030877677365963585,-0.004424795565566408,-0.007111104329427076,0.004476292783648139,-0.0236185683614899,-0.005020566459043252,0.002293630557755888,-0.006407381901732068,-0.011515431162721801,0.00232996954996878,-0.019525805291717546,-0.02181133183940953,-0.015996119104727535,-0.007389144047671881,-0.004962798181781136,0.013965122059852897,-0.008362030345888671,-0.01984125106933554,-0.008603242627774565,0.005104664660072533,0.012696800061918534,0.005015064131965508,-0.01397208951365636,-0.01163965281235968,-0.023041512909273032,-0.006289352186228281,0.0015823147728988296,-0.0057925545906990505,-0.009004241729375417,0.011758483777035922,-0.01109355459248862,-0.009615299381914855,0.014023641245640484,-0.013829698515128941,-0.022114440912317623,0.0016547538904705394,0.0033039353770110136,-0.007134970673204899,-0.007739048560948203,0.003342588489815501,-0.0016657793594803127,0.008898768158267512,-0.0027562976153727714,0.0005528042453004645,0.016574543134688646,-0.016847797411375542,0.005527937016375217,-0.015393110413672306,0.01842545653364369,0.010964954246114544,0.027657278422519305,0.011609461978742797,-0.021387576723023605,0.006396531472319333,-0.004766856421597576,-0.007450840349953136,0.01715816093134226,-0.00369002094664983,0.05238094132803739,-0.004022117956810511,-0.005552685813648872,-0.014720858086102684,0.002060840589479973,-0.008226212911877084,0.0005183162809057063,0.0,-0.006735708078007274,-0.0005216603464807124,0.005741159249874395,-0.01868192017642234,0.012162852675422275,0.014106607438540086,0.0005152101473699933,-0.021112247466599898,0.008942665662658111,-0.001564165076546331,-0.0088772887561549,-0.004214959201027657,0.0021164505997195437,0.006863735855383801,0.003146275139095378,-0.001568153717350862,0.007853383012274673,-0.012987012987012991,-0.007894716764751286,-0.01167115205575242,-0.033279600634144924,0.007218165414464295,0.009922839648963455,-0.00163748798016361,-0.005467489145111748,0.014293580057627375,-0.006504110258599427,-0.00545555820436161,0.007131161348305826,0.02342049514602662,0.0,-0.0021288405310447844,0.0053333536783852775,-0.024403235146535307,0.0005437862541455285,0.016304410360261645,-0.011764770680605219,-0.007575724735732203,0.004907314713145761,-0.009766701150039081,-0.006575388451145137,-0.014340779568034256,-0.01231120371411032,0.01983005037021468,-0.028888914320204018,-0.016018237221363862,-0.012209359448040025,-0.003531457725171827,0.028352010253040794,-0.020677806634505802,-0.023460389233380008,0.012612672470428965,-0.0023725334566587764,-0.011296108056178089,-0.04449782650558687,-0.056010089621977066,0.012666638692220067,0.015799916486002985,0.040181394661204184,0.018068593726640936,0.0018360273173407826,0.005497754467034932,0.010935620606782326,-0.01742782564998857,-0.039143750971902036,0.023551870443071277,-0.008084584269758777,-0.011912199539521828,0.01713200849254215,0.029319980862262174,-0.0024242979107480522,-0.0048602629499245875,0.00732605893660998,-0.018181771943063474,-0.0030864902502700797,0.024148687690963788,0.009068900255589263,-0.0029958743444704616,0.016826964958886803,-0.010638315860764913,-0.005376353274697765,-0.006606528860247485,-0.00906901557291262,-0.01708351371103256,-0.01365613027273549,0.003775926031845289,0.0,0.023197485265432638,-0.015931386871550934,0.0024907171144168405,-0.013664612535166043,-0.030226731262687156,-0.012337635395437196,-0.0026298462690801383,-0.0019775697310687734,-0.002642005346496945,0.01854302820513798,0.050064986889458485,0.011145529995508552,0.013472095185690813,-0.004229589006111034,-0.020024267771385773,0.014241458060000989,0.02869360468765292,0.026112790747559567,0.014459224219906641,0.009121997665944681,0.0056496310627554,0.0028090531770963434,0.008403339794098352,0.0,-0.025555504692925335,-0.02052454911977064,-0.0011641709783699605,0.0460373497990727,-0.004456820072744727,0.00559588525041077,-0.02559816928489278,0.0342661549758323,0.01877416571667867,0.010298028122071257,-0.02950639780417519,0.03648423669679701,-0.02826670328776071,0.02689351205183743,-0.002137841268624374,-0.014997358623529466,0.010875517649664879,-0.005379256624471029,-0.016224945417746994,0.007146737600320696,-0.009279480301627507,0.009366395584955445,0.0,0.0038209441042729164,0.005437758824832439,-0.007030782172840588,-0.06154689708877925,-0.027277964355273077,-0.02326965300253203,0.019547933929074057,-0.0059916344080196415,0.03134421054737335,-0.006429024338258316,-0.005882375380572125,-0.014201170209200087,0.006002423912702559,0.03281618314734591,-0.006932347520914983,-0.011052968479039804,-0.0011764975155099666,-0.015312145812201527,-0.011961654533746313,0.028450320843279142,-0.026486101333314194,0.012696437294360319,0.004776114848122681,-0.0005941906670927644,-0.0029726063001017655,0.004174102141530467,0.02850353550398066,0.006928455043175186,-0.0051605590499916865,0.019596550150570602,-0.007914148828177536,-0.017093974364798536,-0.011014523713484992,0.021102029403356592,0.006314615951193758,-0.027381713108010963,0.0017595711429885252,0.02459016851112561,0.009714290073939535,0.0028296115927937127,0.03329572096220357,-0.0010922201528315023,0.0032804517735942618,0.006539451192924206,-0.028153685422124486,-0.0016713473743938945,0.007812465906941624,-0.022702096319841325,0.01529747669117243,-0.0239955526420238,-0.01086338116318164,-0.01676294918889154,-0.004115208341112564,-0.019480514362593793,0.0018060673205622102,-0.009014400482705964,0.0,0.03638571193436979,0.007021587525649853,0.0,-0.008715841168498772,0.009378654889850457,0.005226489905727938,-0.00288845976910157,0.009849366977960683,0.006884620182658896,-0.0074073599098557485,-0.004018352153710825,0.0034581823990311733,0.013210772214367061,-0.0017006111300932325,0.0022713802834963825,0.003965988461026804,-0.0022572804587280837,0.009615388764681043,-0.01176476119514791,0.009070286448309206,0.01404494442221571,0.00831033419496885,0.013736263160442963,-0.008130163668080503,-0.007103779573024771,-0.0038524873159218043,-0.0027624941080315324,-0.008864257849030666,-0.004471767827579853,0.01796741742952568,0.03916166710904978,0.008492560834195695,0.0,-0.0031578666285464463,0.004223860689032355,-0.01735015329988354,-0.0262172154690562,0.0027472107123400757,-0.008219157179740977,-0.006077381659294057,0.014452486503043094,-0.008767114926690911,-0.005527937016375328,0.0022235083955677304,-0.0038825069055432593,0.08518935215137469,0.015905565396761245,0.035353575248085356,-0.00780487060546875,-0.010324532460466607,0.014406404750008983,0.003427996795430044,-0.01610541373315233,0.01587300085546861,0.007324200287256888,-0.02229758134685078,-0.0049578770992300125,-0.029397118164383507,-0.005133489929140422,-0.019091792977669275,-0.01209887109243124,0.006389719249057402,0.011111163812690616,-0.008895869746956109,-0.007391831734393284,-0.017553188143514586,-0.007579826467411621,-0.013093277256797542,0.00442232852577451,-0.0011007406538079412,0.02203854693869456,0.009164424974978047,-0.018162401979648468,0.007617045886264773,0.01511872421037097,-0.005850995078025667,0.0016050710775639132,0.008012902317357629,-0.002649769061229823,0.004782154837794206,0.024325806215394596,-0.013939104081853948,0.0026177610503641535,0.014621446069093658,-0.008749360454135324,0.004672905063257682,0.0020671321648666474,0.0010314831559170567,-0.003091162617931853,0.012919896386121676,-0.0035714129317262477,-0.0040962581102598206,-0.01028281517194285,0.0031168553736302673,-0.023303928950619612,-0.014846271345920647,0.03390738231181567,-0.017699024541551145,-0.014308449695577319,0.0037634243757302954,-0.013390465933496909,0.008686202320814296,0.007534951034623871,0.009081200989824678,0.0,-0.006352511157333707,-0.005327670699569076,0.017139780049092668,-0.011585008741763714,-0.0047948934679256094,0.02730193900160316,-0.08285565963200592,-0.003409060491018745,0.002280445045091284,-0.0011376824715851885,-0.010250587166867109,-0.002876826206839822,0.013848803933914855,0.007968092890159761,-0.010728325044102816,0.002283048352375472,-0.01480639161670294,0.013872930002948092,-0.009692136112915084,0.0,0.0046056372965372905,0.0063036503262823285,0.006264271850628944,0.022637216570638996,0.0066408877288344215,0.000549765178022632,-0.009340663141076178,-0.0038825069055432593,0.0027840282270619188,0.0022209332409983684,-0.004432128924515388,-0.005564745572737895,0.024062584086906647,-0.008196700807861057,0.01652898902008193,-0.0005420178031605438,-0.0037960787850809252,0.004354922158479102,0.01355013494103341,0.01657751087137682,0.0036822563903951,-0.008909857283737499,0.009518789351043555,0.00419067171642773,-0.013562870518887271,0.0026440633243787204,0.013713092902771118,-0.003121720503948766,-0.025574100992717175,0.028387824557026597,-0.014062523283063233,0.0047543661456403985,0.00210299722481766,-0.004721938882984333,-0.007907202106468891,0.00371943124119567,0.016940164381348488,-0.00572611703515602,-0.01780105475378657,-0.0031982657361599998,0.0,0.005347511766912616,-0.003191461083897562,0.016542127520201566,-0.02099735614435616,0.01823057155722796,-0.023170117923161593,0.013477089503083794,-0.026595745760156553,0.002185842469672572,-0.026717544549694106,-0.014565838841759549,0.003410998602723536,-0.022662868395211033,-0.022028936856034798,0.002963795766048216,-0.011229345933858714,0.004184082291664115,-0.008928549127512841,-0.0228227729413093,0.008604756343546072,0.011578338563335233,-0.025301208833873545,-0.003090305529424686,0.002479908097245076,0.004947428777278828,-0.026461557241586497,-0.08343866752766638,0.0027586180588294873,0.012379663387072082,0.0013586619379450937,0.03867032953524219,-0.0052254000775771026,0.005909399559619333,-0.04242817437848101,-0.017041581370131564,-0.04646325053738409,-0.15781818736683229,0.09671847089275598,-0.1314960709743962,0.059836796318246455,-0.04277160119312906,0.04557642966992548,0.02991456300645101,-0.04481327413324254,-0.019113836894352754,0.031886595030435894,0.0987124987004655,-0.02421878242166675,0.004803876758704639,-0.0501992115431219,-0.019295343493164863,0.02566297703194831,-0.05004165464962762,0.04126420537204134,0.046374385046900946,-0.008057971718369084,-0.01705930389834287,0.0,-0.0008264651707906578,-0.014888362523076792,-0.0386230095751785,0.013100486873651729,0.0008620064550592943,0.0008613461823905322,-0.0060240701818949915,-0.038095283704893235,0.04500450184078031,0.00775195135652984,-0.0025640797829276085,-0.028277628238957964,0.037037043266537895,0.015306067006648272,-0.009212701888027364,-0.024513944524369835,0.04332755646904807,-0.008305679550379086,-0.01842540377605517,-0.0392491491182867,0.04262873290225455,-0.00851783899020353,0.03951890245526091,-0.013223206284477373,0.016750483246920966,-0.021416822201726027,-0.011784540570212165,0.045144863456417994,0.021189834189697,0.06783722263241976,-0.04185354370903882,-0.026521073376090554,0.009615452214343234,0.0293650693934282,0.02158825961499633,0.009811329391767432,0.050074743689338286,0.03914592051732191,-0.01917812872120772,-0.02513964136517155,-0.027936987267696334,-0.01031683071458267,-0.012658233241322203,0.03846155505872417,-0.006535958576323053,0.011695895017749036,0.019508634473451858,-0.012756864343103413,-0.017946876850182925,0.036549706786981995,-0.01622006283220534,0.022222252606111548,-0.008415139104699043,0.015558649788744994,-0.013231168866703502,-0.0021171300500822943,0.015558649788744994,0.006267420246492961,0.017993095661851033,-0.0047586468145949246,0.014344264564362108,-0.05723908145688561,-0.006428582327706378,0.027318484443521696,-0.01679494553945693,0.007829156952594563,-0.0028248560935075773,0.039660086696560626,0.0020435784977890226,-0.02107412772350692,0.0368056042142868,0.023442693947841375,-0.012434527729298317,0.00397610770945489,-0.03960392362396736,-0.0446735782600538,-0.01366903493508076,-0.022611263220579825,-0.01641785967294085,0.006069796802253391,0.0037707533839974605,-0.005259252163160366,0.012839885138426155,0.005219962387823962,-0.02002963748206188,0.0037850257827762857,-0.030920048290729252,0.01789879652984272,-0.017584062964670077,0.002334609500436402,0.006987589424551688,-0.008481157138538808,-0.008553628274797997,-0.003921583587048083,-0.0015747641251747657,0.005520480531506555,-0.03450977101045494,0.027619755265951396,0.008695700685273478,-0.012539172769758578,0.0,-0.01984126924056795,0.0,-0.0032388632078949042,-0.021933423928516604,0.044019911515815524,0.025457490554299245,-0.02560123467157227,0.0477706534832838,-0.028115493149632576,-0.0046911977948127515,0.00549887282134498,-0.028125047264620062,0.018488786468556784,0.01341752764564097,-0.028037430379547423,-0.01041659980247922,0.015384580932352065,0.012759158524627834,-0.013385832980085777,0.022346423991432163,0.04137390441920452,0.014242846942279952,0.011086517011456465,-0.00804098010947707,0.013264576950906992,0.003636377507989952,-0.026087000389555137,-0.012648744637444587,-0.009043016962610007,0.017490532515798796,-0.0007474012553291276,0.014958848988559703,0.02358147794362786,0.02231817554212001,-0.03380278511857027,-0.02551023138904951,-0.03590123757254293,-0.055081459987296744,0.049261035530552943,0.003129887534334852,0.03978161006413572,-0.0060014946859665574,0.0732075673229291,0.0696202357614315,-0.020381355610730623,-0.018791928868439056,0.03351571648110352,0.016545334591687055,0.0065104416474550675,-0.040103485383522264,-0.007412439974428309,-0.004752185811242038,0.006139164633332417,-0.01762713416148043,-0.0048308968895739435,-0.006934839177575425,-0.02374302792134697,0.05007158697141678,0.013623964925574494,-0.012096794609637973,0.0027210858756485656,0.015603833072054263,0.005344016184305245,0.013953490729937235,0.02817820085530709,-0.01210959754395724,-0.011612922914566393,0.015665843966926607,0.016709464537014718,0.015170655862697613,-0.012453288662260809,-0.02774272319722637,0.005836585742061917,-0.0006447600731310787,0.017419384371849755,0.011414035908467568,-0.01880878961268695,-0.0108626249480962,0.021317886766080374,0.020240274045335127,-0.00495969794596407,0.02990663379451175,-0.0260133265162642,0.04347818875808751,-0.037499951748618754,0.00556587211893933,-0.0190652161902225,0.016927868797372403,0.003082684742656605,-0.015365703316910784,-0.025593058013161918,-0.02946829264984685,0.01650165058052,0.0,0.009090931609784025,-0.027670547376533516,0.03242890376744301,0.0006409791642951745,0.004484346575151399,-0.005102035851341502,-0.0051282001121668586,-0.0373711894505927,0.00133871876341507,0.0033422587304390294,-0.003997363004781818,-0.010702331067118265,0.032454394668606,-0.03143421620964004,0.006761351029591189,-0.020819369541231314,0.007544558110620603,-0.0006806858742783861,-0.032697580785567615,-0.012676010839381857,-0.017831668462005013,0.015976710678354156,0.012866355119417694,0.04304866996421275,0.020297712865692707,-0.025862091863121717,0.03199457320995691,0.007255977009151593,-0.011787838885379043,-0.003976170908547627,0.01796410263210957,-0.016339869077347635,0.02458470969235349,-0.0077820937072213825,0.019607855359147885,-0.0038461806506088214,-0.02960103212845311,-0.018567621643752585,0.012837809319910853,0.01067377250534629,0.00990102811759308,0.01895424563645709,-0.019243116600294874,-0.018966642418348445,0.018000030517578258,0.007858538438882068,-0.011046138564103747,0.015111664796391588,-0.005825252666599945,0.009765662471182601,0.007736936414457496,0.011516334219951574,0.003795032533201903,-0.004410818861310339,-0.004430420737563279,-0.0069929853705263945,0.017925719271614904,-0.0031446061798814373,-0.016403799534655206,-0.019243116600294874,-0.005232172917308375,0.003287323511470097,-0.020969898014345123,-0.009370776009409054,-0.010810800361494177,0.015027275149951391,0.0888291170252753,0.0018540654345524654,0.01789024872957179,0.022424293286872565,0.0,0.0005926687039605749,0.01777258052870412,0.01280554769770359,0.0011494516208134797,0.00803670430742165,-0.0011388696482494964,0.003990860386001938,0.0011356359864793664,-0.0011343477803189561,-0.00795010176858102,0.012593086969096223,0.009044649100155233,0.005602262147486492,0.04568243231037816,0.0319659225805482,0.0005161755859581785,0.011351972664090937,-0.000510215749347287,-0.014293041575526355,0.0005178782578152408,-0.019668693932143322,0.028511034474771657,-0.017967165795402695,-0.002090904857996123,-0.004190671716427841,-0.01315097301367596,-0.001599183703597462,-0.02349165175988288,-0.0164024674353348,-0.0022234023728521235,-0.055710304038797065,0.03244833110940615,-0.011999947684151802,-0.012724187915198581,0.007615762767391843,0.013372065815944634,0.02925990934896272,-0.021739202084006926,0.012535682636301448,-0.023072585078802277,0.017281061435082012,0.00792748532605203,0.006179809835189953,-0.01619201622833133,-0.010783230704198177,-0.024096389497435866,0.0011758058491797563,0.009982388105671536,-0.009883724927515325,-0.016441613350319906,0.02029851657241144,-0.009947341999771764,0.02423166935953769,-0.011540724975183991,-0.02860477496347047,0.013221227690668469,0.01245546126159236,-0.02577624733004724,-0.0006012220106895727,0.028880837424702932,0.003508740620111306,-0.026223820917301133,-0.00837818056965245,0.0006035141258908805,0.004221935774808783,-0.015015015359025385,-0.004878044241883095,0.009191153268087726,0.043715922933847295,0.020360696369746467,-0.010262274559885376,0.01324882109158354,-0.0005685178394024826,-0.02673488711002281,-0.004091156769560289,0.008215926181134536,-0.004656572892024591,0.009356716014199407,-0.04287368257851443,0.002421247401353188,0.038043543987480444,-0.0570099720266638,0.00616905534347123,-0.012875480769399483,0.015527949942643282,0.00550459636012568,-0.025547449066310013,0.006866335821458902,-0.024178512705508526,-0.0082592195890282,0.0032030872411630273,0.003831444457300881,0.010178107168846262,-0.002518889267302482,-0.0006313275748421887,-0.024636787441717933,0.0032383544102156936,-0.012265951142075737,-0.0019607668364186592,-0.01506224551510782,0.009308533489218451,-0.005270087094713327,-0.0013245335932717817,0.018567621643752474,-0.007812492724042275,0.01771656573613334,-0.0012895201462621575,0.0025823087439684755,0.00579524495398509,-0.0307298044656259,0.01783352034126162,-0.017521058193566308,-0.009247050207928043,0.018000030517578258,-0.007203707076225752,0.003957811360198571,0.09724050393854333,0.017365209277252047,0.021777565875096272,0.02707369221371092,0.0028042197013176118,0.0011185938871607348,-0.008938539152060887,0.008455446474947559,-0.007825567044426052,-0.007887289557658494,-0.005678613174547098,0.0,0.0017133458739779783,0.0034207219390318677,-0.011931874276684185,-0.004025284489997505,-0.006928344919118312,-0.005813975408954564,0.007602289933716921,-0.031340628121028,-0.020970663287608327,-0.017135904775445465,-0.012453288662260809,0.009457791642601743,-0.0006246239062379644,0.004999995231628418,0.001243809568318932,-0.0012422644279370676,-0.016791014015572703,0.00885511612477452,0.0037617818391348923,0.009993744230151425,-0.00556587211893933,0.001243809568318932,-0.0018633966419054904,-0.040448016855882396,-0.001297046541161917,-0.000649303600987361,0.01039635112688786,-0.001286203055842261,-0.0006438683438152459,-0.004510350930016727,-0.0019417303133688613,-0.005836585742061695,-0.0013045990990796508,-0.01959504784535937,-0.015989324947268346,-0.016249202258238782,0.00825876722397867,0.0020478284932896607,0.013623964925574494,0.007392449988659067,0.007338266312952646,-0.019867561798410094,-0.01486488271578068,-0.0027434816229314762,-0.0034388026730428622,0.013802609553092093,0.0006807507942470092,0.025170060568700192,-0.004644969889963768,0.02666664123535134,-0.030519436688099533,0.0026791668476497943,-0.008016024276457645,-0.02222221651373424,-0.004132260173904889,-0.0034578278425282383,-0.008327542458692827,-0.009097278851501134,0.026836166563262154,0.014442918755015688,0.00745760384252514,0.013459001854659203,0.02124831911740177,-0.019505864011872154,-0.015251959111403202,-0.005387200111178547,-0.021665581488207075,0.017993095661851033,0.006798122448021804,0.002025640251262617,0.02425873672342682,-0.04473680000225877,-0.02341598773201814,-0.01763046506485244,-0.03589375370036585,0.0007445476530383299,0.03645838839962989,-0.03948314276278264,-0.014947668726047358,0.010622108225101012,0.011261304477572454,0.0230140653152906,0.010885382809237898,0.02297198046042559,-0.004912259285910214,0.014104358600904865,-0.013212832583138212,0.0007047377855924353,0.008450696279642678,0.02932961489138486,0.03459974469478233,-0.005245896636462799,0.015161472714541713,-0.000649303600987361,-0.012995500875750632,-0.007899926851482664,-0.007962832646924212,0.007357900451837596,-0.008632145472691088,0.018084360252541787,-0.00986839607977108,-0.014617957756853928,-0.008766022596744083,0.0006802876878633235,-0.004078886435153195,0.005460745787656318,0.0013578043710269494,0.02508473800400557,-0.024470892087272045,-0.004745742021981081,0.0020435784977890226,-0.01291635485320064,-0.003443539198246248,-0.015894989057790188,0.007022498811590561,-0.042538396364066866,-0.014566628982753849,0.011825561756827252,0.00292183806275248,0.016023326610612232,0.03799281291883472,0.004143675518889722,0.010316342429423031,0.002722938257019525,-0.034623169793397635,-0.00562587357269928,-0.00848655464253567,0.004279562338327825,0.003551149929388764,-0.006369437498865316,0.012108267575202225,0.0,-0.008444749137011986,0.007097191391942204,-0.004933030084157908,0.0,-0.0028328585111344617,-0.002130662864612942,-0.022775846559031088,0.0021850464417876303,-0.010901204194004532,-0.001469471314758275,-0.019131731123073092,-0.01350339881515461,-0.0068440457432979995,-0.0022971428546392225,0.0015349545797043174,0.00919539339503439,0.009870927387078732,0.002255618988042718,0.02550638818708717,0.003657658409349507,-0.014577245289547514,0.006656745256387486,-0.015429834198705916,0.026865717955225632,-0.005813947847045808,0.029970748411240145,0.009936081485614867,0.0,0.005621987347428803,-0.014675054646336338,-0.02198584476806853,0.05656270740601088,0.018531260358199297,-0.016846361012766153,-0.006854035669902836,-0.0006901469316631381,-0.012430894833693196,0.018181833945029702,-0.0034340789350182366,0.01171606296432448,0.009536742965807754,0.01079621124877539,0.008010737176263438,-0.011258282913857998,-0.020093783295560885,0.005468210736860435,-0.005438472025737107,0.003417648007091101,-0.005449585970229487,0.013698616715036138,-0.0040540823542868365,0.028493899783967658,-0.001978874226460703,0.005287503179177033,0.013806708587789984,0.00518806247148107,0.0032258187570879393,0.02893889413154227,-0.021250009536743275,-0.015325656031716095,0.001296984694578729,0.023316102340374956,0.001265791382780046,-0.009481644843479464,-0.003828999318734372,-0.014093486111025344,-0.00779726334516595,0.010478051251842535,0.003240391190645564,0.004522005850681188,0.0006431015279211305,-0.0038560679947704513,0.014193565614761816,-0.0012722937292577452,-0.007006347644178401,-0.013470175502988235,-0.005201555468841601,-0.0019607668364186592,0.013097564064803446,0.018745957132987545,-0.011421338995028063],\"yaxis\":\"y\",\"type\":\"scattergl\"},{\"x\":[0.0,-0.01988994202483263,0.005613172235394481,0.033705445107507614,0.00747656872784952,-0.020202011464537706,-0.01472747667199803,-0.0040572802472165215,-0.003430528505702024,0.011187617531948302,0.012765924981299692,-0.027100780297953264,0.004534637837298128,0.027730028005880092,0.006483947912348853,-0.017040725540849455,-0.0023255943366989884,0.0031786719695732213,-0.02133498771182396,0.0010791978218103182,-0.01660199310113908,0.014470507313747216,0.029608794431185137,0.002728821783811286,0.002302713194420214,-0.012113655349120789,0.013107800039856787,-0.01585973185670375,-0.004452906809841339,0.025133126432390407,0.026179062820921528,0.010528456452515211,-0.002203979376635079,0.000803231247794356,-0.0008025865851701841,0.012249008427646757,-0.0009918515614339984,-0.0009928363076759927,-0.0059630897151412565,-0.00839828400403031,0.004839719252436092,-0.015251898621380877,-0.002445464288384991,-0.008171634722052068,-0.016477842422907174,-0.016753910723780963,0.012140568382570827,-0.0014730575368246956,-0.005057991034938869,0.0036009740931872702,0.032503103970304315,0.024121021041346724,-0.010978029018197222,0.015539868206249308,0.0021860216816111944,-0.007733479819321154,0.004996003106035651,-0.023463914967069566,-0.009163118659065828,0.02383887897759207,-0.006423117157454694,0.026262610849707935,0.013779542784496446,0.011650455808176252,0.0019194297840150476,0.0003831505262710255,0.0009574729201793364,0.007269964889751401,-0.0007597514599820832,-0.0015206582422836457,0.013706477011891316,-0.004131478323063376,-0.01093716820117785,-0.004003795641906671,0.015122455502441401,0.01904586384084106,0.017394496868686993,-0.01855220928076029,0.004447770247199001,-0.009594104251733349,0.017511151664772795,0.02215311100021955,0.010567729151720107,-0.017546931866340265,-0.001984495936242947,0.003253801629948816,0.0003603686083544222,-0.006123922006206484,-0.00743022553723427,0.00547743718373539,0.009442536056751383,-0.019787704103287118,-0.01027713995304047,-0.010940110314282103,0.003936990698761189,-0.011577944737965251,0.0013224956436921342,-0.014339590972324623,0.007848388863683997,-0.004938312035996262,-0.019851134331810072,0.0021421735855944313,0.022541777459186063,-0.011022387459722616,-0.012874749651333284,-0.002335973026666438,0.0019511897389479227,0.01947419726806765,-0.005157529148732909,-0.006720473819370243,-0.0019330847671754636,0.010652706288635017,-0.010348810125893837,0.01878391231928589,-0.007413027658694005,0.001531942062186431,-0.0007648358721005222,-0.0001913188261448706,-0.011291868949050543,0.013937305900692865,-0.016609444995059675,-0.0009706705239717062,-0.004275114844925265,0.005464456872072088,-0.012228281492965287,-0.004716012313773832,0.0015794277186063077,-0.010053189949442154,0.015531636008310645,0.009803921568627416,0.0038835099599892065,-0.006576405175444666,0.0031152617895386925,-0.014751594128061485,-0.012805313882484848,-0.003592103432116023,-0.011415976193477784,-0.02269041568143504,-0.009535714825135488,-0.008999588031846528,0.017529078306271595,0.011623108545951055,-0.006360306988417275,0.019409428469661538,-0.013773553167663266,-0.0020537785364864725,0.003910241327687469,-0.0049200055304510215,-0.030696366921372786,0.01764084685469891,0.005639107179207681,-0.02512986211474144,-0.009160637361653068,-0.008815305573173893,-0.0049891442483546156,0.0037061693394635498,-0.019331002865994207,0.0004428935191718164,-0.01926054830976054,-0.031602657681547464,0.003729600040121017,0.03715741809319906,0.03672188524970332,-0.010799136247064522,-0.010043648299898456,-0.025805072335796986,0.02082866248089199,0.016189832330138598,-0.015713688902194822,0.0053215451571362316,0.007940022257168167,-0.012472640816375113,-0.005539552273058246,0.0271835422676181,-0.004338328738870745,0.025925895144862876,0.0006370520110356992,-0.028225764993756064,-0.012666560809305616,-0.005972140305935292,-0.023364469718441527,0.002506279605406281,-0.0031818043101917715,-0.025307811101342947,0.004678380419636197,0.011175774940858973,0.013815299790582491,0.03247786383878282,0.014738275343948004,0.001300619059278807,0.02836114769948339,0.0018947400544819804,0.004202579581806809,-0.03892028823433713,-0.0137165483111098,0.010816814276365827,0.0013102764226717856,0.0032715710113617735,-0.009782625281292479,0.0002195858704281406,0.01624227044477977,-0.0073434159436387425,-0.003916455804207963,-0.005024018094564653,0.011196534462628804,-0.04081634850331106,0.0049796563871311594,0.05022521318916073,-0.009650455771641697,0.005846696751394598,-0.019806285651917666,-0.01691193671004032,0.0037980784186222305,0.018918283292848947,-0.009829553522087475,-0.00242666238491529,0.004865046441111742,0.009903186103420225,0.004140388841432641,0.013454837396879693,-0.005139222153016765,0.007102923752854373,-0.02949350376390525,0.005285216456138553,-0.023220182647531895,-0.01995961844814631,-0.003890205507427358,-0.0016080794116061226,0.034744642614821464,-0.019346291371268864,-0.0034013087612612125,-0.02047785006269731,0.03716613977175087,-0.007390858225691632,-0.009025305248944293,-0.011156600277729356,0.0016117820477168365,0.0055172799647540405,0.0,-0.02652034300179673,-0.014795703171054386,0.006674583413696533,0.012313532166714714,-0.005847953216374324,-0.001882396024816213,-0.006836329876184988,-0.0244481976710339,0.0019465166429402103,-0.016512877613804045,-0.025432068624614113,-0.003293667699382885,-0.015760013459074296,-0.00878099539950672,-0.016414826747845335,0.0137748465632761,-0.020642824825654826,-0.019477042453367344,0.002721046914859526,-0.00949792370729352,0.0027396842224953755,0.007103883799730815,-0.01112316442276362,0.028257853435880387,-0.002134418818956263,0.04786088309626102,0.0028068541517274337,-0.04529259068326663,0.023454185964252527,0.031770764518946004,-0.006814751767860172,-0.004828427803724944,-0.024514787748041722,0.013874313317058018,0.008262321162055386,0.017669717154601194,0.01409153334025115,-0.002481351762139372,0.001243762092329126,0.04248444930366846,-0.015490889546329267,-0.010409108953789548,-0.006849378343400714,-0.00862065239594001,0.02981368355129077,0.031363069074364924,0.01754385964912286,0.050574730182516126,0.0,0.045295397380012536,-0.001465348422722168,-0.00943397810779667,0.028571396277695005,-0.0028806459679825425,-0.027445275309210038,-0.029068591460501336,0.011800719740700627,0.07019438560591928,-0.007063541463373291,0.01036581938261616,-0.0028163225151249804,-0.027637662705650712,0.003734446106361533,0.02315003942037741,0.003030333856139489,0.0006042050025163448,-0.020933995755611945,0.009868411765204366,-0.03644130984840377,0.0006338216382062445,-0.01140204621131935,0.004912420840142762,0.0,0.03294366125812043,0.04012347374821035,0.01899108009815431,-0.011842298884317759,0.01591350755032761,-0.009862663518908188,0.02031251757871333,-0.005551319031578128,-0.012512059987159985,-0.018518533666042503,0.02323737873088394,0.026203386299032072,0.0,-0.013618260271453186,-0.004218623475858441,-0.021760082061902386,0.004330732756047562,-0.013524081154804968,-0.0003973863905429864,-0.015702661378712457,0.041599381143948344,-0.006785619937834775,0.004294382640424255,-0.023906696287599005,-0.0021903745057300084,-0.014567941196263479,0.0,-0.009720525148920522,-0.012678992377002207,-0.011598955525116805,0.0027241670178659305,0.0016719296469354106,-0.00688507884317846,-0.0018907595687593926,-0.010313573586203328,0.009783051467340043,0.019376621577769537,0.014462746408549165,-0.005091649852734026,0.0020471298248114778,0.026557695950942373,-0.011741296568913318,-0.03463554623415421,0.0033375021275652283,-0.020790021449543783,0.006369491751101686,0.012658195249076298,0.00041667620340990474,0.013744269910880291,0.013763314805773863,-0.015805446877691143,0.031706833955188474,-0.030732406640785692,-0.014823990636752327,0.016718977581378525,0.01767722032232255,0.00787726151418755,0.016232415507515974,0.005915977962468677,-0.014899006989623431,0.002985104992615062,0.0,0.022817414213591736,0.014548981786614679,0.0049713602298913084,0.006659027111421523,0.013230027687737511,0.006342103128464505,0.017238188916109065,0.003097634213496292,-0.0014531883281765356,-0.0007276862768611503,0.002184579122848751,0.000908251367002455,0.0,-0.0009074271950121338,-0.000908251367002455,0.012363641912287004,-0.011494241848790776,-0.011627895694091173,0.01636028243905563,0.009585797983736821,0.0,0.0008957226322805489,0.0010739462043694026,-0.01430358005892085,0.024668974859464177,0.0003539855279208748,0.012918127386590816,0.0,0.004192834673864443,-0.0024356191851665487,0.00017436905313217288,-0.02266781641933535,-0.0008920470605019437,-0.0017856870378766265,0.002862251217256917,-0.0017838438524550027,0.01590420665134329,0.0007036221037992618,-0.016874654504695386,0.005721432023568118,0.02666666666666684,-0.0012121159276922144,0.007628270186910813,0.002925016978094108,-0.03825698245343989,0.011594678830873395,-0.02715572104371622,0.0001812966569227914,0.015585367988316223,-0.011420402912076133,0.0019855016719254603,0.007025819062120409,0.013416815376164015,0.009002617966395343,0.0019244333562842275,-0.017635797593110403,0.006932158122664456,0.01676958380677518,-0.01979165659458504,0.0017712059943313374,0.017503497873623486,-0.0013900611193389256,0.012528230219464032,0.01168586219666401,0.005945342197531289,0.008949658364944435,-0.012217565560440735,0.0045747281543466745,0.010288423021288962,0.014691105692840045,0.017604470488878476,-0.008730753664545565,0.007502839245947968,-0.003723482929121724,0.009587262655353923,-0.004184808172551291,0.001939595097038005,0.0019357788132865483,0.0028980889294305534,0.009792913812584514,-0.024642337267990366,-0.02265687733040067,-0.007671766035629912,0.04537816408301598,0.0,-0.015916425503593623,-0.03234764861708039,-0.03038999241890894,0.011143990706034446,0.015154142805922532,-0.022052573710530488,0.006591452616829585,0.018438733712431876,0.016074463408919604,0.0013322536564714937,-0.012472974998792963,0.0037049074107204927,0.020973154899370794,-0.027280195382717864,0.013684767563510558,-0.03666667938232415,0.010034633887724853,-0.009934940398133252,0.022664383920113496,0.006767005702104534,0.004873146088165914,-0.02056855448041628,-0.022537129959057656,0.009432330402224132,-0.0254369475240509,0.004971569261613462,-0.0031802174916679693,-0.021623492477838457,0.009239099900078429,-0.00017947086156022696,0.005026907997516261,0.006788157756745461,0.010645820930152539,-0.002633386825712458,0.018130588882209198,0.0069156556850562545,-0.010473911276982273,0.03678637675850549,0.0,0.005020907733230828,-0.00333057061582831,-0.0018378746609635233,0.008536965303049815,0.0036514725427905237,0.02530178184903109,-0.005161285400390514,0.003566816141611806,0.006138889241531054,-0.006101433218786423,0.0032309683895332952,0.0075684578462429375,0.019657975838828,0.001724147518291197,0.00453758569116669,-0.0029594208885225237,-0.027339536889450344,0.002088035201091021,0.0051290222464293045,-0.0009567462840005536,0.007023122362211476,-0.017118431263950185,0.0,0.013868741068050028,-0.0006361873947765551,0.01846251493882267,0.010782913089705026,0.0057205124433561405,0.012298161181126366,-0.003796507301336516,-0.002743907154918457,0.014215841198498502,0.00813867261410639,-0.0061294070332774675,-0.01744891100382895,-0.01255357775038679,0.0051163074582123436,-0.020515221247727755,0.01732281061608032,-0.0061919742310698744,-0.005918960614971991,-0.018646170987141053,-0.004151399198408012,0.00288600782841697,0.014708265305581225,-0.011343961034433914,0.02167331649962656,-0.010762789499877745,-0.01907914095565455,0.009644788581392394,-0.02913551649487578,0.006395529560119462,0.0027701154733807964,0.005524864275751051,0.006464087011591069,0.0035324538377519143,0.01567999267578135,-0.005198456501844473,-0.005859109067960944,0.004778640611518226,0.010145836573729472,-0.018204642579875085,-0.0089514284047012,0.00435484609296255,0.004335963638651297,-0.0019188158750448325,-0.011855140747788151,-0.01426720271986437,0.023848697058134194,-0.004819264852378269,-0.012106537381169291,0.00506531952171918,0.012680907417958354,0.01139828341687621,-0.0031746152847532683,-0.005414015234370351,0.01168747282959548,0.021680629239730687,-0.009293657013796253,-0.02032519161458446,0.015959144628713062,-0.0037700546503621757,0.011825922763385677,0.01605109566288454,0.002300637007667028,0.00902837002389223,0.005004461471674659,0.002716165901520462,-0.016854705321655006,-0.0866371269473758,0.015753351269507165,-0.01781887180628461,0.02032593522563153,0.007079296651237188,0.0019617909134246325,0.010768475078369644,-0.0033898156882393726,0.0025915102536824275,-0.021647820994441513,-0.004953815141261253,0.0014935306188967878,0.001657038796136101,0.008271298489487267,0.0039376187164128496,-0.007844411717747746,-0.008071122898350547,-0.009465288662735216,0.0028499273193069996,0.0011701721026635692,0.0,-0.004675217601442738,0.008052332449615562,-0.022466275098901867,0.0006809175976707493,0.009697170919727549,-0.004212300024051596,0.01962774750188978,-0.008463297971101347,0.003347293103589166,0.0025020468602623414,0.013810346957198183,0.0026259617037704963,0.0009821799499287742,-0.0016353603650530735,-0.010319427944116888,0.0013240952247464133,0.007272704573702216,0.01247131856510042,0.016207455229087397,0.007974481561658031,0.0022151801892149603,-0.004420568023718929,0.0009514360495901375,-0.00047526583974200065,-0.005389129050016983,-0.00350599554905362,0.0063969540010822,0.008739857530484008,-0.010554476587535722,0.003821013509348381,0.005392548084093285,0.005205897369176871,0.008003799850285764,0.010742562290980029,-0.00723969861305318,0.004034168324930532,0.014217248987198117,0.0004572056978082717,-0.0033506123733294535,-0.010849618856728749,0.005715975560008468,0.014132076659126858,0.0009088941387362937,0.005145222888460088,-0.00933446453296305,0.010182342520839827,-0.0003009518894774299,0.020015077383534363,0.006196491243868341,0.009384155693352048,-0.0027599480261322196,0.0010196604991745684,0.0037835001689745518,-0.006523696082010755,-0.0017509867112933675,0.016079497372258666,0.004747434779435178,-0.0011453924091452405,0.01705841134706154,0.0,-0.003382633884320141,0.01725358841039837,0.002363383403643393,0.0023578109922752777,-0.004151036893566218,0.016256747938038663,0.0049220756543035815,-0.0006803136293579426,0.00013617612860516992,-0.005309003464592621,-0.0034213767762983904,-0.01263386669597455,-0.0006954527217890583,-0.007098150968147365,-0.003644442391116942,0.007034327337081647,0.0033528619395117865,0.03258150901181067,-0.001887904694299558,0.000270254976603157,-0.007158276239104144,-0.004081118800701944,0.014069099742897384,-0.0014816892984480523,0.0,0.00431673690382417,-0.0014775099376838075,-0.008474539742435616,0.005155301290703962,-0.0040490678524957024,-0.0025749076981821384,0.0,0.0035326377937614506,0.002030889854310214,-0.012971207360669812,0.004380556898779364,-0.01390219755046218,-0.008016611517443928,-0.006966699503786367,0.0,0.0004210244156694909,0.006872340011175648,-0.025351715721047996,0.028011991571792683,-0.01988044347433271,-0.007517713181515839,0.0072888684769605305,-0.028660672194224857,0.0,0.024978076356131806,0.010545895859686016,0.0,0.01537154536170271,-0.001388867696126228,0.00041722918859865565,-0.004170763943903699,-0.0005584380435731395,0.003771536335699377,-0.022404684061742675,-0.012099622407417687,0.003890441457205629,0.012343916075124861,-0.0075145156453972906,0.04257147652762283,-0.04083314908001401,0.0017143249511719638,0.004563600717197858,0.013628606632590579,-0.014285773818803471,-0.005399222339405929,-0.0007143293108259341,0.010293084376199024,-0.007075138148506577,0.01040335436771711,0.02313116155646089,0.0022056249061970234,0.0,0.00756537929636214,0.005460771684353549,0.002308189618781986,0.0,0.017339457932653124,0.0026631768535341216,0.009296107833635103,0.00578950580797688,0.004186285774513188,-0.007816551034694363,-0.007353008942499462,0.01402123292834645,0.00013037446332497815,0.005217184497611438,-0.00012977989191742534,0.0175188962663686,-0.003953643330054879,0.004097307312115328,0.0053557533633254994,-0.011795950266099808,0.03747911733657672,0.0,0.02251638814296042,-0.010526348826619514,-0.0020787255011349703,0.004778818609627367,0.00670735428972935,-0.01586923245983307,-0.02511079479529532,0.024621270868369738,-0.014664231904256475,-0.0157579058361339,-0.00673441931192742,0.031086099041782278,0.009925596363561606,0.001965553190609981,0.00367831119100126,0.013193279049623197,0.001205672427990745,0.008550085219711345,0.006447772125699469,0.005101439085363202,-0.0074363181507903775,-0.018908269795870902,0.00024238355232020226,0.005210861884007434,-0.0006027175913517757,-0.0025331614066026464,-0.0010884504127198769,-0.005568996282933059,0.01533969010948466,0.006594669212237614,-0.005360297374633949,-0.004311384555108599,-0.012869854494579669,-0.0007310534765059273,-0.011218214539387317,0.0038229769637248,0.008476594583261221,-0.003654469920165049,-0.0025675398229857427,0.007967657652484528,-0.015201264124654945,0.0004938661950475431,0.017403156264263364,-0.007036295388904379,-0.0012217284787452432,-0.004281326900563931,0.011916476689435296,-0.005220350744660207,-0.018550210241302656,0.014175570947583704,0.010912204711740703,-0.00024253054950329478,-0.01370856786648611,-0.016236157998467338,0.014128497199169088,0.019602962962962822,0.002418435127172991,-0.0019300803276756096,-0.000483453185401439,-0.0026601402590894496,-0.004849678826368331,0.01742203061982317,-0.00047899550358165843,-0.003474313062013179,-0.01767253204267727,-0.01493086812351907,-0.002857444821011468,-0.005482213178357731,0.005011294505239849,0.01408622832489237,0.018684748629030246,-0.006998935825166419,0.0012151959291353265,-0.0021847348769175046,0.014718393114557138,-0.03164708040752784,-0.007056198358971755,-0.012591972918074679,0.010101049022522401,-0.02187500000000009,-0.010223681172623733,0.0,-0.061458937306568484,0.009767492923734133,0.009128040259087644,0.0074254496290520056,0.016483458620556002,-0.02307185280428281,-0.00850198740068786,-0.028583073897232136,-0.013591161319516432,-0.007670467383851465,0.005868823778024668,-0.007399981043228254,-0.013620027931787737,-0.010029104808137346,-0.00866251595944767,0.019105464746195677,0.01017300686634437,-0.02661485278759368,0.007685436224083686,0.006160137387289266,0.0058309261629181375,-0.01449275362318847,0.02058825773351325,0.013688716532490819,-0.0007106669999670245,0.011379735243742362,0.014205374935388981,-0.003328218856443632,0.008070045630932388,-0.0013802412468357783,-0.008154752596182258,0.02090300941118106,0.010237509938988865,-0.0008107713316618526,0.019202242825428595,-0.009420181220636259,-0.00013396913661745113,0.015405244505992899,-0.007255976643988582,0.01661129568106312,0.011372584922640927,-0.009693679376703068,0.0066561535963751695,0.003759897910724952,-0.012529078321422804,0.00013083239541833436,0.006408551787035588,0.022222310353272157,-0.0053395090107548615,-0.009585889832280925,-0.015098699202472865,-0.004716989148205841,-0.02843596707146856,0.014769597463650141,0.013486475423447164,-0.019894625900838903,-0.003360666783857935,-0.010655529026584398,0.00449900256195801,-0.01587945391014245,0.02261756090652489,-0.015104554599248976,0.008900472911731239,0.01927250492757615,-0.004127797135715872,0.011899978322685856,-0.025634281627686217,0.005153307483335423,-0.008634637964553327,-0.01918894389892989,0.004856368469587036,0.02319801639951158,-0.0013495071009483883,-0.025270307386243696,0.006100131126587582,-0.0075789314326956125,0.010969188452515821,0.017305345124019267,0.017280934043075513,-0.0010617363327772855,0.0007971992914099779,0.015531636008310423,-0.016993503944546462,0.009042557616641966,-0.00039534502349403144,0.016084393477204584,-0.005968588118517304,-0.010573000289002765,0.03931392622114083,0.019167328758924684,-0.0051065345302553355,-0.0053830786174366985,0.05273760355379031,-0.0076518339827683635,-0.02734935714537834,-0.007184464349522135,0.0038677174384538215,0.026597059582386118,0.0014528177820682942,0.0,-0.018133462014802038,0.01723715223882616,-0.00399421229828445,-0.02600558228022376,0.010979379122455057,0.02073306590749957,-0.022971847985857274,0.03650544074695361,0.003820435609633188,0.013915296663483012,0.009970656587930726,-0.009523806148157843,-0.008091023115419649,-0.0235252151545271,-0.0009685451880456775,-0.0020600845353959674,-0.008621725532827806,0.012371412834166984,0.03206293378045677,-0.011723329006134042,-0.00023729859711463241,0.00023735492110454892,-0.015065293315365547,-0.008310278833561724,0.026111265745703438,0.017871963243095035,0.00441857271416235,-0.0001157039494528167,0.0013893147316386134,-0.014568095016264881,0.009386312224029636,-0.005695662800444423,-0.007131173764587162,-0.024373009388745537,0.007723864167682448,0.004790437435675532,0.004529168611525636,-0.0008305611751077135,-0.011518836613809924,0.003123524061785732,-0.011976047904191711,-0.0009697191642991099,0.00024271139171738731,-0.00363904709938645,0.006208937667641967,0.02359342906523265,0.03900712897491676,0.0011376390487507493,0.005681818181818121,-0.00022595076911191558,0.003955678806986107,0.016773588124014083,0.0011071576002987804,-0.0004423901386575446,0.00918346820400373,-0.006578209408437896,0.00595961717128235,0.008996156676875255,0.0069587841812963624,0.00032392591619867517,-0.013385123833540291,0.0185995286636933,0.01149301517036716,-0.022193866183804145,0.0011946199844066197,0.01442666413319027,0.005132628038531761,0.003829793727144315,0.0071004468483630845,-0.0024202434020149655,-0.0372363533233655,-0.0029582190533248287,0.00769227415650775,-0.0077426293140818725,0.016045709624684212,0.0016225152063862325,0.01879047400044831,-0.0031799388807352003,-0.011271773163272325,0.008603951317276648,-0.0065045917924048124,0.004400597511721394,0.00919000420521665,-0.007094512717272905,0.0037326022826675853,-0.002974993630688094,-0.021206286673372432,-0.008383197124204211,-0.0035133913964754404,0.0031952502060546006,0.008786330538709919,0.02939580427317523,-0.0015864782764395402,0.009639788326331722,-0.003777154753678791,0.006108497627133502,0.008897712603187946,-0.0033201878392130624,-0.01780136506280494,-0.014202399147448364,-0.029674250863772178,0.0011080163337517934,0.01726624476297145,-0.04145365070373708,0.03314413416026385,0.008679421497073125,0.005881722360167707,-0.0056307163146530614,-0.007296070517105457,0.018758216496029156,0.007429684414832494,0.002351445344633829,-0.011516334454176769,-0.00226536236662378,-0.012001304313862149,-0.020463943679069674,0.0033515296079056345,0.013250222400127187,-0.01098901098901095,0.012888929578993125,0.0004387152756273327,0.012829011375996568,-0.008336085845677355,0.01419217329053879,-0.0029063968571167997,0.0009716503287693357,0.0017255827287359082,-0.0077518692140367,0.004774249072568404,-0.010691121815150084,-0.006876948468732658,0.012420281509385678,-0.00803384929829598,-0.0062383679291896366,-0.027422967064711368,0.00509573762968496,-0.010027032089098498,-0.01490844596609775,0.0020794860241757362,0.02409504287246622,0.02656760735905439,-0.0025222431272701185,-0.00582672366569259,-0.001990493249677483,0.013850415512465464,0.014754081684383635,0.0022617026163032072,0.009671196534388748,-0.003937875161635462,-0.0011752642938452906,0.003423188739118288,-0.012366776379199806,0.011334229907984161,0.0056569406071727,-0.003927008509746588,0.016728819609487244,-0.007964729840911677,0.005070734301388713,-0.006621791648723674,-0.0027510541779027786,0.01612728533757468,0.008979854239284935,0.016454558754827264,0.0009162730276128794,-0.019835184586185828,0.005085075349375634,0.0022715665892543146,0.0004120831941185621,0.0035011464911307577,-0.0069779407539332095,0.033378148899264604,0.0,0.002699966430664169,0.0028922003115217088,0.01392205210688413,-0.007355825880094535,-0.01146127895670368,-9.997137356676511e-05,-0.001399434110028186,0.0011011071939082129,0.00689925804692848,-0.010923520431549538,0.004016079638623937,0.0009999847412112128,0.002897112087392406,-0.01583819451695878,0.0035424945679176645,0.004135108687899125,-0.004419393559675022,-0.011501204177355229,0.004592742731421184,0.0035558109624702627,-0.02338527624154918,0.020420868620040222,0.006196674067685537,0.013225618558631025,-0.0011957228562399225,-0.02075014211878723,0.013854858702312844,-0.028838376346423056,-0.013140240583658036,0.008073016299372515,-0.003952208806884072,-0.002401542608341689,0.020828949599121405,-0.01209884466261546,-0.024182686745765736,-0.014571316380583288,0.010793307971189492,0.009930595729021663,0.024106563069955955,0.007743134372021121,-0.008708108480750543,-0.008887976347300652,0.015328479638307968,0.010989007544849327,0.007009292918520815,0.002017598942582799,-0.0014094370992417948,0.005645705663981149,0.006115294339364308,-0.007772008514878803,0.0022092911895739142,0.009619229009189656,-0.001290242954111509,-0.0018880534353314937,0.0031859785647747607,0.00019845814452601473,-0.007739618860336028,0.004499969482421928,0.009756131276325908,-0.0018732371175648188,-0.0022717871630983932,-0.009405054524753487,-0.029082511530252653,0.005867212412471012,0.009926332466086762,-0.01915086982362324,-0.006714891584573057,0.014040545529869108,0.0059487367287658355,0.019269977104038327,0.003801112821625763,0.0022920115638356275,0.00815271107472837,-0.0034516614285433622,-0.002968857424023419,0.012406947890818865,0.012156841801661988,0.0015498224081766931,-0.0038684866535401152,0.003592259675553766,0.005610856014796273,-0.004328975098154886,0.007632859087220778,-0.010163942365407963,0.010074525354192732,0.0034525810102774557,0.0003823082918610332,-0.003057224614714471,0.009199799698231148,-0.018136891814589107,0.00812375556571343,-0.01717192010946378,-0.0007808121429283554,0.0017583305689787831,-0.005363267044275144,-0.00039216583850343323,0.015103971453074072,0.010628004580880202,-0.0033460657669864835,-0.007769760753897015,0.002320164908208522,0.006751513755611116,-0.0002873996942538426,0.004408232785808375,0.0018128274576096892,0.010476175944010402,0.003204561471959577,0.004603512331177395,-0.0014963402380316904,-0.0017794775497360638,0.0015950287673553998,0.01030443535476433,0.004265174696159502,-0.005447293428027855,0.0064055183214539735,0.01614242174047309,0.0059912491900349085,0.00018044254756777178,0.007488288149383182,0.01020864518976472,-0.0056732506293692975,-0.008380091177285776,0.02706099447985233,-0.003851495275204786,-0.010632747639882423,-0.0031086107603265356,-0.002583757315099966,-0.002590382260277413,-0.0034032318677188478,0.016175440973249522,0.0021223723017631535,-0.010060001700657573,0.001515405317194407,0.015576324199088276,0.0027169604919723422,-0.01538328887243412,0.012871699321806762,0.009728313980681857,-0.01050255267848299,-0.032543851618181296,0.018224699605995598,-0.01264475298086476,0.0027958621542869544,-0.020595385063815308,0.013957728390896484,0.007154509406154919,0.005035496476970547,-0.007336492077054002,-0.014420896963769247,-0.005121148298198319,0.023071992969090793,0.010332379739016018,-0.01378386362319528,-0.007394045838970298,0.006540708654857674,0.0030685589217158693,0.008457822985140417,-0.016773776339211066,-0.006805807810977171,-0.06898123008567647,-0.02649660978612456,0.014112919041815442,0.023757449561624622,-0.012039983391491371,0.013267798271460407,-0.041804050653556524,-0.04443768953299443,-0.12394072445464177,0.07170496401453419,-0.0741283978159083,-0.14574700755910686,0.13395149206907564,-0.13951436200686196,0.038011672750290604,-0.0843661670953455,-0.00015385534382095223,-0.003538513183593661,-0.05604442552964939,0.1023879980164073,0.06424334915470498,0.03959286497950654,-0.05833443062791133,0.024921674303304275,-0.03640409479148876,-0.016870918452606798,0.021267188937400316,-0.03920717844642818,0.06980565115740411,0.027106363695381663,0.03019998852113992,-0.011356141188825442,0.01455851873787184,0.011716685102361568,-0.010409830035750467,-0.014727188713191675,0.014279990530712938,-0.004473636024876715,0.026962637951264856,-0.013513455130026664,-0.0553163441534702,0.039773472003358235,0.03997877672504724,0.024010181100188044,-0.03704167135693326,-0.014376384192637426,0.005781898163320864,-0.004442173546096551,-0.01049862801053214,0.026923060188535075,-0.016660220979504592,-0.01497241133158489,0.0020000203450520893,0.014637371281253975,-0.022163966444672,0.046539717466811625,-0.0048698867020716685,0.010302580896880853,0.019375453557554323,-0.00037512540751483137,0.03327490557264556,-0.0018159991361974548,0.02704673668251889,-0.012163424369212361,0.0059772862029812135,0.014022582100760905,0.0287120226845059,0.0181135109295556,0.01051801256711582,0.008194059496944517,0.03185056341882708,-0.010643959898699262,-0.019150068184381253,-0.021059539404480687,-0.0020168101420254825,0.01044122946404169,0.02166663275824665,0.0073953271097824125,0.00010797945079410454,-0.009607074649310543,0.005558606389433063,-0.016150070005027106,0.017847337297503207,-0.02348737074662699,0.02305477502673048,-0.007367283669475477,0.011569499310381648,-0.0019421698811294963,0.0074594858530403485,0.02274916902723012,-0.0126954056811176,0.02125398546685453,-0.007179966940348503,0.009747328792427012,-0.013390007630978862,0.01630715804942451,0.014803316022400148,-0.012343151071508407,0.023858681738017085,0.013820264143453498,-0.0020895431290810507,0.0008973610237217322,-0.019725002806489034,0.001930841555543461,0.018967469480099197,-0.004081186904751233,0.014292856187480885,-0.0016752640196698865,-0.019938769042987303,-0.0009064756416077291,-0.016129017372409016,0.01424179724774266,0.011920399339736543,-0.013377222345862805,0.007184044028314185,-0.013461964586702235,0.0013238786848537298,-0.018509098555202108,0.009947146028631781,-0.016825683483218334,0.025253032690239374,-0.012722646310432628,0.006907197617993077,-0.0007166959776446769,0.00922132725358149,-0.0015228581307503708,-0.017488573943961194,0.0024837576320597687,0.014762054966765525,-0.026449705216658237,0.027690716931914716,-0.0020335226369607717,-0.012124324227264394,0.004744215024918841,-0.00636414626196502,0.007231373204274805,-0.025230759840745187,-0.0058922301472984495,0.021486015105522505,-0.0005181126375610745,-0.005701797922283203,0.00479615334072192,-0.017951679024881706,-0.013102259845377384,0.0028907563025211136,-0.016013665307162306,0.01226000765174362,0.0021435899431991867,-0.024598963120404327,-0.014035074804040981,0.012566780536287236,0.009445366079369633,-0.019584408443450774,0.028076781291312525,-0.006584635301926989,-0.0008693016637599804,0.025231101379264986,-0.0065768021562043755,0.012279781176096405,0.008333262243689354,-0.0026153364324473793,-0.008390973915376132,0.004865655595705842,0.017578928094161173,-0.00020685469582271132,0.014588680915202268,-0.006322609959448999,-0.002155162963988322,-0.015941612652914494,-0.04306022923746955,0.013543092248014643,-0.023060337492175176,0.017648338953132114,0.020593989615059316,0.0296303438575114,0.0024755595742016467,0.023767851636657733,0.015075376884422287,-0.0010891149539757894,-0.021706833726385488,0.02158059725097483,0.01666171054911536,0.005755500200912644,-0.011445201965468055,0.007947460778458426,0.005353795428705954,0.02362512074211387,0.001040490059415422,0.0017952830834779832,0.00396157151139942,-0.013528771217371394,0.01952383858816953,0.00653897177288032,0.0037123111450478863,0.011835402323046473,-0.001096616524237981,0.0011893228955823787,-0.006122128868724874,0.017743866550894438,0.0008130439906626208,-0.005325426143240053,0.014156127324767231,0.014226881777905431,0.005646223187153687,-0.0042986040262507075,-0.018237882773781577,0.0073588772554828985,0.007928725074819232,0.01378820547118087,0.002354004181732927,-0.0027833320990395816,-0.004884476062234411,0.005259059714040282,0.007498479309832717,0.02440501618646529,0.017149604901529614,-0.014784042830051414,0.006997084660614439,-0.01749683040005645,0.011247441103948042,-0.024435469484511252,0.006564191952352694,-0.004633610016176126,-0.0065517425537109375,-0.012408888681742503,-0.005535517677993429,-0.00971901812294651,-0.004371926170224971,0.02616727210473413,-0.034494843279606946,0.02261215679455031,0.00698744854578548,0.012296895429446675,-0.00546635360883263,0.010469350196189442,-0.00552581066598834,-0.0023441278203770732,-0.008615485698487468,0.00860255769562257,0.0013054962914436086,0.007040395802765831,-0.010788883077981981,-0.006892949230610013,-0.04893691539060441,0.023187086708826632,0.00631994343392317,-0.03023508679582876,-0.023128874870020244,0.003314765751061932,0.014725292832200587,-0.003162756631540642,0.013157857265111428,0.02173713380294018,-0.0503020086153767,0.01746562879862923,0.013434040294932004,0.016754117102465438,-0.005420013204482599,0.006084063152132169,-0.007287016643197863,0.02219355990809202,-0.014718599758143602,0.012050244992948489,-0.010676772047867322,-0.014922865896947135,-0.010579561553869965,0.01502627677504953,0.009085920740279363,0.0055535523089143,0.01240065189721773,-0.001874141937142082,-0.011807237777885615,0.0196786499055559,-0.0001818898190278917,0.0010487558794300966,0.005017456683199306,-0.006505475725446241,0.012299790844821246,0.0023601104848351984,0.008110232144641571,0.0051902982875506876,0.0022375399574776633,-0.0010304202947399865,-0.007392066426229915,-0.004589594676865372,0.008873460631061869,-0.00017249523368412234,-0.010090540748074361,0.014113981214593174,-0.009278366124544912,-0.007977785044917862,0.0024475417444249636,-0.012295113867781815,0.016597553973067836,0.002431600309045212,0.017586405387940207,-0.002724329110492252,0.008451407452004789,-0.02421062115337347,0.00668000602832719,0.010341235253140901,0.009126575523035863,-0.001014243256391767,-0.0015229740372073586,-0.000847372869341001,0.000848091519084937,0.010592322492774642,-0.0072111403232173465,0.007094563573185386,0.002935243881176275,0.009448991700106601,0.004390314562107367,0.017154654276739567,0.010865128662904455,0.0030480860543329324,0.005597736354732152,-0.008270385014133907,0.0013631478645921291,0.0009609445004912232,-0.004159973144531204,0.005382375890721658,0.00023970258834293823,-0.007668949369965428,-0.009096803024537081,0.0014623471486803208,0.007787837592361901,-0.003300359422283572,-0.002261337263664731,0.00801358148318676,-0.016301283218468687,-0.00040818817761467674,-0.001143318849633146,-0.0040879732644951705,-0.00886621971353918,0.016979999713099936,-0.006597145843353136,-0.013691876299349204,0.01645881693525153,-0.013248242830877222,0.017569990492659393,0.004398117941815771,0.0012163600896051285,-0.00542640448952203,-0.01343649417649817,-0.01163849479447343,0.007182233386457959,0.004311809942290745,0.0025594249633758004,-0.010129320216111015,0.00831946776529957,-0.011881145612789634,0.014111512874634968,-0.005928312963362492,-0.029984284319777954,0.004184082155373359,0.009608885182606164,-0.01490780950405457,-0.00025648751309603757,0.011203263107626649,-0.0008457245934347934,-0.004824781596148964,-0.0026367062975112265,-0.011853994237809862,0.005954904597014865,-0.016557998846950972,-0.01116635095495222,-0.011380687542063228,0.007049803076376593,0.007089083407841423,-0.005279352979018603,0.022821708376946637,0.004410638660768518,-0.017823314152769942,0.018497419268839632,-0.009468053634289042,-0.008689607091491691,0.006311371047919678,-0.023083636371369676,-0.0005350440229322517,0.012400812422661112,-0.03877336443178814,0.022277230146543703,-0.014617566600179654,0.02038592600250899,-0.003746038066812618,-0.009131572703077628,-0.011203450129657733,-0.021016109287728013,-0.02212061564386214,0.009544717304963202,0.02098895046952487,0.014908793797575592,-0.005200727214962453,-0.0012840446777573344,-0.02810173180040143,0.00944911634411949,-0.003182663684896836,0.018781106583911855,-0.021292262918968574,-0.0005650551744329491,0.002355823534956114,0.00047001429982462817,0.018511569766949787,-0.005904598147913331,0.013828286438696269,-0.0024715914348798496,0.011471046948676067,-0.002449684898118143,-0.028649331368032827,-0.0006554278354308218,-0.02885788189057148,-0.012735163293699059,0.02169452927762383,-0.02199907206716356,0.0014670075880578448,-0.0174804774302173,-0.009243616932053778,0.018459032225695893,0.004728165610773605,-0.023039200726677422,0.011640702608656017,0.00019843540269182114,0.005553878294399794,0.006213603483681274,0.014997122711583266,-0.013713237629071506,-0.0173308204314786,-0.011060189354333949,-0.00604532467628327,0.006284795819540445,-0.010375730977410402,0.017915331580840244,0.006600036621093874,0.013212737465464475,-0.03529756397220141,0.006301481354082483,-0.006666030177448823,-0.01281140981981832,0.034401113330577715,0.008861887752106057,0.01658113215787549,0.006116478188523677,0.00550033494095703,-0.019769650853415865,0.015566907937991203,-0.0022173271906891223,-0.007729498084616315,0.004868549317016857,0.011724871605122367,-0.012546740178534077,-0.02036855970127116,0.004158397712330064,9.862094666757137e-05,-0.005718247355906758,0.0074367874204028794,-0.0053149697208397795,-0.008015016605597558,0.005486314730751118,-0.008630979367483582,-0.0036025278620251955,-0.024806681011082854,0.007723996001914424,0.00868674999873309,-0.0027355283831265176,0.01696635338583352,0.01808197018560609,-0.0035325345639785066,0.014967962554286673,-0.00475402993325269,0.002632059253723673,0.011667521589109553,0.008169134542920675,-0.001906621303407463,-0.00592163452969352,0.021617985784168736,0.009968941412019872,0.007542579040854758,-0.005730084423977266,0.0037181773477479307,0.010835322583551132,-0.013376079377575789,0.0007428192018446023,0.0023197551061266974,-0.0027772211783581024,0.00473451662134261,0.0,0.008038391298190506,0.0019248312319863903,0.0019211333744664216,0.009861229585081954,0.0015370539899699498,-0.015076268119123881,-0.00540784918553916,-0.009768732532669855,0.014425342910939332,-0.01302750613711301,-0.0009295266073533481,0.013211742878622701,0.020201991895467453,-0.0007200884982309086,-0.005584535542554558,-0.02980073251861448,0.0016805181976480288,0.02320810739604684,-0.003461443410852194,-0.015539346928021391,-0.015413148372814045,-0.010750654279572891,0.021353649487001247,0.01577377684369785,0.01745843511818035,0.01092747266133709,0.010362658633333854,-0.0017683196369621124,0.01629757584608038,8.717218421394612e-05,-0.0020914846515861507,0.010828729723489916,0.0012959095108329155,-0.002588464605764562,0.013840817432876351,-0.0034129172943668795,-0.01960617170970902,-0.005589026091249671,0.006849905686159952,-0.005843856607311793,-0.012370623096876865,-0.007106716300316229,0.006710208665346107,-0.007731915598498396,-0.001701768372678547,-0.00484479562141471,-0.00784344691263339,-0.02998639673100023,9.369682651483302e-05,-0.023229705014140012,0.011891042177646138,0.003222175683299744,-0.023238230401371296,-0.006576405175444666,0.0,0.01616039732270047,-0.027591467035832373,-0.002660065448930049,-0.015311696141039777,-0.004414149679566326,0.014107230512043767,0.013910985039442547,0.01225009789087328,0.010746447870199294,0.004789271960652819,-0.025643492872043816,0.008511914239065721,0.01532791815083856,0.020064957009755746,-0.0011240421897792396,0.00018758695213283438,0.01275073067937793,-0.001110860219557419,-0.009082514764362948,0.0024317446753003846,0.0027057372149805747,0.00893271679136931,-0.008761384723493637,-0.009862347924088244,-0.0025370855827097083,-0.0146020068721332,-0.008795393712868083,-0.01793982064888855,-0.026517353725541426,-0.007667495108667155,0.01037003494039257,-0.03189774860691352,0.0008315334353599102,0.0011423887143593436,-0.0038382027046202083,-0.01426632442572573,0.008556914507261482,0.01969202083774846,-0.0030816171244526513,-0.01081919648367069,-0.010416666666666519,0.006631550035978373,-0.0044965002355510375,-0.004201616694398447,0.006540032671191298,0.020540757934226495,-0.0051345246878454764,-0.021469800378083548,0.0010548361909494819,-0.004109582543495138,-0.02073853602973652,0.007779509103916116,0.0010722215837355442,0.014244341464463073,0.002639915607775878,0.00421275975497859,0.0007341341997317841,0.013938397155487836,-0.006201534616238624,0.01747270180462346,0.012981668397181734,0.002018209694412132,-0.007452220245938168,0.009841733408388675,0.006731620387447235,0.022754555669987964,0.002537026720524027,0.02005066411155454,0.002385496113740837,0.014374054859303431,-0.006381384391472955,0.02606726679095539,0.0030375720996749234,0.007249710073209181,0.002095442083297039,-0.00045454517078191703,-0.021921080667555826,-0.007439741759927565,0.02220551899789225,0.0007332890208395781,0.0038468416172499076,-0.011313849279498966,0.0003691483508860838,-0.018450184242133183,-0.0053571399121231655,0.007181276515984658,0.0046908717251006316,0.012699604602286918,-0.023052098389575004,0.0021708670463287394,0.020907903694881602,0.009594104251733349,-0.022478061308429997,-0.002149965878821214,-0.005995310441671675,-0.004806353155187071,0.02481063242840964,0.0058214493283283986,-0.00734952166814673],\"y\":[-0.00020081194026752789,-0.01211975166269274,0.00316285103279338,0.019996992962950915,0.004279481259509038,-0.012306757579372234,-0.00902617234090676,-0.002632115090532347,-0.002256537513749582,0.006503307098106663,0.007449099264257142,-0.016440807330837897,0.002516545152996288,0.016416256721400884,0.0036846586274266527,-0.010412374160720283,-0.0015944117146319751,0.0017039899719454195,-0.012985687441585245,0.0004458914925866465,-0.010149466129281486,0.008470560968217238,0.017542097296892233,0.0014344196915733525,0.0011790764338695855,-0.007459854110634005,0.007653966036138891,-0.009704670110284972,-0.0028691921592652893,0.014860077559045825,0.015486849258673161,0.006108308401613587,-0.0015215346103881742,0.0002805200220718586,-0.0006817575920309855,0.007139339827209967,-0.0007951736010288107,-0.0007957637048654917,-0.0037741610624241794,-0.0052334380128257986,0.0026993635339107084,-0.009340429345578119,-0.001666243132083656,-0.00509761966168848,-0.010075069509698744,-0.010240501939480536,0.007074357719210687,-0.001083533668021053,-0.0032317855945263717,0.001957052225707839,0.019276496567223543,0.014253578900903419,-0.006779336200195761,0.009111369674614586,0.0011091496786506487,-0.004835057716147627,0.002793015784295141,-0.014261435535622943,-0.005691761025512756,0.014084506801706052,-0.004049830008505054,0.015536914961116607,0.008056504227167327,0.006780660421143237,0.0009493959320601196,2.8788931446339244e-05,0.00037294850645594566,0.004155675031736291,-0.0006560888759290435,-0.001112058132215157,0.00801271995980417,-0.0026765778844627898,-0.006754850577540104,-0.002600064731312098,0.008861237379113195,0.011212318515169925,0.010222745826816461,-0.011318122581954037,0.002464490221467017,-0.005950026800939577,0.010292650579738443,0.013074319497830951,0.006131842353295078,-0.01071571555171592,-0.0013900103508987178,0.0017490110128446337,1.5136990879080649e-05,-0.003870538939254221,-0.00465333423478965,0.0030815125403570952,0.005457576502832694,-0.012058486143531066,-0.006359332234911173,-0.006756613622837188,0.002158408351460708,-0.007138832436711848,0.0005916863908315102,-0.008793733942251499,0.004502292456296948,-0.0031600686044689747,-0.012096496363440247,0.0010828739452817724,0.013307225762251764,-0.006805917755338647,-0.007915935737208194,-0.0016006310882211653,0.0009684279125434848,0.011468994994862002,-0.0032914332685574903,-0.004228019373009389,-0.001359202487084449,0.0061827644410220595,-0.006402280196703548,0.011055345488716877,-0.004643028499487904,0.0007171960194666582,-0.0006591356822740787,-0.0003154587076507048,-0.006967403074079085,0.008151042917628035,-0.010153931636237042,-0.0007824809793783152,-0.0027626512899997816,0.0030737341590978623,-0.007528543204719391,-0.003026856703389876,0.000745651541149008,-0.006225131411681388,0.009106436574714572,0.005674134807891126,0.0021263603092422745,-0.004141687020672886,0.0016659917659840305,-0.009040624595454292,-0.00787432672987919,-0.0023533604107786117,-0.007041773666190302,-0.013797920290113097,-0.005915037254203946,-0.005593766185398906,0.010303393022284679,0.006764272722796579,-0.00401219135587461,0.011430182644221031,-0.008454538862348827,-0.001431527572773195,0.0021423789361390143,-0.0031490985304562123,-0.018595443084817996,0.010370369717837885,0.0031783924070029213,-0.015259745314960492,-0.0056902741215157935,-0.005483335923004115,-0.0031905295316200094,0.0020200899056511622,-0.011784810407741835,6.458959543685159e-05,-0.011742590897605964,-0.019138532900164193,0.0020341306257518985,0.022065569024586906,0.021804578333800527,-0.0066721356787841765,-0.006219413630019588,-0.015664361372396896,0.012280650916614795,0.009500857145453031,-0.009617154663055233,0.002988095090174371,0.0045572032696183495,-0.00767497420198917,-0.003520358550779099,0.01608877811108731,-0.0028005318725884726,0.015335139903922797,0.0001809380170779689,-0.01711494829923206,-0.007791179704439911,-0.0037795845797975215,-0.014201843510538137,0.0013010624999437918,-0.002107490890582245,-0.015366380278618101,0.002602682114697543,0.0064962104897216405,0.008077931418843496,0.0192613715555058,0.008631019505882713,0.0005785769664486008,0.01679445176974751,0.000934600745744332,0.0023175610470298957,-0.02352358326183869,-0.008420379011691747,0.0062811052612863905,0.0005843640890060602,0.0017596592181386163,-0.006062997003915506,-6.922630013536142e-05,0.009532280400824286,-0.0046013140573501424,-0.00254772680797388,-0.0032114274945375288,0.006508650520382971,-0.02465978707921386,0.002783220101781898,0.02989637425565855,-0.00598379514316079,0.0033027893305741817,-0.01206962103561875,-0.010335198153398631,0.0020751659221155765,0.011135866564763359,-0.006091118497312354,-0.0016549761935555078,0.0027145407141552095,0.005733618541191752,0.002280293583661362,0.007861926287336285,-0.0032804629008124763,0.004055576537766055,-0.01787463387128273,0.002966325313427675,-0.014115380267017863,-0.012161504880902884,-0.002531996460211519,-0.001164444793087151,0.0206197264246123,-0.011793971961485286,-0.0022390277406059552,-0.012472052361050225,0.02207079544308565,-0.004629743587178671,-0.005609177088056847,-0.006886344057527058,0.0007650396971298772,0.0031053881104689735,-0.00020081194026752789,-0.016092983433870285,-0.009067056699881238,0.003798895916136721,0.007178005327373633,-0.003705166140923613,-0.0013288275335510923,-0.0042974454857616935,-0.0148512615996572,0.0009656275851436618,-0.010096064157543473,-0.015440840924510273,-0.002174524418948012,-0.009644914402144726,-0.0054627757377962135,-0.01003730770869941,0.008053690042109441,-0.012570912591661107,-0.01187232383723374,0.0014297606435846714,-0.005892391132106701,0.0014409289489534173,0.004056151840642087,-0.006866307803051967,0.016732553243345605,-0.0014798508240303771,0.02847956228979135,0.001481180164199642,-0.027342150892002128,0.013853981602994683,0.018837646128836347,-0.004284514921553596,-0.0030942210751372327,-0.014891165341607627,0.008113294954040902,0.004750339137744981,0.010387670088239874,0.008243462873068033,-0.001687748505801415,0.000544505737833299,0.02525776354269018,-0.009483643359229346,-0.006438413941795644,-0.004305264708865517,-0.005366691063842002,0.017664875989221795,0.018593336848145514,0.010312250661700662,0.03010582041545957,-0.00020081194026752789,0.026942208909246954,-0.0010789140232686145,-0.005854072078940746,0.01692044208823618,-0.0019270233898114623,-0.016647244095144165,-0.017620007481458914,0.0068707052665216975,0.04186279236009062,-0.004433600795241874,0.006010849020870371,-0.0018884779100714834,-0.016762531197472962,0.002037034604624209,0.013671723438606596,0.0016150991631965787,0.00016125462563744173,-0.012745395189888318,0.005712780207899248,-0.02203806892910482,0.0001790022337062949,-0.0070334262000451755,0.0027429295654516016,-0.00020081194026752789,0.019540498128977696,0.023842961765164063,0.011179489654933079,-0.007297245223024392,0.009335271022061236,-0.006110959483063999,0.011971353887522209,-0.0035274097169087793,-0.007698595925969375,-0.01129794265274983,0.013724061046027766,0.015501424970813365,-0.00020081194026752789,-0.00836148043779747,-0.002728799143929968,-0.013240422921889941,0.002394356140605632,-0.008305044113697585,-0.00043894357632159707,-0.009610546479506491,0.02472739125539184,-0.004267057830645882,0.0023725735312608454,-0.014526769836900306,-0.001513381965395722,-0.00893057157361973,-0.00020081194026752789,-0.006025783836900144,-0.007798629253857698,-0.00715142303678838,0.0014316303483638336,0.0008010828192586258,-0.004326658039443362,-0.001333839341830883,-0.0063811648916878945,0.005661628513054543,0.011410523292451546,0.00846591028793212,-0.003251955458265929,0.0010259194878806247,0.01571374310522119,-0.007236720134131327,-0.02095597489160999,0.001799168081406296,-0.012659119369000455,0.0036160713944894244,0.007384542807376548,4.887901137080064e-05,0.008035367149244084,0.008046779699063134,-0.009672140131470726,0.018799336085755514,-0.018617039690919674,-0.009084007810052046,0.009817944563106744,0.010392166320742031,0.004519594235283978,0.009526374883197897,0.0033443057199964133,-0.009128960952044645,0.0015879960123986326,-0.00020081194026752789,0.013472399590156564,0.008517586369834226,0.0027782486746180533,0.0037895738864953976,0.007727210290228989,0.0035996589111405414,0.01012907913525014,0.001655428536788112,-0.0010716271526619817,-0.0006368739891118889,0.0011082852331477835,0.00034345275807081007,-0.00020081194026752789,-0.0007445827580173107,-0.0007450766386058658,0.007208033320227333,-0.007088673935022006,-0.007168765275852306,0.009602998447389781,0.005543425434424655,-0.00020081194026752789,0.0003359449818408836,0.0004427444893603243,-0.008772154597994328,0.014581937250096225,1.131196460017758e-05,0.0075403057289118985,-0.00020081194026752789,0.0023117214638767305,-0.001660343507455532,-9.632223229633452e-05,-0.013784377805051996,-0.0007353662959521686,-0.001270875198420571,0.001514376554818619,-0.0012697706795682707,0.00932969750886446,0.0002208297835785721,-0.010312856994350979,0.0032277251228230593,0.01577904321472417,-0.0009271658261017724,0.004370387534856551,0.0015519885960762875,-0.02312610087550595,0.0067472363704576275,-0.016473730274315368,-9.217090335338748e-05,0.009138635171877572,-0.007044426353265809,0.000988989152008566,0.004009371970652336,0.007839141797946161,0.005193957976684569,0.0009523942955645831,-0.010768967855792039,0.0039532461614203394,0.00984827006879847,-0.012060854652472646,0.0008605736311975087,0.010288064086965224,-0.001033798515653335,0.007306661969310864,0.006801877507128077,0.003361902078360326,0.005162222223175134,-0.0075221217403596535,0.0025405690577295433,0.0059644696717379205,0.008602753348667088,0.010348571378205053,-0.005432668651018162,0.00429522372478628,-0.002432088860746865,0.005544303130935565,-0.0027085355070973296,0.0009614798863574418,0.0009591929990482432,0.001535852109179406,0.0056675384698731115,-0.014967598698627679,-0.013777822615425605,-0.004798076066480657,0.026991806406458874,-0.00020081194026752789,-0.009738643470241538,-0.019584964671724114,-0.018411849828347187,0.006477163959645083,0.008880225823608723,-0.013415696953607007,0.0037490802376547385,0.010848499083462042,0.009431722946060511,0.0005975338269870622,-0.007675174458987892,0.0020193337017062885,0.012367237213550509,-0.016548320845856355,0.007999710690780946,-0.022173120398169655,0.005812387911952973,-0.006154271010354175,0.013380697018002508,0.0038542794704561965,0.0027193943836576677,-0.012526406490690237,-0.013706064653578641,0.005451460819791169,-0.01544376457849711,0.002778373935742159,-0.0021065399982009595,-0.013158572355551611,0.00533566849094812,-0.000308358879227802,0.0028115353726491737,0.0038669547243084155,0.006178638427350552,-0.0017788546918405847,0.010663844967697622,0.003943357165319714,-0.006477246381982896,0.021843224520152485,-0.00020081194026752789,0.0028079397468676907,-0.0021966382911828113,-0.0013021483480885176,0.004914918147454659,0.0019873131473407755,0.014961143401384182,-0.0032936841819605238,0.0019365832587615716,0.0034778840931900643,-0.0038570626555448225,0.0017353283175486668,0.004334545314593289,0.01157912330516232,0.0008323740950374053,0.0025183116384152023,-0.00197422883306427,-0.016583880921441255,0.001050431812430907,0.002872726781657593,-0.0007741369542077266,0.0040077559878795395,-0.010458938893215164,-0.00020081194026752789,0.00810995581408958,-0.0005820437810160581,0.010862749854204528,0.006260790159320568,0.0032271740693759045,0.007168794347750211,-0.002475848319150986,-0.001845083398805354,0.008317953681921281,0.004676243417006857,-0.003873825811933554,-0.010656977082274737,-0.007723475220071509,0.00286510751388134,-0.012494446840691108,0.010179788229319257,-0.003911318865365168,-0.0037477169388432426,-0.011374428624132054,-0.0026885153608090873,0.0015286125750177853,0.00861303615339658,-0.006998618973297125,0.012786805249444545,-0.006650355087956684,-0.011633883526006064,0.005578775229651247,-0.017660111944791907,0.0036316744101140765,0.001459164710753451,0.003109932967638323,0.003672757090525763,0.0019159918348188388,0.009195338501869288,-0.0033159587626049895,-0.0037118512243917916,0.0026627624901007863,0.005879025517522966,-0.011109845124322393,-0.005564906790420129,0.00240880592677582,0.0023974907185933987,-0.0013506519309793357,-0.007304940639956031,-0.00875035567515508,0.01409039023314217,-0.003088730226313029,-0.007455588707001649,0.002834553269888365,0.007398152951213708,0.0066295474853783915,-0.002103182906136764,-0.003445131162223381,0.006802842670163805,0.01279118736923142,-0.005769985425541373,-0.012380572615211631,0.009362618793397356,-0.0024599967117371548,0.006885808040970762,0.009417719951175301,0.001177832290234937,0.005209389757262441,0.0027980844139611147,0.0014268357228533778,-0.010300902554771766,-0.052117639677655696,0.009239298240698503,-0.01087867408363471,0.011979394339557472,0.004041418125456996,0.000974780608766383,0.00625213825945061,-0.0022321405790244027,0.0013521365029769991,-0.013173151086981085,-0.0031693587560909925,0.0006941781707143081,0.0007921595577995925,0.004755718752446496,0.0021587846876272698,-0.004901533053732321,-0.005037388497284192,-0.005872834758918511,0.0015069915259116973,0.0005004073362440643,-0.00020081194026752789,-0.00300241069360961,0.0046245045424085475,-0.013663605263491765,0.00020722423160485028,0.00561016506137408,-0.0027250098497817324,0.01156100913844298,-0.005272397279457545,0.0018050352706071157,0.0012985260504072365,0.008074963460340194,0.0013727813473127528,0.00038775405983242377,-0.0011807927562586138,-0.0063846730838685506,0.0005926449310898619,0.004157316772462709,0.00727255796955981,0.009511417571926013,0.004577852820661716,0.001126622755952295,-0.0028498133173356257,0.0003693309445457646,-0.0004856124132372511,-0.00343021825142361,-0.0023017607295646057,0.003632527998623879,0.005036500212697359,-0.006525524706726434,0.002088909650656969,0.003030643208487652,0.002918793781402405,0.004595421645874094,0.0062366101623575546,-0.004539162010356905,0.0022166415161041586,0.008318797291652856,7.316609074546114e-05,-0.0022086482055048012,-0.006702387108419688,0.0032244553666727458,0.00826775823668565,0.0003438379355409775,0.0028824349283977104,-0.005794439109748371,0.0059009015080399374,-0.0003811557253601667,0.011793114466163497,0.003512401780214589,0.005422592387169551,-0.0018546958037511964,0.0004102140753853233,0.002066429985198706,-0.004110101382731955,-0.001250081216196894,0.009434739521248528,0.002644062564725358,-0.0008871821200338209,0.010021348403494041,-0.00020081194026752789,-0.0022278369220351197,0.010138307198557758,0.0012154327272049395,0.0012120934899601953,-0.002688298251600569,0.009540955960022452,0.002748715160395537,-0.0006084861874090239,-0.00011920913486709827,-0.003382203429575227,-0.0022510533896137916,-0.007771587934610486,-0.0006175582063175461,-0.004454340352989713,-0.0023847242476710264,0.004014470508208565,0.0018083723652855673,0.01932348036247452,-0.0013321285738176138,-3.886311347874944e-05,-0.004490370095028861,-0.0026464002142249058,0.008230019661706087,-0.001088706204288815,-0.00020081194026752789,0.0023859692021818645,-0.0010862017450518242,-0.005279133849867813,0.0028884743561996174,-0.0026271938576030605,-0.001743811392308405,-0.00020081194026752789,0.0019161020694583616,0.0010161877737681923,-0.007973737495599945,0.0024242129875084754,-0.00853162830998495,-0.0050047228483647045,-0.004375568776974702,-0.00020081194026752789,5.148465394922604e-05,0.003917400483023979,-0.015392689883500165,0.016585221856735936,-0.012114059707898825,-0.0047057607304198095,0.004167002903692978,-0.017375564076832845,-0.00020081194026752789,0.014767164643031468,0.006118758871635276,-0.00020081194026752789,0.00901050312429718,-0.0010330833632754281,4.9210384741516666e-05,-0.0027001195793641256,-0.0005354529046176149,0.002059260723092365,-0.013626697169017404,-0.007451444946540979,0.0021305139712994867,0.007196212719452508,-0.004703844624268787,0.025309914133940126,-0.024669854733547613,0.0008264879750443229,0.0025339010014588798,0.007966056557975793,-0.008761484305321926,-0.0034362666002663387,-0.0006288698997661552,0.005967262963348751,-0.0044405500458184225,0.0060333416568137945,0.013660410981193284,0.0011208968045051107,-0.00020081194026752789,0.004332700510298943,0.0030715258303743173,0.0011823581514221499,-0.00020081194026752789,0.010189764043352484,0.0013950823236675296,0.0053698301854826595,0.0032685179683744647,0.002307797071512068,-0.004884837690743114,-0.004607062609811253,0.008201335733084033,-0.00012268575127341857,0.0029255575318086614,-0.00027858183557518746,0.01029729149017847,-0.0025700112308466127,0.0022544772112233803,0.003008594171924993,-0.00726947106530851,0.02225834554881111,-0.00020081194026752789,0.013292011352410387,-0.006508669298778613,-0.0014464769058346832,0.0026628691545008587,0.003818533685598218,-0.009710363295105908,-0.015248319327350131,0.01455335089254607,-0.008988273257363467,-0.009643651420545645,-0.004236376133676716,0.018427364060535117,0.0057470477678559385,0.0009770351329341878,0.002003396061501901,0.007705188868446116,0.0005216807133696899,0.004922780186250789,0.003662980483772589,0.002856197722211851,-0.004656985200369973,-0.011531489911624511,-5.556491309143441e-05,0.002921768739948925,-0.0005619871831112826,-0.0017187951538322178,-0.0008530599379670699,-0.0035380027137659107,0.0089914140374333,0.003751007764981457,-0.0034129410265549866,-0.0027843857168214016,-0.007913002341112554,-0.0006388917652094442,-0.0069232660691561565,0.002090086240027167,0.004878741321536247,-0.0023907331899866973,-0.0017393962331169628,0.004573763630154839,-0.009310086898445882,9.51346945877184e-05,0.010227934922580468,-0.00441727373310855,-0.0009329260951079234,-0.002766373830599305,0.006940071989295339,-0.0033290787686896263,-0.011316924668417208,0.008293821952796019,0.006338267461553719,-0.00034614705470714674,-0.008415596773598285,-0.009930241431107515,0.008265613264748466,0.011546157138112877,0.001248422173506275,-0.0013574020930333388,-0.0004905186356525639,-0.0017948865414754488,-0.0031069556350273616,0.010239245277630074,-0.00048784739403479635,-0.0022827751712950007,-0.010790980775164922,-0.009148053563471875,-0.0019131202285104332,-0.003485998409727877,0.00280217907221015,0.008240283871429471,0.01099592218595739,-0.004394886217464065,0.0005273876197018952,-0.0015100024484625322,0.008619105187914299,-0.01916515297741755,-0.004429200479814705,-0.007746483315757912,0.005852186820734125,-0.013309286872096624,-0.006327297351117849,-0.00020081194026752789,-0.03702974629546779,0.005652305140307853,0.005269116604325691,0.004248848417217614,0.009676811105099317,-0.014026494414132252,-0.0052955817099883595,-0.01732906371884968,-0.008345241538042416,-0.004797297856456293,0.00331604883109515,-0.004635210386035195,-0.00836253969865157,-0.006210698521577449,-0.005391777576884159,0.011248034033970167,0.005895307167791896,-0.016149617909661452,0.004404643972124328,0.0034906169291223786,0.003293338891090576,-0.008885515828849956,0.01213658967755162,0.0080020770889928,-0.000626675279876483,0.006618432593375819,0.008311681830602373,-0.0021952290121455657,0.0046351190701001835,-0.0010279140103943056,-0.005087503139459434,0.012325202910761205,0.0059339602837135555,-0.00068666225690913,0.01130602777228218,-0.005845804369250254,-0.0002810922177070085,0.009030697153469845,-0.004548916531977762,0.009753416769237203,0.0066141478022940965,-0.006009696653716688,0.003787851948211907,0.0020522864601427316,-0.00770879407033809,-0.00012241133795381904,0.003639477908860894,0.013115786834278442,-0.003400483712416346,-0.005945104354700873,-0.00924862542592891,-0.003027442066117398,-0.01724091075254921,0.008649789115982243,0.00788088520290896,-0.012122558449948147,-0.002214673256401575,-0.0065860798319410515,0.0024951909078084135,-0.009716488443684076,0.01335263858143753,-0.009252134240642307,0.005132748107497153,0.011348131955352298,-0.0026743719529398586,0.006930185432634715,-0.015562015968243326,0.0028872795779637597,-0.005375071839868289,-0.011699682343348502,0.0027093404868550612,0.013700473382756774,-0.001009496740409573,-0.015343906381053348,0.00345465850333217,-0.004742445434920859,0.006372414658695318,0.01016932212806877,0.010154693920406598,-0.0008370516706640146,0.000276905404972224,0.009106436574714438,-0.010384076875628683,0.005217891595155146,-0.0004377202982055793,0.009437673485543255,-0.0037774559507816655,-0.006536624934215596,0.023357844806777092,0.011285105707572022,-0.003260875020421652,-0.003426592562563935,0.0314019105351427,-0.0047861318920680625,-0.01658976565646554,-0.004506063177951202,0.002116896726492242,0.0157373315475529,0.000669781224384253,-0.00020081194026752789,-0.011067190557332976,0.010128457912019264,-0.0025943219647002126,-0.01578451586748722,0.006378521362303867,0.01222336518926013,-0.013966567069885704,0.021674875141186732,0.002088563347391611,0.008137854001777337,0.005774049862556062,-0.005907901044209307,-0.005049313594271085,-0.01429816933999339,-0.0007812073833688037,-0.0014353064083674923,-0.005367334135293069,0.007212690002954689,0.01901272697182446,-0.0072259531697300376,-0.00034301183565657286,-5.857829303345977e-05,-0.009228607129530199,-0.005180701392439111,0.01544622222960127,0.010508864958232193,0.0024469937583866887,-0.0002701469035093959,0.000631727366343012,-0.008930663749420068,0.005423884676464495,-0.003613906936371616,-0.00447412908438674,-0.014806205429895176,0.004427671708597293,0.002669831672900386,0.0025132677491592494,-0.0006985212131018106,-0.007103412214368645,0.0016709428877499852,-0.007377393596700936,-0.0007819108822620006,-5.5368457113392523e-05,-0.0023814911484070695,0.003519860232055847,0.013937422274931967,0.023173998223404182,0.0004809120803961996,0.0032039867433243953,-0.0003362117113638039,0.0021696070988065203,0.009850669634153682,0.0004626462379770693,-0.0004659118279329358,0.005302331499249363,-0.004142768197494049,0.0033704562788434483,0.005190086084035364,0.003969201682431071,-6.7010944499238095e-06,-0.008221774693702517,0.010944854584617473,0.006686314974104533,-0.01350036570075964,0.0005150575965853259,0.008444288180410956,0.002874887532989454,0.0020941711484797807,0.004054092266203422,-0.0016511296529183996,-0.02251449441304768,-0.001973508639850045,0.004408741565987934,-0.004840540501185788,0.009414492397039034,0.0007714714841633455,0.011059277540512454,-0.0021063730421128253,-0.006955360783605523,0.004955059152632971,-0.004098653240954131,0.0024362222159596335,0.005306248162474687,-0.004452160150915036,0.002035929703290685,-0.0019835607142207144,-0.012908564043357029,-0.005224397282037231,-0.0023061926509601975,0.001713924390109081,0.005064348910449864,0.01741446410160084,-0.0011515004301691993,0.005575778853965963,-0.002464251410084092,0.0034596720833400935,0.005131094007595719,-0.002190416468692125,-0.010868183262695685,-0.008711522486377564,-0.017982945589116166,0.0004631608293344154,0.010145891449091822,-0.025041686961192553,0.01966063042668092,0.005000284247945554,0.0033237782363832948,-0.003574988107530178,-0.004572942567665647,0.01103994740620197,0.004251386089594537,0.0012082789101872677,-0.007101912808799427,-0.0015583180337256643,-0.007392528363011013,-0.012463719036196499,0.0018075739728073905,0.007739311861937131,-0.006785917086555251,0.007522809101302357,6.20858056877343e-05,0.0074869034436136446,-0.005196166104273769,0.00830377081663311,-0.0019424544702543753,0.00038144424154624523,0.0008332341371007834,-0.004846077461045466,0.0026601308842385744,-0.006607408617160123,-0.00432178595671837,0.007241974291140104,-0.005015052494910053,-0.00393912003696735,-0.016633876000799755,0.0028527811558651923,-0.006209456455951783,-0.009134617207427307,0.0010453087646008828,0.01423801162430708,0.015719682462696644,-0.0017122524342468852,-0.0036924444479898757,-0.0013936042083988291,0.008098974324444229,0.008640491369533657,0.0011545010676896267,0.005594600052044555,-0.0025605622415690458,-0.0009050826846855738,0.001850515317956543,-0.007611535513034441,0.006591163768093496,0.003189078991845346,-0.002554050459448898,0.009823842344992069,-0.004973633035507823,0.0028377980471939396,-0.004168884618260177,-0.0018493662135083111,0.009463376199894841,0.005180316936859115,0.009659493017536418,0.00034825969462045075,-0.012086938565008956,0.0028463918423040067,0.001160411999902556,4.612667550075612e-05,0.0018972310774078437,-0.004382305035066236,0.019800862487932117,-0.00020081194026752789,0.0014171282779332128,0.0015323233868826652,0.008141902164541998,-0.004608750644364375,-0.0070689211009829535,-0.0002607192428641202,-0.0010394152294127149,0.00045902056481144044,0.003933530969738496,-0.006746672225720763,0.002205801969087029,0.00039842348429835724,0.0015352667418939473,-0.009691763976426905,0.0019220086878325529,0.0022771294803365484,-0.0028491095261366367,-0.007092846072597059,0.0025513641951918848,0.0019299884649376991,-0.014214311706495859,0.012036282660508317,0.0035125113363940023,0.007724568143560941,-0.0009173423670760329,-0.012635221896656666,0.008101636881826252,-0.017482052324804136,-0.00807502973633994,0.004636899227027187,-0.002569151600628389,-0.0016399233038865617,0.012280822970654234,-0.007450978887192711,-0.01469215561986271,-0.008932594134490428,0.0062670192355883825,0.005750043610452885,0.014244915040078687,0.004439219273877509,-0.0054190986476305636,-0.0055268834896746175,0.008984696223472446,0.006384291142125049,0.003999468768865132,0.0010082232671076222,-0.0010454094663658554,0.0031823465131625124,0.0034637449762267847,-0.0048581458276847015,0.0011230938049046058,0.005563458794840373,-0.0009739830223219172,-0.0013322177060730864,0.001708368409432798,-8.1886975122999e-05,-0.0048387365031304355,0.0024957703296444064,0.005645496734811396,-0.0013233391081290192,-0.0015621680581155877,-0.005836739778905992,-0.01762834900764792,0.0033150832290395568,0.0057474888732958595,-0.011676866660527484,-0.004224674249128133,0.008212908704646464,0.003363936232764594,0.011346617170827607,0.0020769842716335135,0.0011726635398696885,0.004684655888282042,-0.0022692013029748143,-0.001979883625706867,0.007233984192637995,0.007084109477208934,0.0007279107196808654,-0.002518981554989623,0.0019518301582749581,0.0031614630501808905,-0.0027949267541955503,0.004373137408441825,-0.00629149919537635,0.005836292656555856,0.0018681284767990331,2.8284227050905748e-05,-0.0020328371847454867,0.0053121180584575645,-0.011069245846225775,0.004667304456782126,-0.010490991793354476,-0.0006687093757895422,0.0008528581024902814,-0.0034147205849571543,-0.00043581518886830374,0.008850160912929408,0.0061679620768219515,-0.002205923676349523,-0.004856798869125501,0.0011895342785649679,0.003844996005667433,-0.0003730346459837257,0.0024407976124838316,0.000885515066992266,0.006076979590863481,0.0017195041156267486,0.00255781781934869,-0.0010974857002549801,-0.0012671541963803399,0.0007550003848718751,0.005974064975599038,0.002355070829308627,-0.0034650729390158816,0.0036376601210879496,0.009472446607115497,0.003389411594265668,-9.26827237451276e-05,0.004286504059206846,0.005916663239525294,-0.0036004765645907635,-0.005222536060216892,0.01601534201491,-0.0025087995638140397,-0.006572428209701273,-0.0020636300533900154,-0.0017491144771780568,-0.001753084439591008,-0.0022401801517049793,0.009492233203006609,0.0010710081335002712,-0.0062292133165979206,0.0007072864648526242,0.009133215730305766,0.0014273118768656997,-0.009419164239850949,0.007512483963272807,0.005628827371491564,-0.006494409586261049,-0.01970253825442038,0.01072024030774655,-0.007778111481700044,0.0014745932694385333,-0.012542484572056752,0.008163280983953964,0.004086488960309242,0.0028166819723122152,-0.004597164967907518,-0.008842456115995928,-0.00326963224148406,0.013624954526597049,0.00599081049607669,-0.008460717346823212,-0.004631653747121791,0.0037186721940684303,0.0016380053261166017,0.004867492543323816,-0.010252406301623204,-0.0042791553039722395,-0.04153743938460222,-0.016078761433290154,0.00825627813856998,0.014035710666486725,-0.007415706590187651,0.007749844107366915,-0.02525166222785872,-0.026829856021257672,-0.07447161786238879,0.04276799826646276,-0.0446218516891354,-0.08753891456781726,0.08006889209943877,-0.0838040355744194,0.022577476487804404,-0.0507567793214715,-0.00029300891935803717,-0.0023212467454370865,-0.03378512952308667,0.06115463973142331,0.03829666609087262,0.023524997342619487,-0.03515740263962734,0.014733366019232913,-0.02201576800838907,-0.010310618185429962,0.012543435513738599,-0.023695500663136183,0.041629845353302074,0.016042529270884537,0.0178963671441159,-0.007005917864657452,0.008523301336073338,0.006820347965946937,-0.006438846046244033,-0.009025999783156154,0.008356394820811635,-0.0028816140287806135,0.015956402399395914,-0.008298676526066435,-0.03334883071312202,0.023633225120661648,0.023756252859982625,0.014187158668212036,-0.022397832302114822,-0.00881578207967466,0.003263959128636698,-0.002862760309265963,-0.006492057750309073,0.015932685640054144,-0.010184358869116361,-0.009172948105255579,0.0009976893880187985,0.008570553294392684,-0.01348244844449075,0.027687860962503055,-0.0031190650947797143,0.005972953701785201,0.0114098233626819,-0.00042560380315668546,0.019738994485241176,-0.0012890395586934722,0.016006798107301837,-0.007489677925594099,0.003381044350116328,0.00820214421732511,0.017004711698678867,0.01065361109733206,0.006102049960015926,0.004709433705703347,0.018885465186147372,-0.006579147094895775,-0.011676386282565976,-0.012820626539559003,-0.0014093744631932244,0.0060560381025605995,0.01278280005372663,0.004230797661161431,-0.0001361058408898279,-0.005957799241236559,0.0031301527459856406,-0.009878653668641562,0.010494107994096738,-0.014275491284118258,0.013614636768160118,-0.00461561666241577,0.006732147679570243,-0.0013646466922739003,0.004269244439568485,0.013431504032915913,-0.007808464837196904,0.012535523405731167,-0.004503368129932426,0.005640221894147327,-0.008224701282790316,0.009571163945458433,0.008669994779164499,-0.007597378175725666,0.014096373498328329,0.008080906280336631,-0.001452959310623394,0.0003369267790127819,-0.012020912731998684,0.000956234374163341,0.011165341120309058,-0.0026464410252065224,0.008364104495747596,-0.0012047048045435447,-0.01214901098810881,-0.0007440125448082623,-0.009866037992896499,0.008333507703445686,0.00694242261618175,-0.008217039770130196,0.004104187422215335,-0.008267821097659828,0.0005925151707353485,-0.011292288713827299,0.0057599612875981875,-0.010283511375726157,0.014931930732768458,-0.007824788636351339,0.003938288714573685,-0.0006302881120022916,0.005325018329070297,-0.0011133764034297346,-0.010680744883712278,0.0012875663297482228,0.008645269315692624,-0.01605065412480844,0.016392699773852614,-0.0014193893350061414,-0.007466247377911545,0.0026421331443201444,-0.004014492019694361,0.004132549173832428,-0.015320207729223287,-0.003731698851281429,0.012674565906390389,-0.0005112881240999015,-0.0036175833748094384,0.0026732568979524226,-0.01095825808801167,-0.008052269985224772,0.0015314580723324645,-0.009796913894353814,0.007145931052505661,0.0010837226898832097,-0.014941606976281574,-0.008611254282444287,0.007329763037273884,0.005459272378514881,-0.011936662323612695,0.016624046744240673,-0.00414661887926394,-0.0007217362405004415,0.014918788513791092,-0.004141924909236866,0.007157780229570455,0.004792850195584328,-0.0017680380917205873,-0.005229057481905902,0.002714905746736986,0.010333265236909023,-0.00032476849316915684,0.008541375857007066,-0.0039896016160238645,-0.0014922816402651185,-0.009753736732663337,-0.02600442042109869,0.007914812527506105,-0.014019593925899333,0.010374859317129243,0.012140024476434311,0.01755501067356849,0.001282653688106034,0.014041944053449492,0.008833025772981597,-0.0008534581607050948,-0.013208514146059775,0.012731243743312009,0.009783627605079684,0.003248140293049063,-0.007059287051310203,0.004561660763097812,0.0030074208902391205,0.013956413340163744,0.00042269607621998634,0.0008750016960894043,0.0021731382699188674,-0.00830785460821556,0.011498742286296899,0.003717631376977701,0.0020237703492872053,0.006891488615607485,-0.0008579534359385255,0.0005118833448795324,-0.00386946441135813,0.010432103711212226,0.0002864002549359104,-0.0033920446305518367,0.008282170467434936,0.008324569689161902,0.003182656636112632,-0.002776727054323153,-0.011129764129970502,0.004208955283956677,0.004550433494458518,0.008061695295109958,0.001209812279420098,-0.0018687085824259492,-0.003127807689612388,0.002950651027800543,0.004292611056751028,0.01442376144904275,0.010075995645674116,-0.009060069303870539,0.003992153036626181,-0.010685692520180869,0.00653915604868454,-0.014843634303019038,0.00373274443253838,-0.0029774775741380067,-0.0041269080785586105,-0.007636771081592271,-0.0035179408416011683,-0.006024880759770911,-0.0028206649508367345,0.015479783736041352,-0.020871659410352066,0.01334940019669021,0.003986378647155295,0.007168035852931323,-0.0034764946488341913,0.0060728892985571015,-0.0035121239673825775,-0.00160551780405797,-0.005363594948457453,0.004954224032426483,0.0005814996213317557,0.0040181070033078,-0.006665991522903477,-0.004331374326362232,-0.029525992678040184,0.013693923824980487,0.0035863798345511892,-0.018319023475115374,-0.01406066457729935,0.0017855434312835949,0.008623239806235023,-0.0020960766726115998,0.007683962556477515,0.012825047421819561,-0.030344017378224744,0.010265371249467909,0.007849463736957498,0.009839001730251167,-0.0034487254132340443,0.0034450298569159844,-0.004567517082904338,0.013098558286167688,-0.009020852898496119,0.007020231918587956,-0.0065988095970593835,-0.009143258272664238,-0.006540556736548523,0.008803602799136436,0.0052438767114599055,0.0031271241156869594,0.007230211352670386,-0.0013238813163459968,-0.007276235045435914,0.011591512127353936,-0.00030980842635127824,0.00042764932396642617,0.0028058717238813274,-0.0040991829330279585,0.007169770914867543,0.001213471448386602,0.0046592006201598155,0.0029094461164672564,0.001140021725632439,-0.0008182857049691054,-0.004630467594788669,-0.002951101621133619,0.005116561145028309,-0.0003041787721124792,-0.00624751367488386,0.008256914639837645,-0.005760822443212844,-0.004981456295596737,0.0012658641557964615,-0.007568592142315599,0.009745182125361697,0.0012563113372340456,0.010337745964591784,-0.0018333513620247758,0.004863648069939464,-0.014708895161890662,0.0038021453885001915,0.005996117114815639,0.00526823886920265,-0.0008085917026075569,-0.001113445859744517,-0.0007085955295552334,0.00030740229597575033,0.006146579779338658,-0.004522048610292496,0.0040505667455093,0.001558117012198931,0.00546144501204827,0.0024300602142572,0.01007902145634205,0.006310057394990998,0.0016257370715396012,0.003153601165149364,-0.005156795237837765,0.0006160470133956591,0.00037502883210130324,-0.0026936532514524113,0.0030245475768618836,-5.717146619265052e-05,-0.004796388194880463,-0.005652021741727229,0.0006754916455659653,0.0044660074358527846,-0.002178534397548899,-0.001555906012640557,0.00460128323625924,-0.00996926736545346,-0.0004454164885523723,-0.0008859395507591262,-0.0026505077144216896,-0.005513845945068298,0.009974360657750066,-0.004154115753260203,-0.008405594442654877,0.009662044709026553,-0.008139749496351547,0.010327909427755343,0.002434736347161939,0.0005280852365400679,-0.0034525553560784583,-0.008252558092692359,-0.00717511672918537,0.004103102404917833,0.0023830167472446767,0.0013329095670380332,-0.006270752060466861,0.004784583929336551,-0.007320523914057862,0.008255435500524943,-0.0037533212828172137,-0.01816873145362268,0.0023064765647118966,0.005557260312944652,-0.009134235811004995,-0.0003545106893302288,0.00651268262435003,-0.0007076078091713587,-0.003092036105052388,-0.0017808438672856622,-0.007304253600079026,0.00336763229431089,-0.010123102811422317,-0.006892187097890225,-0.007020627133507068,0.004023744260921676,0.004047282786193478,-0.003364435537147178,0.013474972844222433,0.002442239319985736,-0.010881336135636606,0.010883666084377769,-0.005874491653103679,-0.005408011790610967,0.0035812428788011214,-0.014033555652704399,-0.0005214341648175798,0.007230307546670409,-0.023435539971205434,0.013148697222089245,-0.008960309327366797,0.012015343486750117,-0.002445604904495667,-0.0056728572827346125,-0.006914418576821368,-0.012794601277993799,-0.013456470712573458,0.005518808060806986,0.012376702623168733,0.008733201763016037,-0.003317319475107134,-0.0009702687388837803,-0.017040622081823883,0.005461519704295966,-0.0021080058662064,0.011053664167033865,-0.012960084841534393,-0.0005394181843431668,0.001210902516956934,8.084157593143523e-05,0.01089214569350919,-0.0037391103084707784,0.008085713597186258,-0.0016818996827061969,0.006673150636580667,-0.001668772309541213,-0.017368768148337096,-0.0005935735105700604,-0.017493740916187054,-0.007832289370585404,0.01279951689143822,-0.0133836363844236,0.0006782843885488949,-0.010675893091828984,-0.005739999178359297,0.010860662857280316,0.002632515620069019,-0.014006927833983116,0.006774815869307071,-8.190060304361296e-05,0.0031273194607184906,0.003522656196974145,0.00878613238496005,-0.008418395103462891,-0.010586211948224915,-0.006828570335356398,-0.0038234399162138948,0.0035653178175432104,-0.006418412370749188,0.010534853199062737,0.003754224155584482,0.007716849218446962,-0.02135268542526109,0.003575316533486912,-0.004195394316308845,-0.007877979687215044,0.02041386836697306,0.005109626160174304,0.009735341441805856,0.0034644543914052377,0.0030952338969986947,-0.012047667831605335,0.009127573086989535,-0.0015295332154589005,-0.004832671683253292,0.002716639793514821,0.006825253683259818,-0.0077193778422783264,-0.012406560705596729,0.0022910853017280787,-0.00014171387365518006,-0.003627440608560166,0.004255642527101282,-0.003385778676224495,-0.00500376710610383,0.0030868323621862067,-0.005372879445446602,-0.0023596071937794344,-0.015066080794011946,0.004427750709544723,0.005004675812759154,-0.001840062465319907,0.009966183170258257,0.01063471047783979,-0.0023176640901067004,0.008768658319088938,-0.0030496385553627414,0.001376435271002206,0.006790886997671523,0.004694497562389129,-0.0013433444001627482,-0.0037493192677162494,0.012753648618745617,0.005773022052707783,0.004319037581030014,-0.003634533907306159,0.0020272856393918253,0.006292196263835838,-0.00821635485259245,0.0002443184316758425,0.0011892887068933515,-0.0018650466464001864,0.002636321428655789,-0.00020081194026752789,0.004616150383141064,0.0009526327204179676,0.0009504167993847339,0.005708476325472253,0.000720259314424536,-0.009235183721070673,-0.003441436190953342,-0.006054671849764472,0.00844349644515355,-0.008007474231586152,-0.0007578257108256747,0.007716253217684315,0.011905121972178124,-0.0006323210615364782,-0.0035473145306896873,-0.018058739033771552,0.0008062294616228362,0.013706520357619385,-0.0022750631027407078,-0.009512681182002982,-0.009437057383266135,-0.006643083123103728,0.012595246528460243,0.00925153815508693,0.010261060475532744,0.006347416697418618,0.006008954959031153,-0.0012604678777568482,0.009565421862152002,-0.00014857448236941148,-0.001454122757438831,0.006288245528254512,0.0005757547951231973,-0.0017519352955402826,0.008093222727384225,-0.0022459840910155986,-0.01194970384270668,-0.0035500054676039752,0.003903956835614573,-0.003702711270194392,-0.007613840637708248,-0.0044594730817676944,0.003820244154682482,-0.0048341203653159475,-0.001220587394120613,-0.0031040294009829494,-0.0049009548995080626,-0.018169997304573676,-0.0001446646259104251,-0.014121086493485256,0.006924830496258015,0.0017300593360974465,-0.01412619528547636,-0.004141687020672886,-0.00020081194026752789,0.009483218377127504,-0.01673484869325478,-0.0017948417118937732,-0.009376262684432255,-0.00284596715946462,0.008252869318002622,0.008135270284490483,0.007139992682130837,0.006238938574599446,0.002669133268323522,-0.015567535756392014,0.00489990643343175,0.008984359755156228,0.011823004561246103,-0.0008743881170464713,-8.840147811568906e-05,0.007439994161361232,-0.0008664888929913923,-0.005643459579427248,0.0012563978479283053,0.00142058638908972,0.0051520700772315796,-0.005451024146714444,-0.006110770364582361,-0.001721146695049475,-0.008950985244850544,-0.005471403848870867,-0.010951152020608767,-0.016091192126311108,-0.004795516736696566,0.0060133751709702905,-0.01931536453434802,0.00029747995424186957,0.0004837582917134489,-0.002500834063092325,-0.008749829362163121,0.00492687259972065,0.011599524585843596,-0.0020474542637135937,-0.0066841566666094795,-0.006442942860186032,0.003773108398282986,-0.002895315282835947,-0.0027186079225155944,0.003718267114528087,0.012108125680833115,-0.003277647970323746,-0.013066473199580986,0.0004312929176180638,-0.0026634569574875626,-0.012628267010833681,0.004461016634389397,0.00044171101981308554,0.008335032311496002,0.0013811431484947272,0.002323661460507563,0.00023911399133395636,0.008151696846136567,-0.003917047874248514,0.01026960970989159,0.007578382334373573,0.0010085892568239367,-0.00466651444451207,0.005696793347485951,0.003833075012849793,0.013434731949329988,0.0013194875416693709,0.01181443961963359,0.0012286836486214948,0.008412762358791421,-0.004024821875169854,0.015419856094957088,0.0016194366413193086,0.0041435374429412055,0.0010548703463609916,-0.0004731956649111261,-0.0133369004618336,-0.004659036779549456,0.013105724705772433,0.00023860752247354986,0.00210438700402674,-0.00698057466771001,2.0398203902358326e-05,-0.011256984631724903,-0.00341104893429575,0.004102529005484129,0.002610167461648234,0.007409357137365332,-0.014014656688418413,0.0011000683457728854,0.012328135783684533,0.00554840292040452,-0.013670668085532486,-0.0014891673152076733,-0.003793469157784605,-0.003080992961903512,0.014666824778847102,0.0032876599494378817,-0.004604972879597165],\"type\":\"scatter\"}],                        {\"template\":{\"data\":{\"bar\":[{\"error_x\":{\"color\":\"#2a3f5f\"},\"error_y\":{\"color\":\"#2a3f5f\"},\"marker\":{\"line\":{\"color\":\"#E5ECF6\",\"width\":0.5},\"pattern\":{\"fillmode\":\"overlay\",\"size\":10,\"solidity\":0.2}},\"type\":\"bar\"}],\"barpolar\":[{\"marker\":{\"line\":{\"color\":\"#E5ECF6\",\"width\":0.5},\"pattern\":{\"fillmode\":\"overlay\",\"size\":10,\"solidity\":0.2}},\"type\":\"barpolar\"}],\"carpet\":[{\"aaxis\":{\"endlinecolor\":\"#2a3f5f\",\"gridcolor\":\"white\",\"linecolor\":\"white\",\"minorgridcolor\":\"white\",\"startlinecolor\":\"#2a3f5f\"},\"baxis\":{\"endlinecolor\":\"#2a3f5f\",\"gridcolor\":\"white\",\"linecolor\":\"white\",\"minorgridcolor\":\"white\",\"startlinecolor\":\"#2a3f5f\"},\"type\":\"carpet\"}],\"choropleth\":[{\"colorbar\":{\"outlinewidth\":0,\"ticks\":\"\"},\"type\":\"choropleth\"}],\"contour\":[{\"colorbar\":{\"outlinewidth\":0,\"ticks\":\"\"},\"colorscale\":[[0.0,\"#0d0887\"],[0.1111111111111111,\"#46039f\"],[0.2222222222222222,\"#7201a8\"],[0.3333333333333333,\"#9c179e\"],[0.4444444444444444,\"#bd3786\"],[0.5555555555555556,\"#d8576b\"],[0.6666666666666666,\"#ed7953\"],[0.7777777777777778,\"#fb9f3a\"],[0.8888888888888888,\"#fdca26\"],[1.0,\"#f0f921\"]],\"type\":\"contour\"}],\"contourcarpet\":[{\"colorbar\":{\"outlinewidth\":0,\"ticks\":\"\"},\"type\":\"contourcarpet\"}],\"heatmap\":[{\"colorbar\":{\"outlinewidth\":0,\"ticks\":\"\"},\"colorscale\":[[0.0,\"#0d0887\"],[0.1111111111111111,\"#46039f\"],[0.2222222222222222,\"#7201a8\"],[0.3333333333333333,\"#9c179e\"],[0.4444444444444444,\"#bd3786\"],[0.5555555555555556,\"#d8576b\"],[0.6666666666666666,\"#ed7953\"],[0.7777777777777778,\"#fb9f3a\"],[0.8888888888888888,\"#fdca26\"],[1.0,\"#f0f921\"]],\"type\":\"heatmap\"}],\"heatmapgl\":[{\"colorbar\":{\"outlinewidth\":0,\"ticks\":\"\"},\"colorscale\":[[0.0,\"#0d0887\"],[0.1111111111111111,\"#46039f\"],[0.2222222222222222,\"#7201a8\"],[0.3333333333333333,\"#9c179e\"],[0.4444444444444444,\"#bd3786\"],[0.5555555555555556,\"#d8576b\"],[0.6666666666666666,\"#ed7953\"],[0.7777777777777778,\"#fb9f3a\"],[0.8888888888888888,\"#fdca26\"],[1.0,\"#f0f921\"]],\"type\":\"heatmapgl\"}],\"histogram\":[{\"marker\":{\"pattern\":{\"fillmode\":\"overlay\",\"size\":10,\"solidity\":0.2}},\"type\":\"histogram\"}],\"histogram2d\":[{\"colorbar\":{\"outlinewidth\":0,\"ticks\":\"\"},\"colorscale\":[[0.0,\"#0d0887\"],[0.1111111111111111,\"#46039f\"],[0.2222222222222222,\"#7201a8\"],[0.3333333333333333,\"#9c179e\"],[0.4444444444444444,\"#bd3786\"],[0.5555555555555556,\"#d8576b\"],[0.6666666666666666,\"#ed7953\"],[0.7777777777777778,\"#fb9f3a\"],[0.8888888888888888,\"#fdca26\"],[1.0,\"#f0f921\"]],\"type\":\"histogram2d\"}],\"histogram2dcontour\":[{\"colorbar\":{\"outlinewidth\":0,\"ticks\":\"\"},\"colorscale\":[[0.0,\"#0d0887\"],[0.1111111111111111,\"#46039f\"],[0.2222222222222222,\"#7201a8\"],[0.3333333333333333,\"#9c179e\"],[0.4444444444444444,\"#bd3786\"],[0.5555555555555556,\"#d8576b\"],[0.6666666666666666,\"#ed7953\"],[0.7777777777777778,\"#fb9f3a\"],[0.8888888888888888,\"#fdca26\"],[1.0,\"#f0f921\"]],\"type\":\"histogram2dcontour\"}],\"mesh3d\":[{\"colorbar\":{\"outlinewidth\":0,\"ticks\":\"\"},\"type\":\"mesh3d\"}],\"parcoords\":[{\"line\":{\"colorbar\":{\"outlinewidth\":0,\"ticks\":\"\"}},\"type\":\"parcoords\"}],\"pie\":[{\"automargin\":true,\"type\":\"pie\"}],\"scatter\":[{\"marker\":{\"colorbar\":{\"outlinewidth\":0,\"ticks\":\"\"}},\"type\":\"scatter\"}],\"scatter3d\":[{\"line\":{\"colorbar\":{\"outlinewidth\":0,\"ticks\":\"\"}},\"marker\":{\"colorbar\":{\"outlinewidth\":0,\"ticks\":\"\"}},\"type\":\"scatter3d\"}],\"scattercarpet\":[{\"marker\":{\"colorbar\":{\"outlinewidth\":0,\"ticks\":\"\"}},\"type\":\"scattercarpet\"}],\"scattergeo\":[{\"marker\":{\"colorbar\":{\"outlinewidth\":0,\"ticks\":\"\"}},\"type\":\"scattergeo\"}],\"scattergl\":[{\"marker\":{\"colorbar\":{\"outlinewidth\":0,\"ticks\":\"\"}},\"type\":\"scattergl\"}],\"scattermapbox\":[{\"marker\":{\"colorbar\":{\"outlinewidth\":0,\"ticks\":\"\"}},\"type\":\"scattermapbox\"}],\"scatterpolar\":[{\"marker\":{\"colorbar\":{\"outlinewidth\":0,\"ticks\":\"\"}},\"type\":\"scatterpolar\"}],\"scatterpolargl\":[{\"marker\":{\"colorbar\":{\"outlinewidth\":0,\"ticks\":\"\"}},\"type\":\"scatterpolargl\"}],\"scatterternary\":[{\"marker\":{\"colorbar\":{\"outlinewidth\":0,\"ticks\":\"\"}},\"type\":\"scatterternary\"}],\"surface\":[{\"colorbar\":{\"outlinewidth\":0,\"ticks\":\"\"},\"colorscale\":[[0.0,\"#0d0887\"],[0.1111111111111111,\"#46039f\"],[0.2222222222222222,\"#7201a8\"],[0.3333333333333333,\"#9c179e\"],[0.4444444444444444,\"#bd3786\"],[0.5555555555555556,\"#d8576b\"],[0.6666666666666666,\"#ed7953\"],[0.7777777777777778,\"#fb9f3a\"],[0.8888888888888888,\"#fdca26\"],[1.0,\"#f0f921\"]],\"type\":\"surface\"}],\"table\":[{\"cells\":{\"fill\":{\"color\":\"#EBF0F8\"},\"line\":{\"color\":\"white\"}},\"header\":{\"fill\":{\"color\":\"#C8D4E3\"},\"line\":{\"color\":\"white\"}},\"type\":\"table\"}]},\"layout\":{\"annotationdefaults\":{\"arrowcolor\":\"#2a3f5f\",\"arrowhead\":0,\"arrowwidth\":1},\"autotypenumbers\":\"strict\",\"coloraxis\":{\"colorbar\":{\"outlinewidth\":0,\"ticks\":\"\"}},\"colorscale\":{\"diverging\":[[0,\"#8e0152\"],[0.1,\"#c51b7d\"],[0.2,\"#de77ae\"],[0.3,\"#f1b6da\"],[0.4,\"#fde0ef\"],[0.5,\"#f7f7f7\"],[0.6,\"#e6f5d0\"],[0.7,\"#b8e186\"],[0.8,\"#7fbc41\"],[0.9,\"#4d9221\"],[1,\"#276419\"]],\"sequential\":[[0.0,\"#0d0887\"],[0.1111111111111111,\"#46039f\"],[0.2222222222222222,\"#7201a8\"],[0.3333333333333333,\"#9c179e\"],[0.4444444444444444,\"#bd3786\"],[0.5555555555555556,\"#d8576b\"],[0.6666666666666666,\"#ed7953\"],[0.7777777777777778,\"#fb9f3a\"],[0.8888888888888888,\"#fdca26\"],[1.0,\"#f0f921\"]],\"sequentialminus\":[[0.0,\"#0d0887\"],[0.1111111111111111,\"#46039f\"],[0.2222222222222222,\"#7201a8\"],[0.3333333333333333,\"#9c179e\"],[0.4444444444444444,\"#bd3786\"],[0.5555555555555556,\"#d8576b\"],[0.6666666666666666,\"#ed7953\"],[0.7777777777777778,\"#fb9f3a\"],[0.8888888888888888,\"#fdca26\"],[1.0,\"#f0f921\"]]},\"colorway\":[\"#636efa\",\"#EF553B\",\"#00cc96\",\"#ab63fa\",\"#FFA15A\",\"#19d3f3\",\"#FF6692\",\"#B6E880\",\"#FF97FF\",\"#FECB52\"],\"font\":{\"color\":\"#2a3f5f\"},\"geo\":{\"bgcolor\":\"white\",\"lakecolor\":\"white\",\"landcolor\":\"#E5ECF6\",\"showlakes\":true,\"showland\":true,\"subunitcolor\":\"white\"},\"hoverlabel\":{\"align\":\"left\"},\"hovermode\":\"closest\",\"mapbox\":{\"style\":\"light\"},\"paper_bgcolor\":\"white\",\"plot_bgcolor\":\"#E5ECF6\",\"polar\":{\"angularaxis\":{\"gridcolor\":\"white\",\"linecolor\":\"white\",\"ticks\":\"\"},\"bgcolor\":\"#E5ECF6\",\"radialaxis\":{\"gridcolor\":\"white\",\"linecolor\":\"white\",\"ticks\":\"\"}},\"scene\":{\"xaxis\":{\"backgroundcolor\":\"#E5ECF6\",\"gridcolor\":\"white\",\"gridwidth\":2,\"linecolor\":\"white\",\"showbackground\":true,\"ticks\":\"\",\"zerolinecolor\":\"white\"},\"yaxis\":{\"backgroundcolor\":\"#E5ECF6\",\"gridcolor\":\"white\",\"gridwidth\":2,\"linecolor\":\"white\",\"showbackground\":true,\"ticks\":\"\",\"zerolinecolor\":\"white\"},\"zaxis\":{\"backgroundcolor\":\"#E5ECF6\",\"gridcolor\":\"white\",\"gridwidth\":2,\"linecolor\":\"white\",\"showbackground\":true,\"ticks\":\"\",\"zerolinecolor\":\"white\"}},\"shapedefaults\":{\"line\":{\"color\":\"#2a3f5f\"}},\"ternary\":{\"aaxis\":{\"gridcolor\":\"white\",\"linecolor\":\"white\",\"ticks\":\"\"},\"baxis\":{\"gridcolor\":\"white\",\"linecolor\":\"white\",\"ticks\":\"\"},\"bgcolor\":\"#E5ECF6\",\"caxis\":{\"gridcolor\":\"white\",\"linecolor\":\"white\",\"ticks\":\"\"}},\"title\":{\"x\":0.05},\"xaxis\":{\"automargin\":true,\"gridcolor\":\"white\",\"linecolor\":\"white\",\"ticks\":\"\",\"title\":{\"standoff\":15},\"zerolinecolor\":\"white\",\"zerolinewidth\":2},\"yaxis\":{\"automargin\":true,\"gridcolor\":\"white\",\"linecolor\":\"white\",\"ticks\":\"\",\"title\":{\"standoff\":15},\"zerolinecolor\":\"white\",\"zerolinewidth\":2}}},\"xaxis\":{\"anchor\":\"y\",\"domain\":[0.0,1.0],\"title\":{\"text\":\"BOVA\"}},\"yaxis\":{\"anchor\":\"x\",\"domain\":[0.0,1.0],\"title\":{\"text\":\"ABEV\"}},\"legend\":{\"tracegroupgap\":0},\"title\":{\"text\":\"BOVA x ABEV\"}},                        {\"responsive\": true}                    ).then(function(){\n",
              "                            \n",
              "var gd = document.getElementById('79f3bb8b-24ad-4d31-90e0-e1a8c22adf8a');\n",
              "var x = new MutationObserver(function (mutations, observer) {{\n",
              "        var display = window.getComputedStyle(gd).display;\n",
              "        if (!display || display === 'none') {{\n",
              "            console.log([gd, 'removed!']);\n",
              "            Plotly.purge(gd);\n",
              "            observer.disconnect();\n",
              "        }}\n",
              "}});\n",
              "\n",
              "// Listen for the removal of the full notebook cells\n",
              "var notebookContainer = gd.closest('#notebook-container');\n",
              "if (notebookContainer) {{\n",
              "    x.observe(notebookContainer, {childList: true});\n",
              "}}\n",
              "\n",
              "// Listen for the clearing of the current output cell\n",
              "var outputEl = gd.closest('.output');\n",
              "if (outputEl) {{\n",
              "    x.observe(outputEl, {childList: true});\n",
              "}}\n",
              "\n",
              "                        })                };                            </script>        </div>\n",
              "</body>\n",
              "</html>"
            ]
          },
          "metadata": {}
        }
      ]
    },
    {
      "cell_type": "markdown",
      "source": [
        "BETA com covariância e variância"
      ],
      "metadata": {
        "id": "56uc20jeRYbe"
      }
    },
    {
      "cell_type": "code",
      "source": [
        "matriz_covariancia = dataset_taxa_retorno.drop(columns = ['ODPV', 'CCR', 'PETBR', 'BB']).cov() * 246\n",
        "matriz_covariancia"
      ],
      "metadata": {
        "colab": {
          "base_uri": "https://localhost:8080/",
          "height": 112
        },
        "id": "4WpZO65SRZOR",
        "outputId": "3ec489ed-e35f-41d0-adb4-1464e459d03a"
      },
      "execution_count": null,
      "outputs": [
        {
          "output_type": "execute_result",
          "data": {
            "text/plain": [
              "          ABEV      BOVA\n",
              "ABEV  0.074826  0.039411\n",
              "BOVA  0.039411  0.065767"
            ],
            "text/html": [
              "\n",
              "  <div id=\"df-58091314-c0ac-483b-abff-cb883aea826e\">\n",
              "    <div class=\"colab-df-container\">\n",
              "      <div>\n",
              "<style scoped>\n",
              "    .dataframe tbody tr th:only-of-type {\n",
              "        vertical-align: middle;\n",
              "    }\n",
              "\n",
              "    .dataframe tbody tr th {\n",
              "        vertical-align: top;\n",
              "    }\n",
              "\n",
              "    .dataframe thead th {\n",
              "        text-align: right;\n",
              "    }\n",
              "</style>\n",
              "<table border=\"1\" class=\"dataframe\">\n",
              "  <thead>\n",
              "    <tr style=\"text-align: right;\">\n",
              "      <th></th>\n",
              "      <th>ABEV</th>\n",
              "      <th>BOVA</th>\n",
              "    </tr>\n",
              "  </thead>\n",
              "  <tbody>\n",
              "    <tr>\n",
              "      <th>ABEV</th>\n",
              "      <td>0.074826</td>\n",
              "      <td>0.039411</td>\n",
              "    </tr>\n",
              "    <tr>\n",
              "      <th>BOVA</th>\n",
              "      <td>0.039411</td>\n",
              "      <td>0.065767</td>\n",
              "    </tr>\n",
              "  </tbody>\n",
              "</table>\n",
              "</div>\n",
              "      <button class=\"colab-df-convert\" onclick=\"convertToInteractive('df-58091314-c0ac-483b-abff-cb883aea826e')\"\n",
              "              title=\"Convert this dataframe to an interactive table.\"\n",
              "              style=\"display:none;\">\n",
              "        \n",
              "  <svg xmlns=\"http://www.w3.org/2000/svg\" height=\"24px\"viewBox=\"0 0 24 24\"\n",
              "       width=\"24px\">\n",
              "    <path d=\"M0 0h24v24H0V0z\" fill=\"none\"/>\n",
              "    <path d=\"M18.56 5.44l.94 2.06.94-2.06 2.06-.94-2.06-.94-.94-2.06-.94 2.06-2.06.94zm-11 1L8.5 8.5l.94-2.06 2.06-.94-2.06-.94L8.5 2.5l-.94 2.06-2.06.94zm10 10l.94 2.06.94-2.06 2.06-.94-2.06-.94-.94-2.06-.94 2.06-2.06.94z\"/><path d=\"M17.41 7.96l-1.37-1.37c-.4-.4-.92-.59-1.43-.59-.52 0-1.04.2-1.43.59L10.3 9.45l-7.72 7.72c-.78.78-.78 2.05 0 2.83L4 21.41c.39.39.9.59 1.41.59.51 0 1.02-.2 1.41-.59l7.78-7.78 2.81-2.81c.8-.78.8-2.07 0-2.86zM5.41 20L4 18.59l7.72-7.72 1.47 1.35L5.41 20z\"/>\n",
              "  </svg>\n",
              "      </button>\n",
              "      \n",
              "  <style>\n",
              "    .colab-df-container {\n",
              "      display:flex;\n",
              "      flex-wrap:wrap;\n",
              "      gap: 12px;\n",
              "    }\n",
              "\n",
              "    .colab-df-convert {\n",
              "      background-color: #E8F0FE;\n",
              "      border: none;\n",
              "      border-radius: 50%;\n",
              "      cursor: pointer;\n",
              "      display: none;\n",
              "      fill: #1967D2;\n",
              "      height: 32px;\n",
              "      padding: 0 0 0 0;\n",
              "      width: 32px;\n",
              "    }\n",
              "\n",
              "    .colab-df-convert:hover {\n",
              "      background-color: #E2EBFA;\n",
              "      box-shadow: 0px 1px 2px rgba(60, 64, 67, 0.3), 0px 1px 3px 1px rgba(60, 64, 67, 0.15);\n",
              "      fill: #174EA6;\n",
              "    }\n",
              "\n",
              "    [theme=dark] .colab-df-convert {\n",
              "      background-color: #3B4455;\n",
              "      fill: #D2E3FC;\n",
              "    }\n",
              "\n",
              "    [theme=dark] .colab-df-convert:hover {\n",
              "      background-color: #434B5C;\n",
              "      box-shadow: 0px 1px 3px 1px rgba(0, 0, 0, 0.15);\n",
              "      filter: drop-shadow(0px 1px 2px rgba(0, 0, 0, 0.3));\n",
              "      fill: #FFFFFF;\n",
              "    }\n",
              "  </style>\n",
              "\n",
              "      <script>\n",
              "        const buttonEl =\n",
              "          document.querySelector('#df-58091314-c0ac-483b-abff-cb883aea826e button.colab-df-convert');\n",
              "        buttonEl.style.display =\n",
              "          google.colab.kernel.accessAllowed ? 'block' : 'none';\n",
              "\n",
              "        async function convertToInteractive(key) {\n",
              "          const element = document.querySelector('#df-58091314-c0ac-483b-abff-cb883aea826e');\n",
              "          const dataTable =\n",
              "            await google.colab.kernel.invokeFunction('convertToInteractive',\n",
              "                                                     [key], {});\n",
              "          if (!dataTable) return;\n",
              "\n",
              "          const docLinkHtml = 'Like what you see? Visit the ' +\n",
              "            '<a target=\"_blank\" href=https://colab.research.google.com/notebooks/data_table.ipynb>data table notebook</a>'\n",
              "            + ' to learn more about interactive tables.';\n",
              "          element.innerHTML = '';\n",
              "          dataTable['output_type'] = 'display_data';\n",
              "          await google.colab.output.renderOutput(dataTable, element);\n",
              "          const docLink = document.createElement('div');\n",
              "          docLink.innerHTML = docLinkHtml;\n",
              "          element.appendChild(docLink);\n",
              "        }\n",
              "      </script>\n",
              "    </div>\n",
              "  </div>\n",
              "  "
            ]
          },
          "metadata": {},
          "execution_count": 18
        }
      ]
    },
    {
      "cell_type": "code",
      "source": [
        "cov_ABEV_bova = matriz_covariancia.iloc[1, 0]\n",
        "cov_ABEV_bova"
      ],
      "metadata": {
        "colab": {
          "base_uri": "https://localhost:8080/"
        },
        "id": "9qBLzclPRorC",
        "outputId": "1d1a5656-c42f-4ba4-9842-482b9fa42f19"
      },
      "execution_count": null,
      "outputs": [
        {
          "output_type": "execute_result",
          "data": {
            "text/plain": [
              "0.03941070113207263"
            ]
          },
          "metadata": {},
          "execution_count": 19
        }
      ]
    },
    {
      "cell_type": "code",
      "source": [
        "variancia_bova = dataset_taxa_retorno['BOVA'].var() * 246\n",
        "variancia_bova"
      ],
      "metadata": {
        "colab": {
          "base_uri": "https://localhost:8080/"
        },
        "id": "RSvmnIP3Rv5d",
        "outputId": "bbf51ee1-66aa-4c10-9d52-5b9a9f22f52c"
      },
      "execution_count": null,
      "outputs": [
        {
          "output_type": "execute_result",
          "data": {
            "text/plain": [
              "0.06576730639891441"
            ]
          },
          "metadata": {},
          "execution_count": 20
        }
      ]
    },
    {
      "cell_type": "code",
      "source": [
        "beta_ABEV = cov_ABEV_bova / variancia_bova\n",
        "beta_ABEV"
      ],
      "metadata": {
        "colab": {
          "base_uri": "https://localhost:8080/"
        },
        "id": "hmvrK2VCR0GL",
        "outputId": "776aaae6-577b-422c-9d74-f19a8cd26fa1"
      },
      "execution_count": null,
      "outputs": [
        {
          "output_type": "execute_result",
          "data": {
            "text/plain": [
              "0.5992445683121844"
            ]
          },
          "metadata": {},
          "execution_count": 21
        }
      ]
    },
    {
      "cell_type": "markdown",
      "source": [
        "Cálculo CAPM para uma ação"
      ],
      "metadata": {
        "id": "91ITb4RLSBC9"
      }
    },
    {
      "cell_type": "code",
      "source": [
        "rm = dataset_taxa_retorno['BOVA'].mean() * 246\n",
        "rm"
      ],
      "metadata": {
        "colab": {
          "base_uri": "https://localhost:8080/"
        },
        "id": "22YWDQJTSBgF",
        "outputId": "26970572-d0d8-43c8-f85e-bf57a8d36e04"
      },
      "execution_count": 16,
      "outputs": [
        {
          "output_type": "execute_result",
          "data": {
            "text/plain": [
              "0.13913499108701133"
            ]
          },
          "metadata": {},
          "execution_count": 16
        }
      ]
    },
    {
      "cell_type": "code",
      "source": [
        "taxa_selic_historico = np.array([12.75, 14.25, 12.25, 6.5, 5.0, 2.0])\n",
        "rf = taxa_selic_historico.mean() / 100\n",
        "rf"
      ],
      "metadata": {
        "colab": {
          "base_uri": "https://localhost:8080/"
        },
        "id": "LedMiQimSGhZ",
        "outputId": "00dcb867-3db3-43fd-ccff-bf6ba400671e"
      },
      "execution_count": 17,
      "outputs": [
        {
          "output_type": "execute_result",
          "data": {
            "text/plain": [
              "0.08791666666666666"
            ]
          },
          "metadata": {},
          "execution_count": 17
        }
      ]
    },
    {
      "cell_type": "code",
      "source": [
        "capm_ABEV = rf + (beta * (rm - rf))\n",
        "capm_ABEV"
      ],
      "metadata": {
        "colab": {
          "base_uri": "https://localhost:8080/"
        },
        "id": "rO_gwtKWSJF_",
        "outputId": "7e975ae3-f8b2-45a0-b68b-551c2340613a"
      },
      "execution_count": null,
      "outputs": [
        {
          "output_type": "execute_result",
          "data": {
            "text/plain": [
              "0.11860896937360954"
            ]
          },
          "metadata": {},
          "execution_count": 24
        }
      ]
    },
    {
      "cell_type": "markdown",
      "source": [
        "Portanto, para o investidor que alocar capital na ação da Ambev ganhará 11% de retorno para ser recompensado pelo risco de mercado de investir nesta ação."
      ],
      "metadata": {
        "id": "2Gk9lpJQtyw3"
      }
    },
    {
      "cell_type": "markdown",
      "source": [
        "Cálculo do BETA para todas as ações"
      ],
      "metadata": {
        "id": "tHAazg4yujLy"
      }
    },
    {
      "cell_type": "code",
      "source": [
        "betas = []\n",
        "alphas = []\n",
        "for ativo in dataset_taxa_retorno.columns[0:-1]:\n",
        "  #print(ativo)\n",
        "  beta, alpha = np.polyfit(dataset_taxa_retorno['BOVA'], dataset_taxa_retorno[ativo], 1)\n",
        "  betas.append(beta)\n",
        "  alphas.append(alpha)"
      ],
      "metadata": {
        "id": "LVCYAFL4umRv"
      },
      "execution_count": 12,
      "outputs": []
    },
    {
      "cell_type": "code",
      "source": [
        "def visualiza_betas_alphas(betas, alphas):\n",
        "  for i, ativo in enumerate(dataset_taxa_retorno.columns[0:-1]):\n",
        "    #print(i, ativo)\n",
        "    print(ativo, 'beta:', betas[i], 'alpha:', alphas[i] * 100)"
      ],
      "metadata": {
        "id": "dwnIj7Vyvk_D"
      },
      "execution_count": 13,
      "outputs": []
    },
    {
      "cell_type": "code",
      "source": [
        "np.array(alphas).mean() * 100"
      ],
      "metadata": {
        "colab": {
          "base_uri": "https://localhost:8080/"
        },
        "id": "kB9WsDx8vo4g",
        "outputId": "b40a8f5c-428a-417b-cd3a-92f708709b95"
      },
      "execution_count": 14,
      "outputs": [
        {
          "output_type": "execute_result",
          "data": {
            "text/plain": [
              "-0.005749600490853083"
            ]
          },
          "metadata": {},
          "execution_count": 14
        }
      ]
    },
    {
      "cell_type": "markdown",
      "source": [
        "Calculo do CAPM para o portfólio"
      ],
      "metadata": {
        "id": "FmeVZjbTv1M1"
      }
    },
    {
      "cell_type": "code",
      "source": [
        "capm_empresas = []\n",
        "for i, ativo in enumerate(dataset_taxa_retorno.columns[0:-1]):\n",
        "  #print(i, ativo)\n",
        "  capm_empresas.append(rf + (betas[i] * (rm - rf)))"
      ],
      "metadata": {
        "id": "2nMtZVl7v5xu"
      },
      "execution_count": 18,
      "outputs": []
    },
    {
      "cell_type": "code",
      "source": [
        "capm_empresas"
      ],
      "metadata": {
        "colab": {
          "base_uri": "https://localhost:8080/"
        },
        "id": "IyF7ILcQwKHa",
        "outputId": "5d0c3c2e-aff5-4c7a-8c20-57298f7ab094"
      },
      "execution_count": 19,
      "outputs": [
        {
          "output_type": "execute_result",
          "data": {
            "text/plain": [
              "[0.11860896937360954,\n",
              " 0.11062227393944903,\n",
              " 0.1420634850227419,\n",
              " 0.1633552994500344,\n",
              " 0.15560085962058803]"
            ]
          },
          "metadata": {},
          "execution_count": 19
        }
      ]
    },
    {
      "cell_type": "code",
      "source": [
        "def visualiza_capm(capm):\n",
        "  for i, ativo in enumerate(dataset_taxa_retorno.columns[0:-1]):\n",
        "    print(ativo, 'CAPM:', capm[i] * 100)"
      ],
      "metadata": {
        "id": "Lr6yOKf7wNDZ"
      },
      "execution_count": 20,
      "outputs": []
    },
    {
      "cell_type": "code",
      "source": [
        "visualiza_capm(capm_empresas)"
      ],
      "metadata": {
        "colab": {
          "base_uri": "https://localhost:8080/"
        },
        "id": "_sG_VvLHwQk4",
        "outputId": "87849cc2-0d80-40bc-8038-b89160a7bd84"
      },
      "execution_count": 21,
      "outputs": [
        {
          "output_type": "stream",
          "name": "stdout",
          "text": [
            "ABEV CAPM: 11.860896937360954\n",
            "ODPV CAPM: 11.062227393944903\n",
            "CCR CAPM: 14.20634850227419\n",
            "PETBR CAPM: 16.33552994500344\n",
            "BB CAPM: 15.560085962058803\n"
          ]
        }
      ]
    },
    {
      "cell_type": "code",
      "source": [
        "pesos = np.array([0.2, 0.2, 0.2, 0.2, 0.2])"
      ],
      "metadata": {
        "id": "IBv6bcSewVVq"
      },
      "execution_count": 22,
      "outputs": []
    },
    {
      "cell_type": "code",
      "source": [
        "capm_portfolio = np.sum(capm_empresas * pesos) * 100\n",
        "capm_portfolio"
      ],
      "metadata": {
        "colab": {
          "base_uri": "https://localhost:8080/"
        },
        "id": "95kUUothwctx",
        "outputId": "e994d57d-07b4-4d97-d2d9-88314c09b7b7"
      },
      "execution_count": 23,
      "outputs": [
        {
          "output_type": "execute_result",
          "data": {
            "text/plain": [
              "13.80501774812846"
            ]
          },
          "metadata": {},
          "execution_count": 23
        }
      ]
    },
    {
      "cell_type": "markdown",
      "source": [
        "Logo, o investidor que alocar capital neste portfólio, deverá receber 13,8% de retorno para ser compensado pelo risco de mercado de investir neste relatório."
      ],
      "metadata": {
        "id": "lr6in-VEwsX7"
      }
    }
  ]
}